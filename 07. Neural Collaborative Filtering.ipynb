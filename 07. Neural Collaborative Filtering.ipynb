{
 "cells": [
  {
   "cell_type": "markdown",
   "metadata": {
    "id": "IF2lN7b3KxIM"
   },
   "source": [
    "- [논문](https://arxiv.org/pdf/1708.05031.pdf)\n",
    "- [저자 코드](https://github.com/hexiangnan/neural_collaborative_filtering)\n",
    "- 두가지 방식\n",
    "    - 논문 방식 : 0과 1로 user-item interaction으로 matrix을 나타내고 학습\n",
    "    - 다른 방식 : rating을 직접 예측하고, loss를 구해보는 것"
   ]
  },
  {
   "cell_type": "markdown",
   "metadata": {},
   "source": [
    "- 아래의 코드는 rating을 예측"
   ]
  },
  {
   "cell_type": "markdown",
   "metadata": {},
   "source": [
    "- 논문:  user latent vector + item latent vector\n",
    "- 새롭게 생각할 수 있는 방법: user latent vector + item latent vector + etc vector (예시) meta information "
   ]
  },
  {
   "cell_type": "code",
   "execution_count": 1,
   "metadata": {
    "id": "9BUxy0TqJpIZ"
   },
   "outputs": [],
   "source": [
    "import os\n",
    "import pandas as pd\n",
    "import numpy as np\n",
    "from matplotlib import pyplot as plt\n",
    "from sklearn.model_selection import train_test_split\n",
    "\n",
    "import math\n",
    "from torch import nn, optim\n",
    "import torch\n",
    "import torch.nn.functional as F\n",
    "from torch.autograd import Variable\n",
    "\n",
    "from tqdm import tqdm\n",
    "import warnings\n",
    "warnings.filterwarnings(\"ignore\")"
   ]
  },
  {
   "cell_type": "markdown",
   "metadata": {},
   "source": [
    "---"
   ]
  },
  {
   "cell_type": "code",
   "execution_count": 2,
   "metadata": {
    "id": "_ddZzgIiMMZK"
   },
   "outputs": [],
   "source": [
    "data_path = './movielens_data'"
   ]
  },
  {
   "cell_type": "code",
   "execution_count": 3,
   "metadata": {
    "id": "5MzgHnp4JpIg"
   },
   "outputs": [],
   "source": [
    "def read_data(data_path):\n",
    "    df = pd.read_csv(os.path.join(data_path,'ratings.csv'))\n",
    "    train_df, val_df = train_test_split(df, test_size=0.2, random_state=1234, shuffle=True)\n",
    "    return train_df, val_df"
   ]
  },
  {
   "cell_type": "code",
   "execution_count": 4,
   "metadata": {
    "id": "VZ8oc1G-NYsO"
   },
   "outputs": [],
   "source": [
    "train_df, val_df = read_data(data_path)"
   ]
  },
  {
   "cell_type": "code",
   "execution_count": 5,
   "metadata": {
    "id": "DsohSsCHNeXx"
   },
   "outputs": [
    {
     "name": "stdout",
     "output_type": "stream",
     "text": [
      "(80668, 4)\n"
     ]
    },
    {
     "data": {
      "text/html": [
       "<div>\n",
       "<style scoped>\n",
       "    .dataframe tbody tr th:only-of-type {\n",
       "        vertical-align: middle;\n",
       "    }\n",
       "\n",
       "    .dataframe tbody tr th {\n",
       "        vertical-align: top;\n",
       "    }\n",
       "\n",
       "    .dataframe thead th {\n",
       "        text-align: right;\n",
       "    }\n",
       "</style>\n",
       "<table border=\"1\" class=\"dataframe\">\n",
       "  <thead>\n",
       "    <tr style=\"text-align: right;\">\n",
       "      <th></th>\n",
       "      <th>userId</th>\n",
       "      <th>movieId</th>\n",
       "      <th>rating</th>\n",
       "      <th>timestamp</th>\n",
       "    </tr>\n",
       "  </thead>\n",
       "  <tbody>\n",
       "    <tr>\n",
       "      <th>95713</th>\n",
       "      <td>600</td>\n",
       "      <td>5943</td>\n",
       "      <td>3.0</td>\n",
       "      <td>1237714356</td>\n",
       "    </tr>\n",
       "    <tr>\n",
       "      <th>61560</th>\n",
       "      <td>407</td>\n",
       "      <td>2571</td>\n",
       "      <td>5.0</td>\n",
       "      <td>1424349171</td>\n",
       "    </tr>\n",
       "    <tr>\n",
       "      <th>77204</th>\n",
       "      <td>482</td>\n",
       "      <td>8958</td>\n",
       "      <td>4.0</td>\n",
       "      <td>1105397126</td>\n",
       "    </tr>\n",
       "    <tr>\n",
       "      <th>93367</th>\n",
       "      <td>599</td>\n",
       "      <td>2322</td>\n",
       "      <td>2.5</td>\n",
       "      <td>1498515283</td>\n",
       "    </tr>\n",
       "    <tr>\n",
       "      <th>90892</th>\n",
       "      <td>590</td>\n",
       "      <td>2959</td>\n",
       "      <td>3.5</td>\n",
       "      <td>1258416553</td>\n",
       "    </tr>\n",
       "  </tbody>\n",
       "</table>\n",
       "</div>"
      ],
      "text/plain": [
       "       userId  movieId  rating   timestamp\n",
       "95713     600     5943     3.0  1237714356\n",
       "61560     407     2571     5.0  1424349171\n",
       "77204     482     8958     4.0  1105397126\n",
       "93367     599     2322     2.5  1498515283\n",
       "90892     590     2959     3.5  1258416553"
      ]
     },
     "execution_count": 5,
     "metadata": {},
     "output_type": "execute_result"
    }
   ],
   "source": [
    "print(train_df.shape)\n",
    "train_df.head()"
   ]
  },
  {
   "cell_type": "code",
   "execution_count": 6,
   "metadata": {
    "id": "e8qwa_0RNf_z"
   },
   "outputs": [
    {
     "data": {
      "text/plain": [
       "(20168, 4)"
      ]
     },
     "execution_count": 6,
     "metadata": {},
     "output_type": "execute_result"
    }
   ],
   "source": [
    "val_df.shape"
   ]
  },
  {
   "cell_type": "code",
   "execution_count": 7,
   "metadata": {
    "id": "ut8hvxxRJpIg"
   },
   "outputs": [
    {
     "data": {
      "text/plain": [
       "<AxesSubplot:>"
      ]
     },
     "execution_count": 7,
     "metadata": {},
     "output_type": "execute_result"
    },
    {
     "data": {
      "image/png": "[encoded data removed]",
      "text/plain": [
       "<Figure size 864x504 with 2 Axes>"
      ]
     },
     "metadata": {
      "needs_background": "light"
     },
     "output_type": "display_data"
    }
   ],
   "source": [
    "# 데이터의 편차가 심함\n",
    "fig, ax = plt.subplots(1, 2, sharex='col', sharey='row', figsize=(12,7))\n",
    "ax = ax.ravel()\n",
    "\n",
    "train_df['rating'].hist(ax=ax[0])\n",
    "val_df['rating'].hist(ax=ax[1])"
   ]
  },
  {
   "cell_type": "code",
   "execution_count": 8,
   "metadata": {
    "id": "ochDMXb5JpIi"
   },
   "outputs": [
    {
     "data": {
      "text/plain": [
       "count    80668.000000\n",
       "mean         3.503130\n",
       "std          1.041525\n",
       "min          0.500000\n",
       "25%          3.000000\n",
       "50%          3.500000\n",
       "75%          4.000000\n",
       "max          5.000000\n",
       "Name: rating, dtype: float64"
      ]
     },
     "execution_count": 8,
     "metadata": {},
     "output_type": "execute_result"
    }
   ],
   "source": [
    "train_df['rating'].describe()"
   ]
  },
  {
   "cell_type": "code",
   "execution_count": 9,
   "metadata": {},
   "outputs": [],
   "source": [
    "# Load all related dataframe\n",
    "movies_df = pd.read_csv(os.path.join(data_path, 'movies.csv'), encoding='utf-8')\n",
    "movies_df = movies_df.set_index('movieId')"
   ]
  },
  {
   "cell_type": "code",
   "execution_count": 10,
   "metadata": {},
   "outputs": [
    {
     "data": {
      "text/html": [
       "<div>\n",
       "<style scoped>\n",
       "    .dataframe tbody tr th:only-of-type {\n",
       "        vertical-align: middle;\n",
       "    }\n",
       "\n",
       "    .dataframe tbody tr th {\n",
       "        vertical-align: top;\n",
       "    }\n",
       "\n",
       "    .dataframe thead th {\n",
       "        text-align: right;\n",
       "    }\n",
       "</style>\n",
       "<table border=\"1\" class=\"dataframe\">\n",
       "  <thead>\n",
       "    <tr style=\"text-align: right;\">\n",
       "      <th></th>\n",
       "      <th>title</th>\n",
       "      <th>genres</th>\n",
       "    </tr>\n",
       "    <tr>\n",
       "      <th>movieId</th>\n",
       "      <th></th>\n",
       "      <th></th>\n",
       "    </tr>\n",
       "  </thead>\n",
       "  <tbody>\n",
       "    <tr>\n",
       "      <th>1</th>\n",
       "      <td>Toy Story (1995)</td>\n",
       "      <td>Adventure|Animation|Children|Comedy|Fantasy</td>\n",
       "    </tr>\n",
       "    <tr>\n",
       "      <th>2</th>\n",
       "      <td>Jumanji (1995)</td>\n",
       "      <td>Adventure|Children|Fantasy</td>\n",
       "    </tr>\n",
       "    <tr>\n",
       "      <th>3</th>\n",
       "      <td>Grumpier Old Men (1995)</td>\n",
       "      <td>Comedy|Romance</td>\n",
       "    </tr>\n",
       "    <tr>\n",
       "      <th>4</th>\n",
       "      <td>Waiting to Exhale (1995)</td>\n",
       "      <td>Comedy|Drama|Romance</td>\n",
       "    </tr>\n",
       "    <tr>\n",
       "      <th>5</th>\n",
       "      <td>Father of the Bride Part II (1995)</td>\n",
       "      <td>Comedy</td>\n",
       "    </tr>\n",
       "    <tr>\n",
       "      <th>...</th>\n",
       "      <td>...</td>\n",
       "      <td>...</td>\n",
       "    </tr>\n",
       "    <tr>\n",
       "      <th>193581</th>\n",
       "      <td>Black Butler: Book of the Atlantic (2017)</td>\n",
       "      <td>Action|Animation|Comedy|Fantasy</td>\n",
       "    </tr>\n",
       "    <tr>\n",
       "      <th>193583</th>\n",
       "      <td>No Game No Life: Zero (2017)</td>\n",
       "      <td>Animation|Comedy|Fantasy</td>\n",
       "    </tr>\n",
       "    <tr>\n",
       "      <th>193585</th>\n",
       "      <td>Flint (2017)</td>\n",
       "      <td>Drama</td>\n",
       "    </tr>\n",
       "    <tr>\n",
       "      <th>193587</th>\n",
       "      <td>Bungo Stray Dogs: Dead Apple (2018)</td>\n",
       "      <td>Action|Animation</td>\n",
       "    </tr>\n",
       "    <tr>\n",
       "      <th>193609</th>\n",
       "      <td>Andrew Dice Clay: Dice Rules (1991)</td>\n",
       "      <td>Comedy</td>\n",
       "    </tr>\n",
       "  </tbody>\n",
       "</table>\n",
       "<p>9742 rows × 2 columns</p>\n",
       "</div>"
      ],
      "text/plain": [
       "                                             title  \\\n",
       "movieId                                              \n",
       "1                                 Toy Story (1995)   \n",
       "2                                   Jumanji (1995)   \n",
       "3                          Grumpier Old Men (1995)   \n",
       "4                         Waiting to Exhale (1995)   \n",
       "5               Father of the Bride Part II (1995)   \n",
       "...                                            ...   \n",
       "193581   Black Butler: Book of the Atlantic (2017)   \n",
       "193583                No Game No Life: Zero (2017)   \n",
       "193585                                Flint (2017)   \n",
       "193587         Bungo Stray Dogs: Dead Apple (2018)   \n",
       "193609         Andrew Dice Clay: Dice Rules (1991)   \n",
       "\n",
       "                                              genres  \n",
       "movieId                                               \n",
       "1        Adventure|Animation|Children|Comedy|Fantasy  \n",
       "2                         Adventure|Children|Fantasy  \n",
       "3                                     Comedy|Romance  \n",
       "4                               Comedy|Drama|Romance  \n",
       "5                                             Comedy  \n",
       "...                                              ...  \n",
       "193581               Action|Animation|Comedy|Fantasy  \n",
       "193583                      Animation|Comedy|Fantasy  \n",
       "193585                                         Drama  \n",
       "193587                              Action|Animation  \n",
       "193609                                        Comedy  \n",
       "\n",
       "[9742 rows x 2 columns]"
      ]
     },
     "execution_count": 10,
     "metadata": {},
     "output_type": "execute_result"
    }
   ],
   "source": [
    "movies_df"
   ]
  },
  {
   "cell_type": "code",
   "execution_count": 11,
   "metadata": {
    "id": "cSfHpEHpJpIi"
   },
   "outputs": [],
   "source": [
    "# 영화 데이터의 메타 정보를 확인한다\n",
    "movieName_dict = movies_df.to_dict()['title']\n",
    "genres_dict = movies_df.to_dict()['genres']"
   ]
  },
  {
   "cell_type": "code",
   "execution_count": 12,
   "metadata": {
    "id": "IvnmEfzMJpIj"
   },
   "outputs": [
    {
     "data": {
      "text/plain": [
       "movieId\n",
       "1         Adventure|Animation|Children|Comedy|Fantasy\n",
       "2                          Adventure|Children|Fantasy\n",
       "3                                      Comedy|Romance\n",
       "4                                Comedy|Drama|Romance\n",
       "5                                              Comedy\n",
       "                             ...                     \n",
       "193581                Action|Animation|Comedy|Fantasy\n",
       "193583                       Animation|Comedy|Fantasy\n",
       "193585                                          Drama\n",
       "193587                               Action|Animation\n",
       "193609                                         Comedy\n",
       "Name: genres, Length: 9742, dtype: object"
      ]
     },
     "execution_count": 12,
     "metadata": {},
     "output_type": "execute_result"
    }
   ],
   "source": [
    "movies_df['genres']"
   ]
  },
  {
   "cell_type": "code",
   "execution_count": 13,
   "metadata": {
    "id": "E3bh5SEJJpIl"
   },
   "outputs": [],
   "source": [
    "class DatasetLoader:\n",
    "    def __init__(self, data_path):\n",
    "        self.train_df, val_temp_df = read_data(data_path)\n",
    "\n",
    "        self.min_rating = min(self.train_df.rating)\n",
    "        self.max_rating = self.train_df.rating.max()\n",
    "        \n",
    "        # 유저 dict\n",
    "        self.unique_users = self.train_df.userId.unique()\n",
    "        self.num_users = len(self.unique_users)\n",
    "        self.user_to_index = {original: idx for idx, original in enumerate(self.unique_users)}\n",
    "        \n",
    "        # 아이템 dict\n",
    "        self.unique_movies = self.train_df.movieId.unique()\n",
    "        self.num_movies = len(self.unique_movies)\n",
    "        self.movie_to_index = {original: idx for idx, original in enumerate(self.unique_movies)}\n",
    "\n",
    "        self.val_df = val_temp_df[val_temp_df.userId.isin(self.unique_users) & val_temp_df.movieId.isin(self.unique_movies)]\n",
    "\n",
    "    def generate_trainset(self):\n",
    "        # user 0, 0, 0, 1,2, 3,3, -> movie: 0,0,0,0,0,0,\n",
    "        X_train = pd.DataFrame({'user': self.train_df.userId.map(self.user_to_index),\n",
    "                     'movie': self.train_df.movieId.map(self.movie_to_index)})\n",
    "        y_train = self.train_df['rating'].astype(np.float32)\n",
    "\n",
    "        return X_train, y_train\n",
    "\n",
    "    def generate_valset(self):\n",
    "        X_val = pd.DataFrame({'user': self.val_df.userId.map(self.user_to_index),\n",
    "                              'movie': self.val_df.movieId.map(self.movie_to_index)})\n",
    "        y_val = self.val_df['rating'].astype(np.float32)\n",
    "        return X_val, y_val"
   ]
  },
  {
   "cell_type": "code",
   "execution_count": 14,
   "metadata": {
    "id": "1QAZm2wQJpIm"
   },
   "outputs": [],
   "source": [
    "class FeedForwardEmbedNN(nn.Module):\n",
    "\n",
    "    def __init__(self, n_users, n_movies, hidden, dropouts, n_factors, embedding_dropout):\n",
    "        super().__init__()\n",
    "        self.user_emb = nn.Embedding(n_users, n_factors)\n",
    "        self.movie_emb = nn.Embedding(n_movies, n_factors)\n",
    "        self.drop = nn.Dropout(embedding_dropout)\n",
    "        self.hidden_layers = nn.Sequential(*list(self.generate_layers(n_factors*2, hidden, dropouts)))\n",
    "        self.fc = nn.Linear(hidden[-1], 1)\n",
    "\n",
    "    def generate_layers(self, n_factors, hidden, dropouts):\n",
    "        assert len(dropouts) == len(hidden)\n",
    "\n",
    "        idx = 0\n",
    "        while idx < len(hidden):\n",
    "            if idx == 0:\n",
    "                yield nn.Linear(n_factors, hidden[idx])\n",
    "            else:\n",
    "                yield nn.Linear(hidden[idx-1], hidden[idx])\n",
    "            yield nn.ReLU()\n",
    "            yield nn.Dropout(dropouts[idx])\n",
    "\n",
    "            idx += 1\n",
    "\n",
    "    def forward(self, users, movies, min_rating=0.5, max_rating=5):\n",
    "        concat_features = torch.cat([self.user_emb(users), self.movie_emb(movies)], dim=1)\n",
    "        x = F.relu(self.hidden_layers(concat_features))\n",
    "        out = torch.sigmoid(self.fc(x))\n",
    "        out = (out * (max_rating - min_rating)) + min_rating\n",
    "\n",
    "        return out\n",
    "\n",
    "    def predict(self, users, movies):\n",
    "        # return the score\n",
    "        output_scores = self.forward(users, movies)\n",
    "        return output_scores"
   ]
  },
  {
   "cell_type": "code",
   "execution_count": 15,
   "metadata": {
    "id": "bmy6566FJpIn"
   },
   "outputs": [],
   "source": [
    "class BatchIterator:\n",
    "\n",
    "    def __init__(self, X, y, batch_size=32, shuffle=True):\n",
    "        X, y = np.asarray(X), np.asarray(y)\n",
    "\n",
    "        if shuffle:\n",
    "            index = np.random.permutation(X.shape[0])\n",
    "            X, y = X[index], y[index]\n",
    "\n",
    "        self.X = X\n",
    "        self.y = y\n",
    "        self.batch_size = batch_size\n",
    "        self.shuffle = shuffle\n",
    "        self.n_batches = int(math.ceil(X.shape[0] // batch_size))\n",
    "        self._current = 0\n",
    "\n",
    "    def __iter__(self):\n",
    "        return self\n",
    "\n",
    "    def __next__(self):\n",
    "        return self.next()\n",
    "\n",
    "    def next(self):\n",
    "        if self._current >= self.n_batches:\n",
    "            raise StopIteration()\n",
    "        k = self._current\n",
    "        self._current += 1\n",
    "        bs = self.batch_size\n",
    "        return self.X[k * bs:(k + 1) * bs], self.y[k * bs:(k + 1) * bs]\n"
   ]
  },
  {
   "cell_type": "code",
   "execution_count": 16,
   "metadata": {
    "id": "qbiX6uwuJpIn"
   },
   "outputs": [],
   "source": [
    "def batches(X, y, bs=32, shuffle=True):\n",
    "    for x_batch, y_batch in BatchIterator(X, y, bs, shuffle):\n",
    "        x_batch = torch.LongTensor(x_batch)\n",
    "        y_batch = torch.FloatTensor(y_batch)\n",
    "        yield x_batch, y_batch.view(-1, 1)"
   ]
  },
  {
   "cell_type": "code",
   "execution_count": 17,
   "metadata": {
    "id": "6stv_nRnJpIo"
   },
   "outputs": [],
   "source": [
    "def model_train(ds, config):\n",
    "    device = torch.device('cuda:0' if torch.cuda.is_available() else 'cpu')\n",
    "\n",
    "    X_train, y_train = ds.generate_trainset()\n",
    "    X_valid, y_valid = ds.generate_valset()\n",
    "    print(f'TrainSet Info: {ds.num_users} users, {ds.num_movies} movies')\n",
    "\n",
    "    model = FeedForwardEmbedNN(\n",
    "        n_users=ds.num_users, n_movies=ds.num_movies,\n",
    "        n_factors=config['num_factors'], hidden=config['hidden_layers'],\n",
    "        embedding_dropout=config['embedding_dropout'], dropouts=config['dropouts']\n",
    "    )\n",
    "    model.to(device)\n",
    "\n",
    "    batch_size = config['batch_size']\n",
    "    num_epochs = config['num_epochs']\n",
    "    max_patience = config['total_patience']\n",
    "    num_patience = 0\n",
    "    best_loss = np.inf\n",
    "\n",
    "    criterion = nn.MSELoss(reduction='sum')\n",
    "    criterion.to(device)\n",
    "    optimizer = optim.Adam(model.parameters(), lr=config['learning_rate'], weight_decay=config['weight_decay'])\n",
    "\n",
    "    result = dict()\n",
    "    for epoch in tqdm(range(num_epochs)):\n",
    "        training_loss = 0.0\n",
    "        for batch in batches(X_train, y_train, shuffle=True, bs=batch_size):\n",
    "            x_batch, y_batch = [b.to(device) for b in batch]\n",
    "            optimizer.zero_grad()\n",
    "            with torch.set_grad_enabled(True):\n",
    "                outputs = model(x_batch[:, 0], x_batch[:, 1], ds.min_rating, ds.max_rating)\n",
    "                loss = criterion(outputs, y_batch)\n",
    "                loss.backward()\n",
    "                optimizer.step()\n",
    "            training_loss += loss.item()\n",
    "        result['train'] = training_loss / len(X_train)\n",
    "\n",
    "        # Apply Early Stopping criteria and save best model params\n",
    "        val_outputs = model(torch.LongTensor(X_valid.user.values).to(device),\n",
    "                            torch.LongTensor(X_valid.movie.values).to(device), ds.min_rating, ds.max_rating)\n",
    "        val_loss = criterion(val_outputs.to(device), torch.FloatTensor(y_valid.values).view(-1, 1).to(device))\n",
    "        result['val'] = float((val_loss / len(X_valid)).data)\n",
    "\n",
    "        if val_loss < best_loss:\n",
    "            print('Save new model on epoch: %d' % (epoch + 1))\n",
    "            best_loss = val_loss\n",
    "            result['best_loss'] = val_loss\n",
    "            torch.save(model.state_dict(), config['save_path'])\n",
    "            num_patience = 0\n",
    "        else:\n",
    "            num_patience += 1\n",
    "\n",
    "        print(f'[epoch: {epoch+1}] train: {result[\"train\"]} - val: {result[\"val\"]}')\n",
    "\n",
    "        if num_patience >= max_patience:\n",
    "            print(f\"Early Stopped after epoch {epoch+1}\")\n",
    "            break\n",
    "\n",
    "    return result"
   ]
  },
  {
   "cell_type": "code",
   "execution_count": 18,
   "metadata": {
    "id": "fawHamk_JpIo"
   },
   "outputs": [],
   "source": [
    "def model_valid(user_id_list, movie_id_list, data_path):\n",
    "    dataset = DatasetLoader(data_path)\n",
    "    processed_test_input_df = pd.DataFrame({\n",
    "        'user_id': [dataset.user_to_index[x] for x in user_id_list],\n",
    "        'movie_id': [dataset.movie_to_index[x] for x in movie_id_list]\n",
    "    })\n",
    "\n",
    "    # 학습한 모델 load하기 \n",
    "    my_model = FeedForwardEmbedNN(dataset.num_users, dataset.num_movies,\n",
    "                       config['hidden_layers'], config['dropouts'], config['num_factors'], config['embedding_dropout'])\n",
    "    my_model.load_state_dict(torch.load('params.data'))\n",
    "    prediction_outputs = my_model.predict(users=torch.LongTensor(processed_test_input_df.user_id.values),\n",
    "                     movies=torch.LongTensor(processed_test_input_df.movie_id.values))\n",
    "\n",
    "    return prediction_outputs"
   ]
  },
  {
   "cell_type": "code",
   "execution_count": 19,
   "metadata": {
    "id": "liavZI4zJpIp"
   },
   "outputs": [],
   "source": [
    "dataset = DatasetLoader(data_path)"
   ]
  },
  {
   "cell_type": "code",
   "execution_count": 20,
   "metadata": {
    "id": "1xEzqD2cJpIp"
   },
   "outputs": [],
   "source": [
    "config = {\n",
    "  \"num_factors\": 16,\n",
    "  \"hidden_layers\": [64, 32, 16],\n",
    "  \"embedding_dropout\": 0.05,\n",
    "  \"dropouts\": [0.3, 0.3, 0.3],\n",
    "  \"learning_rate\": 1e-3,\n",
    "  \"weight_decay\": 1e-5,\n",
    "  \"batch_size\": 8,\n",
    "  \"num_epochs\": 3,\n",
    "  \"total_patience\": 30,\n",
    "  \"save_path\": \"params.data\"\n",
    "}"
   ]
  },
  {
   "cell_type": "code",
   "execution_count": 21,
   "metadata": {
    "id": "9SFyhQr-JpIp"
   },
   "outputs": [
    {
     "name": "stderr",
     "output_type": "stream",
     "text": [
      "\r",
      "  0%|                                                                                            | 0/3 [00:00<?, ?it/s]"
     ]
    },
    {
     "name": "stdout",
     "output_type": "stream",
     "text": [
      "TrainSet Info: 610 users, 8938 movies\n"
     ]
    },
    {
     "name": "stderr",
     "output_type": "stream",
     "text": [
      "\r",
      " 33%|████████████████████████████                                                        | 1/3 [00:41<01:23, 41.79s/it]"
     ]
    },
    {
     "name": "stdout",
     "output_type": "stream",
     "text": [
      "Save new model on epoch: 1\n",
      "[epoch: 1] train: 0.9753042632217843 - val: 0.9042059779167175\n"
     ]
    },
    {
     "name": "stderr",
     "output_type": "stream",
     "text": [
      "\r",
      " 67%|████████████████████████████████████████████████████████                            | 2/3 [01:18<00:38, 38.78s/it]"
     ]
    },
    {
     "name": "stdout",
     "output_type": "stream",
     "text": [
      "Save new model on epoch: 2\n",
      "[epoch: 2] train: 0.8454074698611677 - val: 0.8344188928604126\n"
     ]
    },
    {
     "name": "stderr",
     "output_type": "stream",
     "text": [
      "100%|████████████████████████████████████████████████████████████████████████████████████| 3/3 [01:44<00:00, 34.87s/it]"
     ]
    },
    {
     "name": "stdout",
     "output_type": "stream",
     "text": [
      "Save new model on epoch: 3\n",
      "[epoch: 3] train: 0.7852107084515063 - val: 0.8132007122039795\n"
     ]
    },
    {
     "name": "stderr",
     "output_type": "stream",
     "text": [
      "\n"
     ]
    },
    {
     "data": {
      "text/plain": [
       "{'train': 0.7852107084515063,\n",
       " 'val': 0.8132007122039795,\n",
       " 'best_loss': tensor(15707.7852, grad_fn=<MseLossBackward>)}"
      ]
     },
     "execution_count": 21,
     "metadata": {},
     "output_type": "execute_result"
    }
   ],
   "source": [
    "model_train(dataset, config)"
   ]
  },
  {
   "cell_type": "code",
   "execution_count": 22,
   "metadata": {
    "id": "66PToOALWUZB"
   },
   "outputs": [
    {
     "data": {
      "text/html": [
       "<div>\n",
       "<style scoped>\n",
       "    .dataframe tbody tr th:only-of-type {\n",
       "        vertical-align: middle;\n",
       "    }\n",
       "\n",
       "    .dataframe tbody tr th {\n",
       "        vertical-align: top;\n",
       "    }\n",
       "\n",
       "    .dataframe thead th {\n",
       "        text-align: right;\n",
       "    }\n",
       "</style>\n",
       "<table border=\"1\" class=\"dataframe\">\n",
       "  <thead>\n",
       "    <tr style=\"text-align: right;\">\n",
       "      <th></th>\n",
       "      <th>userId</th>\n",
       "      <th>movieId</th>\n",
       "      <th>rating</th>\n",
       "      <th>timestamp</th>\n",
       "    </tr>\n",
       "  </thead>\n",
       "  <tbody>\n",
       "    <tr>\n",
       "      <th>99731</th>\n",
       "      <td>610</td>\n",
       "      <td>3527</td>\n",
       "      <td>5.0</td>\n",
       "      <td>1479545223</td>\n",
       "    </tr>\n",
       "    <tr>\n",
       "      <th>97583</th>\n",
       "      <td>606</td>\n",
       "      <td>1250</td>\n",
       "      <td>3.5</td>\n",
       "      <td>1171376891</td>\n",
       "    </tr>\n",
       "    <tr>\n",
       "      <th>38197</th>\n",
       "      <td>262</td>\n",
       "      <td>213</td>\n",
       "      <td>5.0</td>\n",
       "      <td>840310907</td>\n",
       "    </tr>\n",
       "    <tr>\n",
       "      <th>11474</th>\n",
       "      <td>68</td>\n",
       "      <td>69406</td>\n",
       "      <td>3.0</td>\n",
       "      <td>1261622505</td>\n",
       "    </tr>\n",
       "    <tr>\n",
       "      <th>34105</th>\n",
       "      <td>232</td>\n",
       "      <td>4728</td>\n",
       "      <td>3.0</td>\n",
       "      <td>1218166950</td>\n",
       "    </tr>\n",
       "  </tbody>\n",
       "</table>\n",
       "</div>"
      ],
      "text/plain": [
       "       userId  movieId  rating   timestamp\n",
       "99731     610     3527     5.0  1479545223\n",
       "97583     606     1250     3.5  1171376891\n",
       "38197     262      213     5.0   840310907\n",
       "11474      68    69406     3.0  1261622505\n",
       "34105     232     4728     3.0  1218166950"
      ]
     },
     "execution_count": 22,
     "metadata": {},
     "output_type": "execute_result"
    }
   ],
   "source": [
    "val_df.head()"
   ]
  },
  {
   "cell_type": "code",
   "execution_count": 24,
   "metadata": {
    "id": "ukvOFg52JpIq"
   },
   "outputs": [
    {
     "data": {
      "text/html": [
       "<div>\n",
       "<style scoped>\n",
       "    .dataframe tbody tr th:only-of-type {\n",
       "        vertical-align: middle;\n",
       "    }\n",
       "\n",
       "    .dataframe tbody tr th {\n",
       "        vertical-align: top;\n",
       "    }\n",
       "\n",
       "    .dataframe thead th {\n",
       "        text-align: right;\n",
       "    }\n",
       "</style>\n",
       "<table border=\"1\" class=\"dataframe\">\n",
       "  <thead>\n",
       "    <tr style=\"text-align: right;\">\n",
       "      <th></th>\n",
       "      <th>userId</th>\n",
       "      <th>movieId</th>\n",
       "      <th>pred_ratings</th>\n",
       "    </tr>\n",
       "  </thead>\n",
       "  <tbody>\n",
       "    <tr>\n",
       "      <th>1</th>\n",
       "      <td>610</td>\n",
       "      <td>1250</td>\n",
       "      <td>4.357718</td>\n",
       "    </tr>\n",
       "    <tr>\n",
       "      <th>0</th>\n",
       "      <td>610</td>\n",
       "      <td>3527</td>\n",
       "      <td>3.499402</td>\n",
       "    </tr>\n",
       "    <tr>\n",
       "      <th>2</th>\n",
       "      <td>610</td>\n",
       "      <td>213</td>\n",
       "      <td>3.440641</td>\n",
       "    </tr>\n",
       "  </tbody>\n",
       "</table>\n",
       "</div>"
      ],
      "text/plain": [
       "   userId  movieId  pred_ratings\n",
       "1     610     1250      4.357718\n",
       "0     610     3527      3.499402\n",
       "2     610      213      3.440641"
      ]
     },
     "execution_count": 24,
     "metadata": {},
     "output_type": "execute_result"
    }
   ],
   "source": [
    "movie_id_list = [3527, 1250, 213]\n",
    "user_id = 610\n",
    "user_id_list = [user_id] * len(movie_id_list)\n",
    "pred_results = [float(x) for x in model_valid(user_id_list, movie_id_list, data_path)]\n",
    "\n",
    "result_df = pd.DataFrame({\n",
    "    'userId': user_id_list,\n",
    "    'movieId': movie_id_list,\n",
    "    # 'movieName': [movieName_dict[x] for x in movie_id_list],\n",
    "    # 'genres': [genres_dict[x] for x in movie_id_list],\n",
    "    'pred_ratings': pred_results\n",
    "})\n",
    "\n",
    "result_df.sort_values(by='pred_ratings', ascending=False)"
   ]
  },
  {
   "cell_type": "code",
   "execution_count": null,
   "metadata": {},
   "outputs": [],
   "source": []
  }
 ],
 "metadata": {
  "accelerator": "GPU",
  "colab": {
   "collapsed_sections": [],
   "name": "01-딥러닝과 추천알고리즘-03-Neural Collaborative Filtering 실습.ipynb",
   "provenance": [
    {
     "file_id": "1nAG9mn7f8YFOELV2UsbkEruQHOCXngCs",
     "timestamp": 1609776703964
    }
   ],
   "toc_visible": true
  },
  "kernelspec": {
   "display_name": "Python 3",
   "language": "python",
   "name": "python3"
  },
  "language_info": {
   "codemirror_mode": {
    "name": "ipython",
    "version": 3
   },
   "file_extension": ".py",
   "mimetype": "text/x-python",
   "name": "python",
   "nbconvert_exporter": "python",
   "pygments_lexer": "ipython3",
   "version": "3.8.8"
  }
 },
 "nbformat": 4,
 "nbformat_minor": 1
}
