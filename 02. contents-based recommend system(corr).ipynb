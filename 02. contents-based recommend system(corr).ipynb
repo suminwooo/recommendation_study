{
 "cells": [
  {
   "cell_type": "code",
   "execution_count": 1,
   "id": "e2880fde",
   "metadata": {},
   "outputs": [],
   "source": [
    "import numpy as np\n",
    "import pandas as pd\n",
    "\n",
    "import matplotlib.pyplot as plt\n",
    "import seaborn as sns\n",
    "import re\n",
    "import sklearn.metrics.pairwise as pw\n",
    "from scipy import sparse\n",
    "from sklearn.metrics.pairwise import pairwise_distances\n",
    "\n",
    "import warnings\n",
    "warnings.filterwarnings('ignore')"
   ]
  },
  {
   "cell_type": "code",
   "execution_count": 2,
   "id": "0f92107e",
   "metadata": {},
   "outputs": [],
   "source": [
    "# data import\n",
    "df = pd.read_csv('./movielens_data/ratings.csv') \n",
    "movie_titles=pd.read_csv('./movielens_data/movies.csv')"
   ]
  },
  {
   "cell_type": "markdown",
   "id": "8698b287",
   "metadata": {},
   "source": [
    "---"
   ]
  },
  {
   "cell_type": "code",
   "execution_count": 3,
   "id": "f6cec913",
   "metadata": {},
   "outputs": [],
   "source": [
    "# 상관 관계를 활용한 추천\n",
    "def corr_recommender(df, film_name, min_num_reviews):\n",
    "    \n",
    "    df = pd.merge(df, movie_titles, on='movieId')\n",
    "    ratings_df = pd.DataFrame(df.groupby('title')['rating'].mean())\n",
    "    ratings_df.rename(columns={'rating': 'average_rating'}, inplace=True)\n",
    "    ratings_df['num_of_ratings'] = pd.DataFrame(df.groupby('title')['rating'].count())\n",
    "        \n",
    "    user_movie_matrix = df.pivot_table(values='rating' , index='userId' , columns='title' )\n",
    "    \n",
    "    film_x_user_ratings = user_movie_matrix[film_name]\n",
    "    similar_to_film_x = user_movie_matrix.corrwith(film_x_user_ratings)\n",
    "    \n",
    "    corr_film_x = pd.DataFrame(similar_to_film_x, columns=['Correlation'])\n",
    "    corr_film_x.dropna(inplace=True)\n",
    "    # Join ratings info to enbale filtering of films with low nums of ratings\n",
    "    corr_film_x = corr_film_x.join(ratings_df['num_of_ratings'])\n",
    "    # Apply filter\n",
    "    new_corr_film_x = corr_film_x[corr_film_x['num_of_ratings'] >= min_num_reviews]\n",
    "    # Sort intp ascending order\n",
    "    return new_corr_film_x.sort_values('Correlation',ascending=False).iloc[1:10, :]"
   ]
  },
  {
   "cell_type": "code",
   "execution_count": 4,
   "id": "b448c35f",
   "metadata": {
    "scrolled": true
   },
   "outputs": [
    {
     "data": {
      "text/html": [
       "<div>\n",
       "<style scoped>\n",
       "    .dataframe tbody tr th:only-of-type {\n",
       "        vertical-align: middle;\n",
       "    }\n",
       "\n",
       "    .dataframe tbody tr th {\n",
       "        vertical-align: top;\n",
       "    }\n",
       "\n",
       "    .dataframe thead th {\n",
       "        text-align: right;\n",
       "    }\n",
       "</style>\n",
       "<table border=\"1\" class=\"dataframe\">\n",
       "  <thead>\n",
       "    <tr style=\"text-align: right;\">\n",
       "      <th></th>\n",
       "      <th>Correlation</th>\n",
       "      <th>num_of_ratings</th>\n",
       "    </tr>\n",
       "    <tr>\n",
       "      <th>title</th>\n",
       "      <th></th>\n",
       "      <th></th>\n",
       "    </tr>\n",
       "  </thead>\n",
       "  <tbody>\n",
       "    <tr>\n",
       "      <th>Good Will Hunting (1997)</th>\n",
       "      <td>0.484042</td>\n",
       "      <td>141</td>\n",
       "    </tr>\n",
       "    <tr>\n",
       "      <th>Aladdin (1992)</th>\n",
       "      <td>0.464268</td>\n",
       "      <td>183</td>\n",
       "    </tr>\n",
       "    <tr>\n",
       "      <th>American History X (1998)</th>\n",
       "      <td>0.457287</td>\n",
       "      <td>129</td>\n",
       "    </tr>\n",
       "    <tr>\n",
       "      <th>Truman Show, The (1998)</th>\n",
       "      <td>0.432556</td>\n",
       "      <td>125</td>\n",
       "    </tr>\n",
       "    <tr>\n",
       "      <th>Braveheart (1995)</th>\n",
       "      <td>0.416976</td>\n",
       "      <td>237</td>\n",
       "    </tr>\n",
       "    <tr>\n",
       "      <th>Ferris Bueller's Day Off (1986)</th>\n",
       "      <td>0.405830</td>\n",
       "      <td>109</td>\n",
       "    </tr>\n",
       "    <tr>\n",
       "      <th>Mrs. Doubtfire (1993)</th>\n",
       "      <td>0.401408</td>\n",
       "      <td>144</td>\n",
       "    </tr>\n",
       "    <tr>\n",
       "      <th>Full Metal Jacket (1987)</th>\n",
       "      <td>0.397241</td>\n",
       "      <td>102</td>\n",
       "    </tr>\n",
       "    <tr>\n",
       "      <th>Saving Private Ryan (1998)</th>\n",
       "      <td>0.390074</td>\n",
       "      <td>188</td>\n",
       "    </tr>\n",
       "  </tbody>\n",
       "</table>\n",
       "</div>"
      ],
      "text/plain": [
       "                                 Correlation  num_of_ratings\n",
       "title                                                       \n",
       "Good Will Hunting (1997)            0.484042             141\n",
       "Aladdin (1992)                      0.464268             183\n",
       "American History X (1998)           0.457287             129\n",
       "Truman Show, The (1998)             0.432556             125\n",
       "Braveheart (1995)                   0.416976             237\n",
       "Ferris Bueller's Day Off (1986)     0.405830             109\n",
       "Mrs. Doubtfire (1993)               0.401408             144\n",
       "Full Metal Jacket (1987)            0.397241             102\n",
       "Saving Private Ryan (1998)          0.390074             188"
      ]
     },
     "execution_count": 4,
     "metadata": {},
     "output_type": "execute_result"
    }
   ],
   "source": [
    "corr_recommender(df, 'Forrest Gump (1994)', 100)"
   ]
  }
 ],
 "metadata": {
  "kernelspec": {
   "display_name": "Python 3",
   "language": "python",
   "name": "python3"
  },
  "language_info": {
   "codemirror_mode": {
    "name": "ipython",
    "version": 3
   },
   "file_extension": ".py",
   "mimetype": "text/x-python",
   "name": "python",
   "nbconvert_exporter": "python",
   "pygments_lexer": "ipython3",
   "version": "3.8.8"
  }
 },
 "nbformat": 4,
 "nbformat_minor": 5
}
