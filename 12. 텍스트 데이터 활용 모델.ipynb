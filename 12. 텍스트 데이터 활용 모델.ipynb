{
 "cells": [
  {
   "cell_type": "markdown",
   "metadata": {
    "id": "FFzwNS0et-bQ"
   },
   "source": [
    "# Amazon Review Data 활용하기\n",
    "1. 데이터셋 버전\n",
    "  - 2013 버전([링크](http://snap.stanford.edu/data/web-Amazon-links.html))\n",
    "  - 2014 버전([링크](https://jmcauley.ucsd.edu/data/amazon/))\n",
    "  - 2018 버전([링크](https://nijianmo.github.io/amazon/index.html))\n",
    "2. 2018버전 데이터셋 정보\n",
    "  - reviews(ratings, text, helpfulness votes)\n",
    "  - product metadata(descriptions, category information, price band and image features)\n",
    "  - links(also viewed/also bought graphs)\n",
    "  - 이외 추가 정보는 웹사이트 참고\n",
    "  - 최근(2020-08-07)까지 업데이트된 내용이 있다\n",
    "3. 데이터셋 크기가 매우 크기 때문에, `Complete review data`보다 `Small subsets 데이터`를 먼저 사용하는 것을 추천한다\n"
   ]
  },
  {
   "cell_type": "code",
   "execution_count": 1,
   "metadata": {},
   "outputs": [],
   "source": [
    "import warnings\n",
    "warnings.filterwarnings('ignore')"
   ]
  },
  {
   "cell_type": "code",
   "execution_count": 2,
   "metadata": {
    "executionInfo": {
     "elapsed": 1147,
     "status": "ok",
     "timestamp": 1611205002595,
     "user": {
      "displayName": "Jaewon Fastcampus",
      "photoUrl": "",
      "userId": "05122666633107220130"
     },
     "user_tz": -540
    },
    "id": "I1TlnbhpwNvR"
   },
   "outputs": [],
   "source": [
    "import os\n",
    "import json\n",
    "import gzip\n",
    "import pandas as pd\n",
    "from urllib.request import urlopen"
   ]
  },
  {
   "cell_type": "code",
   "execution_count": 3,
   "metadata": {
    "colab": {
     "base_uri": "https://localhost:8080/"
    },
    "executionInfo": {
     "elapsed": 905,
     "status": "ok",
     "timestamp": 1611205034969,
     "user": {
      "displayName": "Jaewon Fastcampus",
      "photoUrl": "",
      "userId": "05122666633107220130"
     },
     "user_tz": -540
    },
    "id": "EEZ01__YwEhV",
    "outputId": "666a6b44-8b63-4e49-faa7-5ee2d2c70bcf"
   },
   "outputs": [],
   "source": [
    "### load the meta data\n",
    "data = []\n",
    "with gzip.open('./amazon_data/meta_Computers.json.gz') as f:\n",
    "    for l in f:\n",
    "        data.append(json.loads(l.strip()))"
   ]
  },
  {
   "cell_type": "code",
   "execution_count": 4,
   "metadata": {},
   "outputs": [
    {
     "name": "stdout",
     "output_type": "stream",
     "text": [
      "18772\n"
     ]
    }
   ],
   "source": [
    "# total length of list, this number equals total number of products\n",
    "print(len(data))"
   ]
  },
  {
   "cell_type": "code",
   "execution_count": 5,
   "metadata": {},
   "outputs": [
    {
     "name": "stdout",
     "output_type": "stream",
     "text": [
      "{'description': ['Brand new. Still in factory-sealed plastic.'], 'title': 'Kelby Training DVD: The Adobe Photoshop CS5 7-Point System for Camera Raw By Scott Kelby', 'image': ['https://images-na.ssl-images-amazon.com/images/I/31IlLImCVJL._SS40_.jpg'], 'brand': 'Kelby Training', 'rank': ['>#654,681 in Electronics (See Top 100 in Electronics)'], 'main_cat': 'Computers', 'date': 'December 2, 2011', 'asin': '0321732960'}\n"
     ]
    }
   ],
   "source": [
    "# first row of the list\n",
    "print(data[0])"
   ]
  },
  {
   "cell_type": "code",
   "execution_count": 6,
   "metadata": {
    "colab": {
     "base_uri": "https://localhost:8080/"
    },
    "executionInfo": {
     "elapsed": 817,
     "status": "ok",
     "timestamp": 1611205074687,
     "user": {
      "displayName": "Jaewon Fastcampus",
      "photoUrl": "",
      "userId": "05122666633107220130"
     },
     "user_tz": -540
    },
    "id": "E6ojAG2BwK_h",
    "outputId": "c81bb8b0-4975-4a7b-a88d-99d751201bef"
   },
   "outputs": [
    {
     "name": "stdout",
     "output_type": "stream",
     "text": [
      "18772\n"
     ]
    }
   ],
   "source": [
    "# convert list into pandas dataframe\n",
    "df = pd.DataFrame.from_dict(data)\n",
    "print(len(df))"
   ]
  },
  {
   "cell_type": "code",
   "execution_count": 7,
   "metadata": {
    "id": "0giHd0Xwwg-O"
   },
   "outputs": [
    {
     "data": {
      "text/html": [
       "<div>\n",
       "<style scoped>\n",
       "    .dataframe tbody tr th:only-of-type {\n",
       "        vertical-align: middle;\n",
       "    }\n",
       "\n",
       "    .dataframe tbody tr th {\n",
       "        vertical-align: top;\n",
       "    }\n",
       "\n",
       "    .dataframe thead th {\n",
       "        text-align: right;\n",
       "    }\n",
       "</style>\n",
       "<table border=\"1\" class=\"dataframe\">\n",
       "  <thead>\n",
       "    <tr style=\"text-align: right;\">\n",
       "      <th></th>\n",
       "      <th>description</th>\n",
       "      <th>title</th>\n",
       "      <th>image</th>\n",
       "      <th>brand</th>\n",
       "      <th>rank</th>\n",
       "      <th>main_cat</th>\n",
       "      <th>date</th>\n",
       "      <th>asin</th>\n",
       "      <th>feature</th>\n",
       "      <th>tech1</th>\n",
       "      <th>also_buy</th>\n",
       "      <th>price</th>\n",
       "      <th>also_view</th>\n",
       "      <th>tech2</th>\n",
       "      <th>details</th>\n",
       "      <th>similar_item</th>\n",
       "    </tr>\n",
       "  </thead>\n",
       "  <tbody>\n",
       "    <tr>\n",
       "      <th>0</th>\n",
       "      <td>[Brand new. Still in factory-sealed plastic.]</td>\n",
       "      <td>Kelby Training DVD: The Adobe Photoshop CS5 7-...</td>\n",
       "      <td>[https://images-na.ssl-images-amazon.com/image...</td>\n",
       "      <td>Kelby Training</td>\n",
       "      <td>[&gt;#654,681 in Electronics (See Top 100 in Elec...</td>\n",
       "      <td>Computers</td>\n",
       "      <td>December 2, 2011</td>\n",
       "      <td>0321732960</td>\n",
       "      <td>NaN</td>\n",
       "      <td>NaN</td>\n",
       "      <td>NaN</td>\n",
       "      <td>NaN</td>\n",
       "      <td>NaN</td>\n",
       "      <td>NaN</td>\n",
       "      <td>NaN</td>\n",
       "      <td>NaN</td>\n",
       "    </tr>\n",
       "    <tr>\n",
       "      <th>1</th>\n",
       "      <td>[If you're already a Photoshop user and want a...</td>\n",
       "      <td>Kelby Training DVD: Adobe Photoshop CS5 Power ...</td>\n",
       "      <td>[https://images-na.ssl-images-amazon.com/image...</td>\n",
       "      <td>Kelby Training</td>\n",
       "      <td>[&gt;#830,165 in Electronics (See Top 100 in Elec...</td>\n",
       "      <td>Computers</td>\n",
       "      <td>November 7, 2011</td>\n",
       "      <td>0321735722</td>\n",
       "      <td>NaN</td>\n",
       "      <td>NaN</td>\n",
       "      <td>NaN</td>\n",
       "      <td>NaN</td>\n",
       "      <td>NaN</td>\n",
       "      <td>NaN</td>\n",
       "      <td>NaN</td>\n",
       "      <td>NaN</td>\n",
       "    </tr>\n",
       "    <tr>\n",
       "      <th>2</th>\n",
       "      <td>[School To Home Notes: Note From the Teacher!\\...</td>\n",
       "      <td>TEACHERS FRIEND NOTE FROM THE TEACHER SCHOOL T...</td>\n",
       "      <td>[https://images-na.ssl-images-amazon.com/image...</td>\n",
       "      <td>TEACHERS FRIEND</td>\n",
       "      <td>[&gt;#1,233,887 in Electronics (See Top 100 in El...</td>\n",
       "      <td>Computers</td>\n",
       "      <td>June 6, 2007</td>\n",
       "      <td>0439651859</td>\n",
       "      <td>NaN</td>\n",
       "      <td>NaN</td>\n",
       "      <td>NaN</td>\n",
       "      <td>NaN</td>\n",
       "      <td>NaN</td>\n",
       "      <td>NaN</td>\n",
       "      <td>NaN</td>\n",
       "      <td>NaN</td>\n",
       "    </tr>\n",
       "    <tr>\n",
       "      <th>3</th>\n",
       "      <td>[Dooqi is a young brand specializing in high-e...</td>\n",
       "      <td>[3-pack]Ipad Mini Screen Protector, Dooqi Scre...</td>\n",
       "      <td>[https://images-na.ssl-images-amazon.com/image...</td>\n",
       "      <td>dooqi</td>\n",
       "      <td>[&gt;#454,595 in Electronics (See Top 100 in Elec...</td>\n",
       "      <td>Computers</td>\n",
       "      <td>December 5, 2014</td>\n",
       "      <td>0545729971</td>\n",
       "      <td>[Hard coated for Scratch Proof (Hardness: 4H),...</td>\n",
       "      <td>NaN</td>\n",
       "      <td>NaN</td>\n",
       "      <td>NaN</td>\n",
       "      <td>NaN</td>\n",
       "      <td>NaN</td>\n",
       "      <td>NaN</td>\n",
       "      <td>NaN</td>\n",
       "    </tr>\n",
       "    <tr>\n",
       "      <th>4</th>\n",
       "      <td>[Cover for Nook HD]</td>\n",
       "      <td>Hd+ Cheetah Cover- Nook</td>\n",
       "      <td>NaN</td>\n",
       "      <td>Nook</td>\n",
       "      <td>[&gt;#85,661 in Computers &amp; Accessories (See top ...</td>\n",
       "      <td>Computers</td>\n",
       "      <td>September 11, 2013</td>\n",
       "      <td>0594450284</td>\n",
       "      <td>[Cheetah cover]</td>\n",
       "      <td>{'Brand Name': 'Nook', 'Item Weight': '1 pound...</td>\n",
       "      <td>NaN</td>\n",
       "      <td>NaN</td>\n",
       "      <td>NaN</td>\n",
       "      <td>NaN</td>\n",
       "      <td>NaN</td>\n",
       "      <td>NaN</td>\n",
       "    </tr>\n",
       "  </tbody>\n",
       "</table>\n",
       "</div>"
      ],
      "text/plain": [
       "                                         description  \\\n",
       "0      [Brand new. Still in factory-sealed plastic.]   \n",
       "1  [If you're already a Photoshop user and want a...   \n",
       "2  [School To Home Notes: Note From the Teacher!\\...   \n",
       "3  [Dooqi is a young brand specializing in high-e...   \n",
       "4                                [Cover for Nook HD]   \n",
       "\n",
       "                                               title  \\\n",
       "0  Kelby Training DVD: The Adobe Photoshop CS5 7-...   \n",
       "1  Kelby Training DVD: Adobe Photoshop CS5 Power ...   \n",
       "2  TEACHERS FRIEND NOTE FROM THE TEACHER SCHOOL T...   \n",
       "3  [3-pack]Ipad Mini Screen Protector, Dooqi Scre...   \n",
       "4                            Hd+ Cheetah Cover- Nook   \n",
       "\n",
       "                                               image            brand  \\\n",
       "0  [https://images-na.ssl-images-amazon.com/image...   Kelby Training   \n",
       "1  [https://images-na.ssl-images-amazon.com/image...   Kelby Training   \n",
       "2  [https://images-na.ssl-images-amazon.com/image...  TEACHERS FRIEND   \n",
       "3  [https://images-na.ssl-images-amazon.com/image...            dooqi   \n",
       "4                                                NaN             Nook   \n",
       "\n",
       "                                                rank   main_cat  \\\n",
       "0  [>#654,681 in Electronics (See Top 100 in Elec...  Computers   \n",
       "1  [>#830,165 in Electronics (See Top 100 in Elec...  Computers   \n",
       "2  [>#1,233,887 in Electronics (See Top 100 in El...  Computers   \n",
       "3  [>#454,595 in Electronics (See Top 100 in Elec...  Computers   \n",
       "4  [>#85,661 in Computers & Accessories (See top ...  Computers   \n",
       "\n",
       "                 date        asin  \\\n",
       "0    December 2, 2011  0321732960   \n",
       "1    November 7, 2011  0321735722   \n",
       "2        June 6, 2007  0439651859   \n",
       "3    December 5, 2014  0545729971   \n",
       "4  September 11, 2013  0594450284   \n",
       "\n",
       "                                             feature  \\\n",
       "0                                                NaN   \n",
       "1                                                NaN   \n",
       "2                                                NaN   \n",
       "3  [Hard coated for Scratch Proof (Hardness: 4H),...   \n",
       "4                                    [Cheetah cover]   \n",
       "\n",
       "                                               tech1 also_buy price also_view  \\\n",
       "0                                                NaN      NaN   NaN       NaN   \n",
       "1                                                NaN      NaN   NaN       NaN   \n",
       "2                                                NaN      NaN   NaN       NaN   \n",
       "3                                                NaN      NaN   NaN       NaN   \n",
       "4  {'Brand Name': 'Nook', 'Item Weight': '1 pound...      NaN   NaN       NaN   \n",
       "\n",
       "  tech2 details similar_item  \n",
       "0   NaN     NaN          NaN  \n",
       "1   NaN     NaN          NaN  \n",
       "2   NaN     NaN          NaN  \n",
       "3   NaN     NaN          NaN  \n",
       "4   NaN     NaN          NaN  "
      ]
     },
     "execution_count": 7,
     "metadata": {},
     "output_type": "execute_result"
    }
   ],
   "source": [
    "df.head()"
   ]
  },
  {
   "cell_type": "code",
   "execution_count": 8,
   "metadata": {
    "colab": {
     "base_uri": "https://localhost:8080/"
    },
    "executionInfo": {
     "elapsed": 969,
     "status": "ok",
     "timestamp": 1611205109072,
     "user": {
      "displayName": "Jaewon Fastcampus",
      "photoUrl": "",
      "userId": "05122666633107220130"
     },
     "user_tz": -540
    },
    "id": "DoEDnyUVwiNJ",
    "outputId": "f8809b77-7333-4cee-e6b2-ab8ad09f2698"
   },
   "outputs": [],
   "source": [
    "### remove rows with unformatted title (i.e. some 'title' may still contain html style content)\n",
    "df3 = df.fillna('')\n",
    "df4 = df3[df3.title.str.contains('getTime')] # unformatted rows\n",
    "df5 = df3[~df3.title.str.contains('getTime')] # filter those unformatted rows"
   ]
  },
  {
   "cell_type": "code",
   "execution_count": 9,
   "metadata": {},
   "outputs": [
    {
     "data": {
      "text/html": [
       "<div>\n",
       "<style scoped>\n",
       "    .dataframe tbody tr th:only-of-type {\n",
       "        vertical-align: middle;\n",
       "    }\n",
       "\n",
       "    .dataframe tbody tr th {\n",
       "        vertical-align: top;\n",
       "    }\n",
       "\n",
       "    .dataframe thead th {\n",
       "        text-align: right;\n",
       "    }\n",
       "</style>\n",
       "<table border=\"1\" class=\"dataframe\">\n",
       "  <thead>\n",
       "    <tr style=\"text-align: right;\">\n",
       "      <th></th>\n",
       "      <th>description</th>\n",
       "      <th>title</th>\n",
       "      <th>image</th>\n",
       "      <th>brand</th>\n",
       "      <th>rank</th>\n",
       "      <th>main_cat</th>\n",
       "      <th>date</th>\n",
       "      <th>asin</th>\n",
       "      <th>feature</th>\n",
       "      <th>tech1</th>\n",
       "      <th>also_buy</th>\n",
       "      <th>price</th>\n",
       "      <th>also_view</th>\n",
       "      <th>tech2</th>\n",
       "      <th>details</th>\n",
       "      <th>similar_item</th>\n",
       "    </tr>\n",
       "  </thead>\n",
       "  <tbody>\n",
       "    <tr>\n",
       "      <th>0</th>\n",
       "      <td>[Brand new. Still in factory-sealed plastic.]</td>\n",
       "      <td>Kelby Training DVD: The Adobe Photoshop CS5 7-...</td>\n",
       "      <td>[https://images-na.ssl-images-amazon.com/image...</td>\n",
       "      <td>Kelby Training</td>\n",
       "      <td>[&gt;#654,681 in Electronics (See Top 100 in Elec...</td>\n",
       "      <td>Computers</td>\n",
       "      <td>December 2, 2011</td>\n",
       "      <td>0321732960</td>\n",
       "      <td></td>\n",
       "      <td></td>\n",
       "      <td></td>\n",
       "      <td></td>\n",
       "      <td></td>\n",
       "      <td></td>\n",
       "      <td></td>\n",
       "      <td></td>\n",
       "    </tr>\n",
       "    <tr>\n",
       "      <th>1</th>\n",
       "      <td>[If you're already a Photoshop user and want a...</td>\n",
       "      <td>Kelby Training DVD: Adobe Photoshop CS5 Power ...</td>\n",
       "      <td>[https://images-na.ssl-images-amazon.com/image...</td>\n",
       "      <td>Kelby Training</td>\n",
       "      <td>[&gt;#830,165 in Electronics (See Top 100 in Elec...</td>\n",
       "      <td>Computers</td>\n",
       "      <td>November 7, 2011</td>\n",
       "      <td>0321735722</td>\n",
       "      <td></td>\n",
       "      <td></td>\n",
       "      <td></td>\n",
       "      <td></td>\n",
       "      <td></td>\n",
       "      <td></td>\n",
       "      <td></td>\n",
       "      <td></td>\n",
       "    </tr>\n",
       "  </tbody>\n",
       "</table>\n",
       "</div>"
      ],
      "text/plain": [
       "                                         description  \\\n",
       "0      [Brand new. Still in factory-sealed plastic.]   \n",
       "1  [If you're already a Photoshop user and want a...   \n",
       "\n",
       "                                               title  \\\n",
       "0  Kelby Training DVD: The Adobe Photoshop CS5 7-...   \n",
       "1  Kelby Training DVD: Adobe Photoshop CS5 Power ...   \n",
       "\n",
       "                                               image           brand  \\\n",
       "0  [https://images-na.ssl-images-amazon.com/image...  Kelby Training   \n",
       "1  [https://images-na.ssl-images-amazon.com/image...  Kelby Training   \n",
       "\n",
       "                                                rank   main_cat  \\\n",
       "0  [>#654,681 in Electronics (See Top 100 in Elec...  Computers   \n",
       "1  [>#830,165 in Electronics (See Top 100 in Elec...  Computers   \n",
       "\n",
       "               date        asin feature tech1 also_buy price also_view tech2  \\\n",
       "0  December 2, 2011  0321732960                                                \n",
       "1  November 7, 2011  0321735722                                                \n",
       "\n",
       "  details similar_item  \n",
       "0                       \n",
       "1                       "
      ]
     },
     "execution_count": 9,
     "metadata": {},
     "output_type": "execute_result"
    }
   ],
   "source": [
    "df3.head(2)"
   ]
  },
  {
   "cell_type": "code",
   "execution_count": 10,
   "metadata": {},
   "outputs": [
    {
     "data": {
      "text/html": [
       "<div>\n",
       "<style scoped>\n",
       "    .dataframe tbody tr th:only-of-type {\n",
       "        vertical-align: middle;\n",
       "    }\n",
       "\n",
       "    .dataframe tbody tr th {\n",
       "        vertical-align: top;\n",
       "    }\n",
       "\n",
       "    .dataframe thead th {\n",
       "        text-align: right;\n",
       "    }\n",
       "</style>\n",
       "<table border=\"1\" class=\"dataframe\">\n",
       "  <thead>\n",
       "    <tr style=\"text-align: right;\">\n",
       "      <th></th>\n",
       "      <th>description</th>\n",
       "      <th>title</th>\n",
       "      <th>image</th>\n",
       "      <th>brand</th>\n",
       "      <th>rank</th>\n",
       "      <th>main_cat</th>\n",
       "      <th>date</th>\n",
       "      <th>asin</th>\n",
       "      <th>feature</th>\n",
       "      <th>tech1</th>\n",
       "      <th>also_buy</th>\n",
       "      <th>price</th>\n",
       "      <th>also_view</th>\n",
       "      <th>tech2</th>\n",
       "      <th>details</th>\n",
       "      <th>similar_item</th>\n",
       "    </tr>\n",
       "  </thead>\n",
       "  <tbody>\n",
       "    <tr>\n",
       "      <th>1186</th>\n",
       "      <td></td>\n",
       "      <td>var aPageStart = (new Date()).getTime();\\nvar ...</td>\n",
       "      <td></td>\n",
       "      <td>DS Miller Inc.</td>\n",
       "      <td>[&gt;#1,826,312 in Electronics (See Top 100 in El...</td>\n",
       "      <td>Computers</td>\n",
       "      <td>March 1, 2010</td>\n",
       "      <td>B0016C5EXY</td>\n",
       "      <td></td>\n",
       "      <td></td>\n",
       "      <td></td>\n",
       "      <td></td>\n",
       "      <td></td>\n",
       "      <td></td>\n",
       "      <td></td>\n",
       "      <td></td>\n",
       "    </tr>\n",
       "    <tr>\n",
       "      <th>1190</th>\n",
       "      <td></td>\n",
       "      <td>var aPageStart = (new Date()).getTime();\\nvar ...</td>\n",
       "      <td>[https://images-na.ssl-images-amazon.com/image...</td>\n",
       "      <td>TechFuel</td>\n",
       "      <td>[&gt;#680,253 in Electronics (See Top 100 in Elec...</td>\n",
       "      <td>Computers</td>\n",
       "      <td>August 18, 2012</td>\n",
       "      <td>B0016JHR82</td>\n",
       "      <td></td>\n",
       "      <td></td>\n",
       "      <td></td>\n",
       "      <td></td>\n",
       "      <td></td>\n",
       "      <td></td>\n",
       "      <td></td>\n",
       "      <td></td>\n",
       "    </tr>\n",
       "  </tbody>\n",
       "</table>\n",
       "</div>"
      ],
      "text/plain": [
       "     description                                              title  \\\n",
       "1186              var aPageStart = (new Date()).getTime();\\nvar ...   \n",
       "1190              var aPageStart = (new Date()).getTime();\\nvar ...   \n",
       "\n",
       "                                                  image           brand  \\\n",
       "1186                                                     DS Miller Inc.   \n",
       "1190  [https://images-na.ssl-images-amazon.com/image...        TechFuel   \n",
       "\n",
       "                                                   rank   main_cat  \\\n",
       "1186  [>#1,826,312 in Electronics (See Top 100 in El...  Computers   \n",
       "1190  [>#680,253 in Electronics (See Top 100 in Elec...  Computers   \n",
       "\n",
       "                 date        asin feature tech1 also_buy price also_view  \\\n",
       "1186    March 1, 2010  B0016C5EXY                                          \n",
       "1190  August 18, 2012  B0016JHR82                                          \n",
       "\n",
       "     tech2 details similar_item  \n",
       "1186                             \n",
       "1190                             "
      ]
     },
     "execution_count": 10,
     "metadata": {},
     "output_type": "execute_result"
    }
   ],
   "source": [
    "df4.head(2)"
   ]
  },
  {
   "cell_type": "code",
   "execution_count": 11,
   "metadata": {},
   "outputs": [
    {
     "data": {
      "text/html": [
       "<div>\n",
       "<style scoped>\n",
       "    .dataframe tbody tr th:only-of-type {\n",
       "        vertical-align: middle;\n",
       "    }\n",
       "\n",
       "    .dataframe tbody tr th {\n",
       "        vertical-align: top;\n",
       "    }\n",
       "\n",
       "    .dataframe thead th {\n",
       "        text-align: right;\n",
       "    }\n",
       "</style>\n",
       "<table border=\"1\" class=\"dataframe\">\n",
       "  <thead>\n",
       "    <tr style=\"text-align: right;\">\n",
       "      <th></th>\n",
       "      <th>description</th>\n",
       "      <th>title</th>\n",
       "      <th>image</th>\n",
       "      <th>brand</th>\n",
       "      <th>rank</th>\n",
       "      <th>main_cat</th>\n",
       "      <th>date</th>\n",
       "      <th>asin</th>\n",
       "      <th>feature</th>\n",
       "      <th>tech1</th>\n",
       "      <th>also_buy</th>\n",
       "      <th>price</th>\n",
       "      <th>also_view</th>\n",
       "      <th>tech2</th>\n",
       "      <th>details</th>\n",
       "      <th>similar_item</th>\n",
       "    </tr>\n",
       "  </thead>\n",
       "  <tbody>\n",
       "    <tr>\n",
       "      <th>0</th>\n",
       "      <td>[Brand new. Still in factory-sealed plastic.]</td>\n",
       "      <td>Kelby Training DVD: The Adobe Photoshop CS5 7-...</td>\n",
       "      <td>[https://images-na.ssl-images-amazon.com/image...</td>\n",
       "      <td>Kelby Training</td>\n",
       "      <td>[&gt;#654,681 in Electronics (See Top 100 in Elec...</td>\n",
       "      <td>Computers</td>\n",
       "      <td>December 2, 2011</td>\n",
       "      <td>0321732960</td>\n",
       "      <td></td>\n",
       "      <td></td>\n",
       "      <td></td>\n",
       "      <td></td>\n",
       "      <td></td>\n",
       "      <td></td>\n",
       "      <td></td>\n",
       "      <td></td>\n",
       "    </tr>\n",
       "    <tr>\n",
       "      <th>1</th>\n",
       "      <td>[If you're already a Photoshop user and want a...</td>\n",
       "      <td>Kelby Training DVD: Adobe Photoshop CS5 Power ...</td>\n",
       "      <td>[https://images-na.ssl-images-amazon.com/image...</td>\n",
       "      <td>Kelby Training</td>\n",
       "      <td>[&gt;#830,165 in Electronics (See Top 100 in Elec...</td>\n",
       "      <td>Computers</td>\n",
       "      <td>November 7, 2011</td>\n",
       "      <td>0321735722</td>\n",
       "      <td></td>\n",
       "      <td></td>\n",
       "      <td></td>\n",
       "      <td></td>\n",
       "      <td></td>\n",
       "      <td></td>\n",
       "      <td></td>\n",
       "      <td></td>\n",
       "    </tr>\n",
       "  </tbody>\n",
       "</table>\n",
       "</div>"
      ],
      "text/plain": [
       "                                         description  \\\n",
       "0      [Brand new. Still in factory-sealed plastic.]   \n",
       "1  [If you're already a Photoshop user and want a...   \n",
       "\n",
       "                                               title  \\\n",
       "0  Kelby Training DVD: The Adobe Photoshop CS5 7-...   \n",
       "1  Kelby Training DVD: Adobe Photoshop CS5 Power ...   \n",
       "\n",
       "                                               image           brand  \\\n",
       "0  [https://images-na.ssl-images-amazon.com/image...  Kelby Training   \n",
       "1  [https://images-na.ssl-images-amazon.com/image...  Kelby Training   \n",
       "\n",
       "                                                rank   main_cat  \\\n",
       "0  [>#654,681 in Electronics (See Top 100 in Elec...  Computers   \n",
       "1  [>#830,165 in Electronics (See Top 100 in Elec...  Computers   \n",
       "\n",
       "               date        asin feature tech1 also_buy price also_view tech2  \\\n",
       "0  December 2, 2011  0321732960                                                \n",
       "1  November 7, 2011  0321735722                                                \n",
       "\n",
       "  details similar_item  \n",
       "0                       \n",
       "1                       "
      ]
     },
     "execution_count": 11,
     "metadata": {},
     "output_type": "execute_result"
    }
   ],
   "source": [
    "df5.head(2)"
   ]
  },
  {
   "cell_type": "code",
   "execution_count": 12,
   "metadata": {
    "id": "uXv0hWdJwtpS"
   },
   "outputs": [
    {
     "data": {
      "text/plain": [
       "description                                                      \n",
       "title           var aPageStart = (new Date()).getTime();\\nvar ...\n",
       "image                                                            \n",
       "brand                                              DS Miller Inc.\n",
       "rank            [>#1,826,312 in Electronics (See Top 100 in El...\n",
       "main_cat                                                Computers\n",
       "date                                                March 1, 2010\n",
       "asin                                                   B0016C5EXY\n",
       "feature                                                          \n",
       "tech1                                                            \n",
       "also_buy                                                         \n",
       "price                                                            \n",
       "also_view                                                        \n",
       "tech2                                                            \n",
       "details                                                          \n",
       "similar_item                                                     \n",
       "Name: 1186, dtype: object"
      ]
     },
     "execution_count": 12,
     "metadata": {},
     "output_type": "execute_result"
    }
   ],
   "source": [
    "# how those unformatted rows look like\n",
    "df4.iloc[0]"
   ]
  },
  {
   "cell_type": "code",
   "execution_count": 13,
   "metadata": {
    "executionInfo": {
     "elapsed": 620,
     "status": "ok",
     "timestamp": 1611205316295,
     "user": {
      "displayName": "Jaewon Fastcampus",
      "photoUrl": "",
      "userId": "05122666633107220130"
     },
     "user_tz": -540
    },
    "id": "iMsmQMnRbnll"
   },
   "outputs": [],
   "source": [
    "path = './amazon_data'"
   ]
  },
  {
   "cell_type": "markdown",
   "metadata": {
    "id": "4xeh9lVlhHlp"
   },
   "source": [
    "#### Read CSV file for ratings only\n",
    "- (item, user, rating, timestamp)"
   ]
  },
  {
   "cell_type": "code",
   "execution_count": 14,
   "metadata": {
    "executionInfo": {
     "elapsed": 1506,
     "status": "ok",
     "timestamp": 1611205359199,
     "user": {
      "displayName": "Jaewon Fastcampus",
      "photoUrl": "",
      "userId": "05122666633107220130"
     },
     "user_tz": -540
    },
    "id": "LIRBr0kyb3Fx"
   },
   "outputs": [],
   "source": [
    "ratings_df = pd.read_csv(os.path.join(path, 'Software.csv'), header=None, names=['item','user','rating','timestamp'], encoding='utf-8')"
   ]
  },
  {
   "cell_type": "code",
   "execution_count": 15,
   "metadata": {
    "colab": {
     "base_uri": "https://localhost:8080/"
    },
    "executionInfo": {
     "elapsed": 680,
     "status": "ok",
     "timestamp": 1611205361098,
     "user": {
      "displayName": "Jaewon Fastcampus",
      "photoUrl": "",
      "userId": "05122666633107220130"
     },
     "user_tz": -540
    },
    "id": "USHRNGhmb_OW",
    "outputId": "a4aff319-ab1d-49c8-f289-afd540143677"
   },
   "outputs": [
    {
     "name": "stdout",
     "output_type": "stream",
     "text": [
      "(459436, 4)\n",
      "         item            user  rating   timestamp\n",
      "0  0077613252  A240ORQ2LF9LUI     4.0  1394496000\n",
      "1  0077613252  A1YCCU0YRLS0FE     4.0  1393113600\n",
      "2  0077613252  A1BJHRQDYVAY2J     1.0  1392595200\n",
      "3  0077613252   APRDVZ6QBIQXT     3.0  1392595200\n",
      "4  0077775473  A2JZTTBSLS1QXV     5.0  1381708800\n"
     ]
    }
   ],
   "source": [
    "print(ratings_df.shape)\n",
    "print(ratings_df.head())"
   ]
  },
  {
   "cell_type": "markdown",
   "metadata": {
    "id": "LVo9vb-2jCH6"
   },
   "source": [
    "#### Read JSON file\n",
    "  - users and items with reviews each\n",
    "  - ![image.png](data:image/png;base64,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)"
   ]
  },
  {
   "cell_type": "code",
   "execution_count": 16,
   "metadata": {
    "executionInfo": {
     "elapsed": 1736,
     "status": "ok",
     "timestamp": 1611205472873,
     "user": {
      "displayName": "Jaewon Fastcampus",
      "photoUrl": "",
      "userId": "05122666633107220130"
     },
     "user_tz": -540
    },
    "id": "S3_kL5FAcCsX"
   },
   "outputs": [],
   "source": [
    "data = []\n",
    "with open(os.path.join(path, 'Software_5.json'), 'r', encoding='utf-8') as f:\n",
    "    for l in f:\n",
    "        data.append(json.loads(l.strip()))"
   ]
  },
  {
   "cell_type": "code",
   "execution_count": 17,
   "metadata": {
    "colab": {
     "base_uri": "https://localhost:8080/"
    },
    "executionInfo": {
     "elapsed": 597,
     "status": "ok",
     "timestamp": 1611205488597,
     "user": {
      "displayName": "Jaewon Fastcampus",
      "photoUrl": "",
      "userId": "05122666633107220130"
     },
     "user_tz": -540
    },
    "id": "dXDE8EspeTJT",
    "outputId": "a04d8d21-5686-4d9e-9b06-052a6030f13b"
   },
   "outputs": [],
   "source": [
    "all_df = pd.DataFrame.from_dict(data)"
   ]
  },
  {
   "cell_type": "code",
   "execution_count": 18,
   "metadata": {},
   "outputs": [
    {
     "name": "stdout",
     "output_type": "stream",
     "text": [
      "(12805, 12)\n",
      "Index(['overall', 'verified', 'reviewTime', 'reviewerID', 'asin', 'style',\n",
      "       'reviewerName', 'reviewText', 'summary', 'unixReviewTime', 'vote',\n",
      "       'image'],\n",
      "      dtype='object')\n"
     ]
    }
   ],
   "source": [
    "print(all_df.shape)\n",
    "print(all_df.columns)"
   ]
  },
  {
   "cell_type": "code",
   "execution_count": 19,
   "metadata": {},
   "outputs": [
    {
     "data": {
      "text/html": [
       "<div>\n",
       "<style scoped>\n",
       "    .dataframe tbody tr th:only-of-type {\n",
       "        vertical-align: middle;\n",
       "    }\n",
       "\n",
       "    .dataframe tbody tr th {\n",
       "        vertical-align: top;\n",
       "    }\n",
       "\n",
       "    .dataframe thead th {\n",
       "        text-align: right;\n",
       "    }\n",
       "</style>\n",
       "<table border=\"1\" class=\"dataframe\">\n",
       "  <thead>\n",
       "    <tr style=\"text-align: right;\">\n",
       "      <th></th>\n",
       "      <th>overall</th>\n",
       "      <th>verified</th>\n",
       "      <th>reviewTime</th>\n",
       "      <th>reviewerID</th>\n",
       "      <th>asin</th>\n",
       "      <th>style</th>\n",
       "      <th>reviewerName</th>\n",
       "      <th>reviewText</th>\n",
       "      <th>summary</th>\n",
       "      <th>unixReviewTime</th>\n",
       "      <th>vote</th>\n",
       "      <th>image</th>\n",
       "    </tr>\n",
       "  </thead>\n",
       "  <tbody>\n",
       "    <tr>\n",
       "      <th>0</th>\n",
       "      <td>4.0</td>\n",
       "      <td>False</td>\n",
       "      <td>10 20, 2010</td>\n",
       "      <td>A38NELQT98S4H8</td>\n",
       "      <td>0321719816</td>\n",
       "      <td>{'Format:': ' DVD-ROM'}</td>\n",
       "      <td>WB Halper</td>\n",
       "      <td>I've been using Dreamweaver (and it's predeces...</td>\n",
       "      <td>A solid overview of Dreamweaver CS5</td>\n",
       "      <td>1287532800</td>\n",
       "      <td>NaN</td>\n",
       "      <td>NaN</td>\n",
       "    </tr>\n",
       "    <tr>\n",
       "      <th>1</th>\n",
       "      <td>4.0</td>\n",
       "      <td>False</td>\n",
       "      <td>10 18, 2010</td>\n",
       "      <td>A3QJU4FEN8PQSZ</td>\n",
       "      <td>0321719816</td>\n",
       "      <td>{'Format:': ' DVD-ROM'}</td>\n",
       "      <td>Grimmy</td>\n",
       "      <td>The demo is done with the PC version, with ref...</td>\n",
       "      <td>A good value</td>\n",
       "      <td>1287360000</td>\n",
       "      <td>NaN</td>\n",
       "      <td>NaN</td>\n",
       "    </tr>\n",
       "    <tr>\n",
       "      <th>2</th>\n",
       "      <td>5.0</td>\n",
       "      <td>False</td>\n",
       "      <td>10 16, 2010</td>\n",
       "      <td>ACJT8MUC0LRF0</td>\n",
       "      <td>0321719816</td>\n",
       "      <td>{'Format:': ' DVD-ROM'}</td>\n",
       "      <td>D. Fowler</td>\n",
       "      <td>If you've been wanting to learn how to create ...</td>\n",
       "      <td>This is excellent software for those who want ...</td>\n",
       "      <td>1287187200</td>\n",
       "      <td>3</td>\n",
       "      <td>NaN</td>\n",
       "    </tr>\n",
       "    <tr>\n",
       "      <th>3</th>\n",
       "      <td>5.0</td>\n",
       "      <td>False</td>\n",
       "      <td>10 12, 2010</td>\n",
       "      <td>AYUF7YETYOLNX</td>\n",
       "      <td>0321719816</td>\n",
       "      <td>{'Format:': ' DVD-ROM'}</td>\n",
       "      <td>Bryan Newman</td>\n",
       "      <td>I've been creating websites with Dreamweaver f...</td>\n",
       "      <td>A Fantastic Overview of Dream Weaver and Web D...</td>\n",
       "      <td>1286841600</td>\n",
       "      <td>NaN</td>\n",
       "      <td>NaN</td>\n",
       "    </tr>\n",
       "    <tr>\n",
       "      <th>4</th>\n",
       "      <td>5.0</td>\n",
       "      <td>False</td>\n",
       "      <td>10 7, 2010</td>\n",
       "      <td>A31ICLWQ9CSHRS</td>\n",
       "      <td>0321719816</td>\n",
       "      <td>{'Format:': ' DVD-ROM'}</td>\n",
       "      <td>Al Swanson</td>\n",
       "      <td>I decided (after trying a number of other prod...</td>\n",
       "      <td>Excellent Tutorials!</td>\n",
       "      <td>1286409600</td>\n",
       "      <td>NaN</td>\n",
       "      <td>NaN</td>\n",
       "    </tr>\n",
       "  </tbody>\n",
       "</table>\n",
       "</div>"
      ],
      "text/plain": [
       "   overall  verified   reviewTime      reviewerID        asin  \\\n",
       "0      4.0     False  10 20, 2010  A38NELQT98S4H8  0321719816   \n",
       "1      4.0     False  10 18, 2010  A3QJU4FEN8PQSZ  0321719816   \n",
       "2      5.0     False  10 16, 2010   ACJT8MUC0LRF0  0321719816   \n",
       "3      5.0     False  10 12, 2010   AYUF7YETYOLNX  0321719816   \n",
       "4      5.0     False   10 7, 2010  A31ICLWQ9CSHRS  0321719816   \n",
       "\n",
       "                     style  reviewerName  \\\n",
       "0  {'Format:': ' DVD-ROM'}     WB Halper   \n",
       "1  {'Format:': ' DVD-ROM'}        Grimmy   \n",
       "2  {'Format:': ' DVD-ROM'}     D. Fowler   \n",
       "3  {'Format:': ' DVD-ROM'}  Bryan Newman   \n",
       "4  {'Format:': ' DVD-ROM'}    Al Swanson   \n",
       "\n",
       "                                          reviewText  \\\n",
       "0  I've been using Dreamweaver (and it's predeces...   \n",
       "1  The demo is done with the PC version, with ref...   \n",
       "2  If you've been wanting to learn how to create ...   \n",
       "3  I've been creating websites with Dreamweaver f...   \n",
       "4  I decided (after trying a number of other prod...   \n",
       "\n",
       "                                             summary  unixReviewTime vote  \\\n",
       "0                A solid overview of Dreamweaver CS5      1287532800  NaN   \n",
       "1                                       A good value      1287360000  NaN   \n",
       "2  This is excellent software for those who want ...      1287187200    3   \n",
       "3  A Fantastic Overview of Dream Weaver and Web D...      1286841600  NaN   \n",
       "4                               Excellent Tutorials!      1286409600  NaN   \n",
       "\n",
       "  image  \n",
       "0   NaN  \n",
       "1   NaN  \n",
       "2   NaN  \n",
       "3   NaN  \n",
       "4   NaN  "
      ]
     },
     "execution_count": 19,
     "metadata": {},
     "output_type": "execute_result"
    }
   ],
   "source": [
    "all_df.head()"
   ]
  },
  {
   "cell_type": "code",
   "execution_count": 20,
   "metadata": {
    "colab": {
     "base_uri": "https://localhost:8080/"
    },
    "executionInfo": {
     "elapsed": 692,
     "status": "ok",
     "timestamp": 1611205566115,
     "user": {
      "displayName": "Jaewon Fastcampus",
      "photoUrl": "",
      "userId": "05122666633107220130"
     },
     "user_tz": -540
    },
    "id": "OyVNchPigtwS",
    "outputId": "57701453-cf1c-4e4e-bcb5-f60e9281343c"
   },
   "outputs": [
    {
     "name": "stdout",
     "output_type": "stream",
     "text": [
      "       reviewerID        asin vote  \\\n",
      "0  A38NELQT98S4H8  0321719816  NaN   \n",
      "1  A3QJU4FEN8PQSZ  0321719816  NaN   \n",
      "2   ACJT8MUC0LRF0  0321719816    3   \n",
      "3   AYUF7YETYOLNX  0321719816  NaN   \n",
      "4  A31ICLWQ9CSHRS  0321719816  NaN   \n",
      "\n",
      "                                          reviewText  overall  \n",
      "0  I've been using Dreamweaver (and it's predeces...      4.0  \n",
      "1  The demo is done with the PC version, with ref...      4.0  \n",
      "2  If you've been wanting to learn how to create ...      5.0  \n",
      "3  I've been creating websites with Dreamweaver f...      5.0  \n",
      "4  I decided (after trying a number of other prod...      5.0  \n"
     ]
    }
   ],
   "source": [
    "all_df = all_df[['reviewerID', 'asin', 'vote', 'reviewText', 'overall']]\n",
    "print(all_df.head())"
   ]
  },
  {
   "cell_type": "code",
   "execution_count": 21,
   "metadata": {
    "colab": {
     "base_uri": "https://localhost:8080/",
     "height": 195
    },
    "executionInfo": {
     "elapsed": 635,
     "status": "ok",
     "timestamp": 1611205577394,
     "user": {
      "displayName": "Jaewon Fastcampus",
      "photoUrl": "",
      "userId": "05122666633107220130"
     },
     "user_tz": -540
    },
    "id": "0fb3Ig4LVfFT",
    "outputId": "abd5180b-6451-4fd5-804a-866d94f12574"
   },
   "outputs": [
    {
     "data": {
      "text/html": [
       "<div>\n",
       "<style scoped>\n",
       "    .dataframe tbody tr th:only-of-type {\n",
       "        vertical-align: middle;\n",
       "    }\n",
       "\n",
       "    .dataframe tbody tr th {\n",
       "        vertical-align: top;\n",
       "    }\n",
       "\n",
       "    .dataframe thead th {\n",
       "        text-align: right;\n",
       "    }\n",
       "</style>\n",
       "<table border=\"1\" class=\"dataframe\">\n",
       "  <thead>\n",
       "    <tr style=\"text-align: right;\">\n",
       "      <th></th>\n",
       "      <th>reviewerID</th>\n",
       "      <th>asin</th>\n",
       "      <th>vote</th>\n",
       "      <th>reviewText</th>\n",
       "      <th>overall</th>\n",
       "    </tr>\n",
       "  </thead>\n",
       "  <tbody>\n",
       "    <tr>\n",
       "      <th>0</th>\n",
       "      <td>A38NELQT98S4H8</td>\n",
       "      <td>0321719816</td>\n",
       "      <td>NaN</td>\n",
       "      <td>I've been using Dreamweaver (and it's predeces...</td>\n",
       "      <td>4.0</td>\n",
       "    </tr>\n",
       "    <tr>\n",
       "      <th>1</th>\n",
       "      <td>A3QJU4FEN8PQSZ</td>\n",
       "      <td>0321719816</td>\n",
       "      <td>NaN</td>\n",
       "      <td>The demo is done with the PC version, with ref...</td>\n",
       "      <td>4.0</td>\n",
       "    </tr>\n",
       "    <tr>\n",
       "      <th>2</th>\n",
       "      <td>ACJT8MUC0LRF0</td>\n",
       "      <td>0321719816</td>\n",
       "      <td>3</td>\n",
       "      <td>If you've been wanting to learn how to create ...</td>\n",
       "      <td>5.0</td>\n",
       "    </tr>\n",
       "  </tbody>\n",
       "</table>\n",
       "</div>"
      ],
      "text/plain": [
       "       reviewerID        asin vote  \\\n",
       "0  A38NELQT98S4H8  0321719816  NaN   \n",
       "1  A3QJU4FEN8PQSZ  0321719816  NaN   \n",
       "2   ACJT8MUC0LRF0  0321719816    3   \n",
       "\n",
       "                                          reviewText  overall  \n",
       "0  I've been using Dreamweaver (and it's predeces...      4.0  \n",
       "1  The demo is done with the PC version, with ref...      4.0  \n",
       "2  If you've been wanting to learn how to create ...      5.0  "
      ]
     },
     "execution_count": 21,
     "metadata": {},
     "output_type": "execute_result"
    }
   ],
   "source": [
    "all_df.head(3)"
   ]
  },
  {
   "cell_type": "markdown",
   "metadata": {
    "id": "uUj9Tb17zYBX"
   },
   "source": [
    "## Analyze data\n",
    "\n",
    "1. `reviewer`와 `item` unique수\n",
    "2. `reviewer`가 평균 review를 준 item 수"
   ]
  },
  {
   "cell_type": "code",
   "execution_count": 22,
   "metadata": {},
   "outputs": [
    {
     "name": "stdout",
     "output_type": "stream",
     "text": [
      "1826\n"
     ]
    }
   ],
   "source": [
    "# number of unique reviewers\n",
    "print(len(all_df['reviewerID'].unique()))"
   ]
  },
  {
   "cell_type": "code",
   "execution_count": 23,
   "metadata": {
    "colab": {
     "base_uri": "https://localhost:8080/"
    },
    "executionInfo": {
     "elapsed": 586,
     "status": "ok",
     "timestamp": 1611205620904,
     "user": {
      "displayName": "Jaewon Fastcampus",
      "photoUrl": "",
      "userId": "05122666633107220130"
     },
     "user_tz": -540
    },
    "id": "eZnoEIvtxpGu",
    "outputId": "1cb64158-79c5-461a-df30-a2fbd3640086"
   },
   "outputs": [
    {
     "name": "stdout",
     "output_type": "stream",
     "text": [
      "802\n"
     ]
    }
   ],
   "source": [
    "# number of unique items\n",
    "print(len(all_df['asin'].unique()))"
   ]
  },
  {
   "cell_type": "code",
   "execution_count": 24,
   "metadata": {
    "colab": {
     "base_uri": "https://localhost:8080/"
    },
    "executionInfo": {
     "elapsed": 576,
     "status": "ok",
     "timestamp": 1611205646765,
     "user": {
      "displayName": "Jaewon Fastcampus",
      "photoUrl": "",
      "userId": "05122666633107220130"
     },
     "user_tz": -540
    },
    "id": "L_td2LGzzK57",
    "outputId": "614a24c6-765f-4340-e0e5-31b9031c7ca4"
   },
   "outputs": [],
   "source": [
    "reviewer_info_df = pd.concat([all_df.groupby(by='reviewerID')['asin'].count(), \n",
    "                              all_df.groupby(by='reviewerID')['overall'].mean()], axis=1)\n",
    "reviewer_info_df.columns = ['number_of_items','average_ratings']"
   ]
  },
  {
   "cell_type": "code",
   "execution_count": 25,
   "metadata": {},
   "outputs": [
    {
     "name": "stdout",
     "output_type": "stream",
     "text": [
      "(1826, 2)\n"
     ]
    },
    {
     "data": {
      "text/html": [
       "<div>\n",
       "<style scoped>\n",
       "    .dataframe tbody tr th:only-of-type {\n",
       "        vertical-align: middle;\n",
       "    }\n",
       "\n",
       "    .dataframe tbody tr th {\n",
       "        vertical-align: top;\n",
       "    }\n",
       "\n",
       "    .dataframe thead th {\n",
       "        text-align: right;\n",
       "    }\n",
       "</style>\n",
       "<table border=\"1\" class=\"dataframe\">\n",
       "  <thead>\n",
       "    <tr style=\"text-align: right;\">\n",
       "      <th></th>\n",
       "      <th>number_of_items</th>\n",
       "      <th>average_ratings</th>\n",
       "    </tr>\n",
       "    <tr>\n",
       "      <th>reviewerID</th>\n",
       "      <th></th>\n",
       "      <th></th>\n",
       "    </tr>\n",
       "  </thead>\n",
       "  <tbody>\n",
       "    <tr>\n",
       "      <th>A100UD67AHFODS</th>\n",
       "      <td>5</td>\n",
       "      <td>4.800000</td>\n",
       "    </tr>\n",
       "    <tr>\n",
       "      <th>A105S56ODHGJEK</th>\n",
       "      <td>29</td>\n",
       "      <td>3.689655</td>\n",
       "    </tr>\n",
       "    <tr>\n",
       "      <th>A1075X1Q4M3S78</th>\n",
       "      <td>5</td>\n",
       "      <td>5.000000</td>\n",
       "    </tr>\n",
       "    <tr>\n",
       "      <th>A10C5CJK1YKGV0</th>\n",
       "      <td>10</td>\n",
       "      <td>4.100000</td>\n",
       "    </tr>\n",
       "    <tr>\n",
       "      <th>A10CRW7XRJBJ2G</th>\n",
       "      <td>5</td>\n",
       "      <td>3.200000</td>\n",
       "    </tr>\n",
       "  </tbody>\n",
       "</table>\n",
       "</div>"
      ],
      "text/plain": [
       "                number_of_items  average_ratings\n",
       "reviewerID                                      \n",
       "A100UD67AHFODS                5         4.800000\n",
       "A105S56ODHGJEK               29         3.689655\n",
       "A1075X1Q4M3S78                5         5.000000\n",
       "A10C5CJK1YKGV0               10         4.100000\n",
       "A10CRW7XRJBJ2G                5         3.200000"
      ]
     },
     "execution_count": 25,
     "metadata": {},
     "output_type": "execute_result"
    }
   ],
   "source": [
    "print(reviewer_info_df.shape)\n",
    "reviewer_info_df.head()"
   ]
  },
  {
   "cell_type": "code",
   "execution_count": 26,
   "metadata": {
    "colab": {
     "base_uri": "https://localhost:8080/",
     "height": 331
    },
    "executionInfo": {
     "elapsed": 1345,
     "status": "ok",
     "timestamp": 1611205679924,
     "user": {
      "displayName": "Jaewon Fastcampus",
      "photoUrl": "",
      "userId": "05122666633107220130"
     },
     "user_tz": -540
    },
    "id": "rydIzQ-o3s7u",
    "outputId": "f9118c34-d248-4aba-9443-870a8fb2324b"
   },
   "outputs": [
    {
     "data": {
      "text/plain": [
       "array([[<AxesSubplot:title={'center':'number_of_items'}>,\n",
       "        <AxesSubplot:title={'center':'average_ratings'}>]], dtype=object)"
      ]
     },
     "execution_count": 26,
     "metadata": {},
     "output_type": "execute_result"
    },
    {
     "data": {
      "image/png": "[encoded data removed]",
      "text/plain": [
       "<Figure size 432x288 with 2 Axes>"
      ]
     },
     "metadata": {
      "needs_background": "light"
     },
     "output_type": "display_data"
    }
   ],
   "source": [
    "# review를 쓴 평균 item 수, item의 평균 평점\n",
    "reviewer_info_df.hist()"
   ]
  },
  {
   "cell_type": "markdown",
   "metadata": {
    "id": "5NDHKwJa5pzF"
   },
   "source": [
    "## Preprocess text data"
   ]
  },
  {
   "cell_type": "code",
   "execution_count": 27,
   "metadata": {
    "executionInfo": {
     "elapsed": 598,
     "status": "ok",
     "timestamp": 1611205786226,
     "user": {
      "displayName": "Jaewon Fastcampus",
      "photoUrl": "",
      "userId": "05122666633107220130"
     },
     "user_tz": -540
    },
    "id": "zfNyUWYFBS4s"
   },
   "outputs": [],
   "source": [
    "import re"
   ]
  },
  {
   "cell_type": "code",
   "execution_count": 28,
   "metadata": {
    "executionInfo": {
     "elapsed": 599,
     "status": "ok",
     "timestamp": 1611205825347,
     "user": {
      "displayName": "Jaewon Fastcampus",
      "photoUrl": "",
      "userId": "05122666633107220130"
     },
     "user_tz": -540
    },
    "id": "2nebP_0t-SL0"
   },
   "outputs": [],
   "source": [
    "removal_list =  \"‘, ’, ◇, ‘, ”,  ’, ', ·, \\“, ·, △, ●,  , ■, (, ), \\\", >>, `, /, -,∼,=,ㆍ<,>, .,?, !,【,】, …, ◆,%\"\n",
    "\n",
    "def preprocess_sent(sentence):\n",
    "    sentence = re.sub(\"[.,\\'\\\"’‘”“!?]\", \"\", sentence)\n",
    "    sentence = re.sub(\"[^0-9a-zA-Z\\\\s]\", \" \", sentence)\n",
    "    sentence = re.sub(\"\\s+\", \" \", sentence)\n",
    "    \n",
    "    sentence = sentence.translate(str.maketrans(removal_list, ' '*len(removal_list)))\n",
    "    sentence = sentence.strip()\n",
    "\n",
    "    return sentence"
   ]
  },
  {
   "cell_type": "code",
   "execution_count": 29,
   "metadata": {
    "colab": {
     "base_uri": "https://localhost:8080/"
    },
    "executionInfo": {
     "elapsed": 2080,
     "status": "ok",
     "timestamp": 1611205906027,
     "user": {
      "displayName": "Jaewon Fastcampus",
      "photoUrl": "",
      "userId": "05122666633107220130"
     },
     "user_tz": -540
    },
    "id": "GJaAsiUc0GFC",
    "outputId": "89d7fc92-698a-4f31-edb8-adf8c1bc5a9f"
   },
   "outputs": [
    {
     "name": "stdout",
     "output_type": "stream",
     "text": [
      "(12804, 2)\n"
     ]
    }
   ],
   "source": [
    "all_df = all_df[['reviewText','overall']]\n",
    "all_df.dropna(how='any', inplace=True)\n",
    "all_df['reviewText'] = all_df['reviewText'].apply(lambda x: preprocess_sent(str(x).replace('\\t',' ').replace('\\n',' ')))\n",
    "all_df['reviewText'] = all_df['reviewText'].apply(lambda x: ' '.join(x.split(' ')[:30]))\n",
    "\n",
    "print(all_df.shape)"
   ]
  },
  {
   "cell_type": "code",
   "execution_count": 30,
   "metadata": {
    "executionInfo": {
     "elapsed": 649,
     "status": "ok",
     "timestamp": 1611205926502,
     "user": {
      "displayName": "Jaewon Fastcampus",
      "photoUrl": "",
      "userId": "05122666633107220130"
     },
     "user_tz": -540
    },
    "id": "Cd_QAJbIATDU"
   },
   "outputs": [],
   "source": [
    "all_df['num_lengths'] = all_df['reviewText'].apply(lambda x: len(x.split(' ')))\n",
    "all_df = all_df[all_df.num_lengths > 10]"
   ]
  },
  {
   "cell_type": "code",
   "execution_count": 31,
   "metadata": {
    "colab": {
     "base_uri": "https://localhost:8080/"
    },
    "executionInfo": {
     "elapsed": 827,
     "status": "ok",
     "timestamp": 1611205950864,
     "user": {
      "displayName": "Jaewon Fastcampus",
      "photoUrl": "",
      "userId": "05122666633107220130"
     },
     "user_tz": -540
    },
    "id": "THp_B9p3B-qV",
    "outputId": "c706ba23-d5a8-45ae-b56e-ebc4be61f367"
   },
   "outputs": [
    {
     "name": "stdout",
     "output_type": "stream",
     "text": [
      "(11273, 2)\n"
     ]
    }
   ],
   "source": [
    "all_df.drop('num_lengths', axis=1, inplace=True)\n",
    "print(all_df.shape)\n",
    "all_df.to_csv(os.path.join(path, 'Software_reviewText.csv'), sep='\\t', encoding='utf-8')"
   ]
  },
  {
   "cell_type": "code",
   "execution_count": 32,
   "metadata": {
    "colab": {
     "base_uri": "https://localhost:8080/",
     "height": 52
    },
    "executionInfo": {
     "elapsed": 607,
     "status": "ok",
     "timestamp": 1611205980163,
     "user": {
      "displayName": "Jaewon Fastcampus",
      "photoUrl": "",
      "userId": "05122666633107220130"
     },
     "user_tz": -540
    },
    "id": "FlabtQYc9peD",
    "outputId": "542b5d35-0118-41ed-beac-e6d2c6b4c155"
   },
   "outputs": [
    {
     "data": {
      "text/plain": [
       "'Ive been using Dreamweaver and its predecessor Macromedias UltraDev for many years For someone who is an experienced web designer this course is a high level review of the CS5'"
      ]
     },
     "execution_count": 32,
     "metadata": {},
     "output_type": "execute_result"
    }
   ],
   "source": [
    "all_df['reviewText'].iloc[0]"
   ]
  },
  {
   "cell_type": "code",
   "execution_count": 33,
   "metadata": {
    "colab": {
     "base_uri": "https://localhost:8080/"
    },
    "executionInfo": {
     "elapsed": 758,
     "status": "ok",
     "timestamp": 1611206011246,
     "user": {
      "displayName": "Jaewon Fastcampus",
      "photoUrl": "",
      "userId": "05122666633107220130"
     },
     "user_tz": -540
    },
    "id": "P-8t32DAXIvQ",
    "outputId": "bb14dc13-83ed-422d-fb23-30974acf5329"
   },
   "outputs": [
    {
     "data": {
      "text/plain": [
       "4.0"
      ]
     },
     "execution_count": 33,
     "metadata": {},
     "output_type": "execute_result"
    }
   ],
   "source": [
    "all_df['overall'].iloc[0]"
   ]
  },
  {
   "cell_type": "markdown",
   "metadata": {
    "id": "yyuACh772OJL"
   },
   "source": [
    "## Load dataset"
   ]
  },
  {
   "cell_type": "code",
   "execution_count": 34,
   "metadata": {},
   "outputs": [],
   "source": [
    "import torch\n",
    "from torchtext.legacy import data\n",
    "from torchtext import datasets\n",
    "import random\n",
    "\n",
    "# !python -m spacy download en"
   ]
  },
  {
   "cell_type": "code",
   "execution_count": 35,
   "metadata": {
    "executionInfo": {
     "elapsed": 7705,
     "status": "ok",
     "timestamp": 1611206069655,
     "user": {
      "displayName": "Jaewon Fastcampus",
      "photoUrl": "",
      "userId": "05122666633107220130"
     },
     "user_tz": -540
    },
    "id": "IzzqpuvOy-SH",
    "scrolled": true
   },
   "outputs": [],
   "source": [
    "SEED = 1234\n",
    "\n",
    "torch.manual_seed(SEED)\n",
    "torch.backends.cudnn.deterministic = True\n",
    "\n",
    "TEXT = data.Field(tokenize = 'spacy')\n",
    "LABEL = data.LabelField()"
   ]
  },
  {
   "cell_type": "code",
   "execution_count": 36,
   "metadata": {
    "colab": {
     "base_uri": "https://localhost:8080/"
    },
    "executionInfo": {
     "elapsed": 1566,
     "status": "ok",
     "timestamp": 1611206076668,
     "user": {
      "displayName": "Jaewon Fastcampus",
      "photoUrl": "",
      "userId": "05122666633107220130"
     },
     "user_tz": -540
    },
    "id": "odTeAk4A8D-V",
    "outputId": "3aed510a-9969-40ba-911a-3c0483829551"
   },
   "outputs": [
    {
     "name": "stdout",
     "output_type": "stream",
     "text": [
      "{'text': ['I', 've', 'been', 'using', 'Dreamweaver', 'and', 'its', 'predecessor', 'Macromedias', 'UltraDev', 'for', 'many', 'years', 'For', 'someone', 'who', 'is', 'an', 'experienced', 'web', 'designer', 'this', 'course', 'is', 'a', 'high', 'level', 'review', 'of', 'the', 'CS5'], 'label': '4.0'}\n"
     ]
    }
   ],
   "source": [
    "fields = [(None, None), ('text', TEXT), ('label', LABEL)]\n",
    "\n",
    "# Load Custom dataset\n",
    "training_data = data.TabularDataset(path=os.path.join(path,'Software_reviewText.csv'),\n",
    "                                  format ='tsv', fields = fields, skip_header = True)\n",
    "\n",
    "# Print sample text\n",
    "print(vars(training_data.examples[0]))"
   ]
  },
  {
   "cell_type": "code",
   "execution_count": 37,
   "metadata": {
    "executionInfo": {
     "elapsed": 611,
     "status": "ok",
     "timestamp": 1611206133037,
     "user": {
      "displayName": "Jaewon Fastcampus",
      "photoUrl": "",
      "userId": "05122666633107220130"
     },
     "user_tz": -540
    },
    "id": "3_LrZmQp8H3X"
   },
   "outputs": [],
   "source": [
    "MAX_VOCAB_SIZE = 25000\n",
    "\n",
    "# Pre-trained embedding을 사용하고자 한다면 아래를 실행하자\n",
    "# TEXT.build_vocab(train_data, \n",
    "#                  max_size = MAX_VOCAB_SIZE, \n",
    "#                  vectors = \"glove.6B.100d\", \n",
    "#                  unk_init = torch.Tensor.normal_)\n",
    "\n",
    "TEXT.build_vocab(training_data, \n",
    "                 max_size = MAX_VOCAB_SIZE)\n",
    "\n",
    "LABEL.build_vocab(training_data)"
   ]
  },
  {
   "cell_type": "code",
   "execution_count": 38,
   "metadata": {
    "colab": {
     "base_uri": "https://localhost:8080/"
    },
    "executionInfo": {
     "elapsed": 852,
     "status": "ok",
     "timestamp": 1611206136218,
     "user": {
      "displayName": "Jaewon Fastcampus",
      "photoUrl": "",
      "userId": "05122666633107220130"
     },
     "user_tz": -540
    },
    "id": "v3-txkMY8RBe",
    "outputId": "d25323df-6286-4cb7-eece-8aeb2b6088b5"
   },
   "outputs": [
    {
     "name": "stdout",
     "output_type": "stream",
     "text": [
      "defaultdict(None, {'5.0': 0, '4.0': 1, '3.0': 2, '1.0': 3, '2.0': 4})\n"
     ]
    }
   ],
   "source": [
    "print(LABEL.vocab.stoi)"
   ]
  },
  {
   "cell_type": "code",
   "execution_count": 39,
   "metadata": {
    "executionInfo": {
     "elapsed": 582,
     "status": "ok",
     "timestamp": 1611206174953,
     "user": {
      "displayName": "Jaewon Fastcampus",
      "photoUrl": "",
      "userId": "05122666633107220130"
     },
     "user_tz": -540
    },
    "id": "TL_d6Iht8Srl"
   },
   "outputs": [],
   "source": [
    "BATCH_SIZE = 64\n",
    "\n",
    "# device = torch.device('cuda' if torch.cuda.is_available() else 'cpu')\n",
    "train_data, valid_data = training_data.split(split_ratio=0.8, random_state = random.seed(1234))\n",
    "\n",
    "train_iterator, valid_iterator = data.BucketIterator.splits(\n",
    "    (train_data, valid_data), \n",
    "    sort_key = lambda x: len(x.text),\n",
    "    sort_within_batch=False,\n",
    "    batch_size = BATCH_SIZE\n",
    "    )"
   ]
  },
  {
   "cell_type": "markdown",
   "metadata": {
    "id": "87sRAjgRDvA5"
   },
   "source": [
    "## Model Architecture\n",
    "\n",
    "- [PyTorch Text Classification](https://github.com/bentrevett/pytorch-sentiment-analysis)\n",
    "- Yoon Kim, 2014, Convolutional Neural Networks for Sentence Classification([논문 링크](https://arxiv.org/pdf/1408.5882.pdf))\n",
    "  ![image.png](data:image/png;base64,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)"
   ]
  },
  {
   "cell_type": "code",
   "execution_count": 40,
   "metadata": {
    "executionInfo": {
     "elapsed": 677,
     "status": "ok",
     "timestamp": 1611206291734,
     "user": {
      "displayName": "Jaewon Fastcampus",
      "photoUrl": "",
      "userId": "05122666633107220130"
     },
     "user_tz": -540
    },
    "id": "WxD6MGY28VDg"
   },
   "outputs": [],
   "source": [
    "import torch.nn as nn\n",
    "import torch.nn.functional as F\n",
    "\n",
    "class CNN(nn.Module):\n",
    "    def __init__(self, vocab_size, embedding_dim, n_filters, filter_sizes, output_dim, \n",
    "                 dropout, pad_idx):\n",
    "        \n",
    "        super().__init__()\n",
    "        \n",
    "        self.embedding = nn.Embedding(vocab_size, embedding_dim)\n",
    "        \n",
    "        self.convs = nn.ModuleList([\n",
    "                                    nn.Conv2d(in_channels = 1, \n",
    "                                              out_channels = n_filters, \n",
    "                                              kernel_size = (fs, embedding_dim)) \n",
    "                                    for fs in filter_sizes\n",
    "                                    ])\n",
    "        \n",
    "        self.fc = nn.Linear(len(filter_sizes) * n_filters, output_dim)\n",
    "        \n",
    "        self.dropout = nn.Dropout(dropout)\n",
    "        \n",
    "    def forward(self, text):\n",
    "        \n",
    "        #text = [sent len, batch size]\n",
    "        text = text.permute(1, 0)\n",
    "\n",
    "        #text = [batch size, sent len]\n",
    "        \n",
    "        embedded = self.embedding(text)\n",
    "                \n",
    "        #embedded = [batch size, sent len, emb dim]\n",
    "        \n",
    "        embedded = embedded.unsqueeze(1)\n",
    "        \n",
    "        #embedded = [batch size, 1, sent len, emb dim]\n",
    "        \n",
    "        conved = [F.relu(conv(embedded)).squeeze(3) for conv in self.convs]\n",
    "            \n",
    "        #conv_n = [batch size, n_filters, sent len - filter_sizes[n]]\n",
    "        \n",
    "        pooled = [F.max_pool1d(conv, conv.shape[2]).squeeze(2) for conv in conved]\n",
    "        \n",
    "        #pooled_n = [batch size, n_filters]\n",
    "        \n",
    "        cat = self.dropout(torch.cat(pooled, dim = 1))\n",
    "\n",
    "        #cat = [batch size, n_filters * len(filter_sizes)]\n",
    "            \n",
    "        return self.fc(cat)"
   ]
  },
  {
   "cell_type": "code",
   "execution_count": 41,
   "metadata": {
    "executionInfo": {
     "elapsed": 582,
     "status": "ok",
     "timestamp": 1611206324031,
     "user": {
      "displayName": "Jaewon Fastcampus",
      "photoUrl": "",
      "userId": "05122666633107220130"
     },
     "user_tz": -540
    },
    "id": "2Xuu2olg8XQb"
   },
   "outputs": [],
   "source": [
    "INPUT_DIM = len(TEXT.vocab)\n",
    "EMBEDDING_DIM = 100\n",
    "N_FILTERS = 100\n",
    "FILTER_SIZES = [2,3,4]\n",
    "OUTPUT_DIM = len(LABEL.vocab)\n",
    "DROPOUT = 0.5\n",
    "PAD_IDX = TEXT.vocab.stoi[TEXT.pad_token]\n",
    "\n",
    "model = CNN(INPUT_DIM, EMBEDDING_DIM, N_FILTERS, FILTER_SIZES, OUTPUT_DIM, DROPOUT, PAD_IDX)"
   ]
  },
  {
   "cell_type": "code",
   "execution_count": 42,
   "metadata": {
    "colab": {
     "base_uri": "https://localhost:8080/"
    },
    "executionInfo": {
     "elapsed": 522,
     "status": "ok",
     "timestamp": 1611206325298,
     "user": {
      "displayName": "Jaewon Fastcampus",
      "photoUrl": "",
      "userId": "05122666633107220130"
     },
     "user_tz": -540
    },
    "id": "jrpaw9qn8ZAn",
    "outputId": "ad22ab3b-af71-4194-ccaf-db5c3f5d24db"
   },
   "outputs": [
    {
     "name": "stdout",
     "output_type": "stream",
     "text": [
      "The model has 1,389,505 trainable parameters\n"
     ]
    }
   ],
   "source": [
    "def count_parameters(model):\n",
    "    return sum(p.numel() for p in model.parameters() if p.requires_grad)\n",
    "\n",
    "print(f'The model has {count_parameters(model):,} trainable parameters')"
   ]
  },
  {
   "cell_type": "code",
   "execution_count": 43,
   "metadata": {
    "executionInfo": {
     "elapsed": 699,
     "status": "ok",
     "timestamp": 1611206352432,
     "user": {
      "displayName": "Jaewon Fastcampus",
      "photoUrl": "",
      "userId": "05122666633107220130"
     },
     "user_tz": -540
    },
    "id": "48JAI_NB8b5K"
   },
   "outputs": [],
   "source": [
    "UNK_IDX = TEXT.vocab.stoi[TEXT.unk_token]\n",
    "\n",
    "model.embedding.weight.data[UNK_IDX] = torch.zeros(EMBEDDING_DIM)\n",
    "model.embedding.weight.data[PAD_IDX] = torch.zeros(EMBEDDING_DIM)"
   ]
  },
  {
   "cell_type": "markdown",
   "metadata": {
    "id": "J-MzZPetDzzF"
   },
   "source": [
    "## Train model"
   ]
  },
  {
   "cell_type": "code",
   "execution_count": 44,
   "metadata": {
    "executionInfo": {
     "elapsed": 805,
     "status": "ok",
     "timestamp": 1611206362436,
     "user": {
      "displayName": "Jaewon Fastcampus",
      "photoUrl": "",
      "userId": "05122666633107220130"
     },
     "user_tz": -540
    },
    "id": "XeD_OkDU8drd"
   },
   "outputs": [],
   "source": [
    "import torch.optim as optim\n",
    "\n",
    "optimizer = optim.Adam(model.parameters())\n",
    "criterion = nn.CrossEntropyLoss()\n",
    "\n",
    "# model = model.to(device)\n",
    "# criterion = criterion.to(device)"
   ]
  },
  {
   "cell_type": "code",
   "execution_count": 45,
   "metadata": {
    "executionInfo": {
     "elapsed": 624,
     "status": "ok",
     "timestamp": 1611206382480,
     "user": {
      "displayName": "Jaewon Fastcampus",
      "photoUrl": "",
      "userId": "05122666633107220130"
     },
     "user_tz": -540
    },
    "id": "mY9XFftc8f2p"
   },
   "outputs": [],
   "source": [
    "def categorical_accuracy(preds, y):\n",
    "    \"\"\"\n",
    "    Returns accuracy per batch, i.e. if you get 8/10 right, this returns 0.8, NOT 8\n",
    "    \"\"\"\n",
    "    max_preds = preds.argmax(dim = 1, keepdim = True) # get the index of the max probability\n",
    "    correct = max_preds.squeeze(1).eq(y)\n",
    "    return correct.sum() / torch.FloatTensor([y.shape[0]])"
   ]
  },
  {
   "cell_type": "code",
   "execution_count": 46,
   "metadata": {
    "executionInfo": {
     "elapsed": 630,
     "status": "ok",
     "timestamp": 1611206384848,
     "user": {
      "displayName": "Jaewon Fastcampus",
      "photoUrl": "",
      "userId": "05122666633107220130"
     },
     "user_tz": -540
    },
    "id": "Bhemqq9Q8hkU"
   },
   "outputs": [],
   "source": [
    "def train(model, iterator, optimizer, criterion):\n",
    "    \n",
    "    epoch_loss = 0\n",
    "    epoch_acc = 0\n",
    "    \n",
    "    model.train()\n",
    "    \n",
    "    for batch in iterator:\n",
    "        \n",
    "        optimizer.zero_grad()\n",
    "        \n",
    "        predictions = model(batch.text)\n",
    "        \n",
    "        loss = criterion(predictions, batch.label)\n",
    "        \n",
    "        acc = categorical_accuracy(predictions, batch.label)\n",
    "        \n",
    "        loss.backward()\n",
    "        \n",
    "        optimizer.step()\n",
    "        \n",
    "        epoch_loss += loss.item()\n",
    "        epoch_acc += acc.item()\n",
    "        \n",
    "    return epoch_loss / len(iterator), epoch_acc / len(iterator)"
   ]
  },
  {
   "cell_type": "code",
   "execution_count": 47,
   "metadata": {
    "executionInfo": {
     "elapsed": 617,
     "status": "ok",
     "timestamp": 1611206423577,
     "user": {
      "displayName": "Jaewon Fastcampus",
      "photoUrl": "",
      "userId": "05122666633107220130"
     },
     "user_tz": -540
    },
    "id": "5K1XmH5q8j4U"
   },
   "outputs": [],
   "source": [
    "def evaluate(model, iterator, criterion):\n",
    "    \n",
    "    epoch_loss = 0\n",
    "    epoch_acc = 0\n",
    "    \n",
    "    model.eval()\n",
    "    \n",
    "    with torch.no_grad():\n",
    "    \n",
    "        for batch in iterator:\n",
    "\n",
    "            predictions = model(batch.text)\n",
    "            \n",
    "            loss = criterion(predictions, batch.label)\n",
    "            \n",
    "            acc = categorical_accuracy(predictions, batch.label)\n",
    "\n",
    "            epoch_loss += loss.item()\n",
    "            epoch_acc += acc.item()\n",
    "        \n",
    "    return epoch_loss / len(iterator), epoch_acc / len(iterator)"
   ]
  },
  {
   "cell_type": "code",
   "execution_count": 48,
   "metadata": {
    "executionInfo": {
     "elapsed": 591,
     "status": "ok",
     "timestamp": 1611206459652,
     "user": {
      "displayName": "Jaewon Fastcampus",
      "photoUrl": "",
      "userId": "05122666633107220130"
     },
     "user_tz": -540
    },
    "id": "M_Q0b_Ar8lsi"
   },
   "outputs": [],
   "source": [
    "import time\n",
    "\n",
    "def epoch_time(start_time, end_time):\n",
    "    elapsed_time = end_time - start_time\n",
    "    elapsed_mins = int(elapsed_time / 60)\n",
    "    elapsed_secs = int(elapsed_time - (elapsed_mins * 60))\n",
    "    return elapsed_mins, elapsed_secs"
   ]
  },
  {
   "cell_type": "code",
   "execution_count": 49,
   "metadata": {
    "colab": {
     "base_uri": "https://localhost:8080/"
    },
    "executionInfo": {
     "elapsed": 102508,
     "status": "ok",
     "timestamp": 1611206593279,
     "user": {
      "displayName": "Jaewon Fastcampus",
      "photoUrl": "",
      "userId": "05122666633107220130"
     },
     "user_tz": -540
    },
    "id": "1TpRR8zT8n96",
    "outputId": "0b339fdf-d740-408e-9b2e-c7b0dc624c2d"
   },
   "outputs": [
    {
     "name": "stdout",
     "output_type": "stream",
     "text": [
      "Epoch: 01 | Epoch Time: 0m 4s\n",
      "\tTrain Loss: 1.502 | Train Acc: 38.91%\n",
      "\t Val. Loss: 1.337 |  Val. Acc: 43.71%\n",
      "Epoch: 02 | Epoch Time: 0m 4s\n",
      "\tTrain Loss: 1.336 | Train Acc: 45.34%\n",
      "\t Val. Loss: 1.304 |  Val. Acc: 43.49%\n",
      "Epoch: 03 | Epoch Time: 0m 4s\n",
      "\tTrain Loss: 1.269 | Train Acc: 47.89%\n",
      "\t Val. Loss: 1.295 |  Val. Acc: 44.79%\n",
      "Epoch: 04 | Epoch Time: 0m 4s\n",
      "\tTrain Loss: 1.194 | Train Acc: 51.14%\n",
      "\t Val. Loss: 1.237 |  Val. Acc: 47.02%\n",
      "Epoch: 05 | Epoch Time: 0m 4s\n",
      "\tTrain Loss: 1.135 | Train Acc: 54.15%\n",
      "\t Val. Loss: 1.227 |  Val. Acc: 48.44%\n",
      "Epoch: 06 | Epoch Time: 0m 4s\n",
      "\tTrain Loss: 1.065 | Train Acc: 57.62%\n",
      "\t Val. Loss: 1.206 |  Val. Acc: 50.33%\n",
      "Epoch: 07 | Epoch Time: 0m 4s\n",
      "\tTrain Loss: 1.002 | Train Acc: 59.79%\n",
      "\t Val. Loss: 1.173 |  Val. Acc: 51.26%\n",
      "Epoch: 08 | Epoch Time: 0m 4s\n",
      "\tTrain Loss: 0.925 | Train Acc: 63.51%\n",
      "\t Val. Loss: 1.168 |  Val. Acc: 51.91%\n",
      "Epoch: 09 | Epoch Time: 0m 5s\n",
      "\tTrain Loss: 0.831 | Train Acc: 67.98%\n",
      "\t Val. Loss: 1.180 |  Val. Acc: 50.57%\n",
      "Epoch: 10 | Epoch Time: 0m 4s\n",
      "\tTrain Loss: 0.757 | Train Acc: 71.00%\n",
      "\t Val. Loss: 1.191 |  Val. Acc: 50.87%\n"
     ]
    }
   ],
   "source": [
    "N_EPOCHS = 10\n",
    "\n",
    "best_valid_loss = float('inf')\n",
    "\n",
    "for epoch in range(N_EPOCHS):\n",
    "\n",
    "    start_time = time.time()\n",
    "    \n",
    "    train_loss, train_acc = train(model, train_iterator, optimizer, criterion)\n",
    "    valid_loss, valid_acc = evaluate(model, valid_iterator, criterion)\n",
    "    \n",
    "    end_time = time.time()\n",
    "\n",
    "    epoch_mins, epoch_secs = epoch_time(start_time, end_time)\n",
    "    \n",
    "    if valid_loss < best_valid_loss:\n",
    "        best_valid_loss = valid_loss\n",
    "        torch.save(model.state_dict(), 'cnn-model.pt')\n",
    "    \n",
    "    print(f'Epoch: {epoch+1:02} | Epoch Time: {epoch_mins}m {epoch_secs}s')\n",
    "    print(f'\\tTrain Loss: {train_loss:.3f} | Train Acc: {train_acc*100:.2f}%')\n",
    "    print(f'\\t Val. Loss: {valid_loss:.3f} |  Val. Acc: {valid_acc*100:.2f}%')"
   ]
  },
  {
   "cell_type": "markdown",
   "metadata": {
    "id": "SSorMDNKD2l4"
   },
   "source": [
    "## Evaluate model"
   ]
  },
  {
   "cell_type": "code",
   "execution_count": 50,
   "metadata": {},
   "outputs": [
    {
     "data": {
      "text/plain": [
       "<All keys matched successfully>"
      ]
     },
     "execution_count": 50,
     "metadata": {},
     "output_type": "execute_result"
    }
   ],
   "source": [
    "model.load_state_dict(torch.load('cnn-model.pt'))"
   ]
  },
  {
   "cell_type": "code",
   "execution_count": 51,
   "metadata": {},
   "outputs": [],
   "source": [
    "import spacy\n",
    "nlp = spacy.load('en_core_web_sm')"
   ]
  },
  {
   "cell_type": "code",
   "execution_count": 52,
   "metadata": {
    "executionInfo": {
     "elapsed": 1319,
     "status": "ok",
     "timestamp": 1611206626181,
     "user": {
      "displayName": "Jaewon Fastcampus",
      "photoUrl": "",
      "userId": "05122666633107220130"
     },
     "user_tz": -540
    },
    "id": "gYKBXQLx_CLP"
   },
   "outputs": [],
   "source": [
    "def predict_class(model, sentence, min_len = 4):\n",
    "    model.eval()\n",
    "    tokenized = [tok.text for tok in nlp.tokenizer(sentence)]\n",
    "    if len(tokenized) < min_len:\n",
    "        tokenized += ['<pad>'] * (min_len - len(tokenized))\n",
    "    indexed = [TEXT.vocab.stoi[t] for t in tokenized]\n",
    "    tensor = torch.LongTensor(indexed)\n",
    "    tensor = tensor.unsqueeze(1)\n",
    "    preds = model(tensor)\n",
    "    max_preds = preds.argmax(dim = 1)\n",
    "    return max_preds.item()"
   ]
  },
  {
   "cell_type": "code",
   "execution_count": 53,
   "metadata": {
    "colab": {
     "base_uri": "https://localhost:8080/"
    },
    "executionInfo": {
     "elapsed": 619,
     "status": "ok",
     "timestamp": 1611206647836,
     "user": {
      "displayName": "Jaewon Fastcampus",
      "photoUrl": "",
      "userId": "05122666633107220130"
     },
     "user_tz": -540
    },
    "id": "k9OAxOpCD9rP",
    "outputId": "3a1c95ac-6e57-4acf-d79f-a35eafb12c5d"
   },
   "outputs": [
    {
     "name": "stdout",
     "output_type": "stream",
     "text": [
      "Predicted class is: 0 = 5.0\n"
     ]
    }
   ],
   "source": [
    "pred_class = predict_class(model, \"best item\")\n",
    "print(f'Predicted class is: {pred_class} = {LABEL.vocab.itos[pred_class]}')"
   ]
  },
  {
   "cell_type": "code",
   "execution_count": 54,
   "metadata": {
    "colab": {
     "base_uri": "https://localhost:8080/"
    },
    "executionInfo": {
     "elapsed": 620,
     "status": "ok",
     "timestamp": 1611206655791,
     "user": {
      "displayName": "Jaewon Fastcampus",
      "photoUrl": "",
      "userId": "05122666633107220130"
     },
     "user_tz": -540
    },
    "id": "C-naClzU_F9S",
    "outputId": "a82b1936-fd32-439d-a26c-ea142b0e2e24"
   },
   "outputs": [
    {
     "name": "stdout",
     "output_type": "stream",
     "text": [
      "Predicted class is: 3 = 1.0\n"
     ]
    }
   ],
   "source": [
    "pred_class = predict_class(model, \"worst item\")\n",
    "print(f'Predicted class is: {pred_class} = {LABEL.vocab.itos[pred_class]}')"
   ]
  },
  {
   "cell_type": "code",
   "execution_count": 55,
   "metadata": {
    "colab": {
     "base_uri": "https://localhost:8080/"
    },
    "executionInfo": {
     "elapsed": 591,
     "status": "ok",
     "timestamp": 1611206685942,
     "user": {
      "displayName": "Jaewon Fastcampus",
      "photoUrl": "",
      "userId": "05122666633107220130"
     },
     "user_tz": -540
    },
    "id": "IzGXy4eiZqle",
    "outputId": "4532ff0c-f4c3-46ca-9d02-bf3ccd4a891c"
   },
   "outputs": [
    {
     "name": "stdout",
     "output_type": "stream",
     "text": [
      "Predicted class is: 0 = 5.0\n"
     ]
    }
   ],
   "source": [
    "pred_class = predict_class(model, \"it was best item, but requires to be fixed\")\n",
    "print(f'Predicted class is: {pred_class} = {LABEL.vocab.itos[pred_class]}')"
   ]
  },
  {
   "cell_type": "markdown",
   "metadata": {
    "id": "sDpbBLlmEiBT"
   },
   "source": [
    "## (참고) BERT Embedding 가져오기\n",
    "1. word2vec\n",
    "2. [fastText](https://fasttext.cc/)\n",
    "3. [Glove](https://nlp.stanford.edu/projects/glove/)\n",
    "4. Huggingface 참고([링크](https://huggingface.co/transformers/pretrained_models.html))\n"
   ]
  },
  {
   "cell_type": "code",
   "execution_count": 56,
   "metadata": {
    "colab": {
     "base_uri": "https://localhost:8080/"
    },
    "executionInfo": {
     "elapsed": 2451,
     "status": "ok",
     "timestamp": 1611206901772,
     "user": {
      "displayName": "Jaewon Fastcampus",
      "photoUrl": "",
      "userId": "05122666633107220130"
     },
     "user_tz": -540
    },
    "id": "x3OtW519FLwf",
    "outputId": "9583f00b-6d82-4ccd-e25f-046a7b9a7511"
   },
   "outputs": [
    {
     "name": "stderr",
     "output_type": "stream",
     "text": [
      "[nltk_data] Downloading package punkt to\n",
      "[nltk_data]     C:\\Users\\user\\AppData\\Roaming\\nltk_data...\n",
      "[nltk_data]   Package punkt is already up-to-date!\n"
     ]
    },
    {
     "data": {
      "text/plain": [
       "True"
      ]
     },
     "execution_count": 56,
     "metadata": {},
     "output_type": "execute_result"
    }
   ],
   "source": [
    "import nltk\n",
    "nltk.download('punkt')"
   ]
  },
  {
   "cell_type": "code",
   "execution_count": 57,
   "metadata": {
    "colab": {
     "base_uri": "https://localhost:8080/",
     "height": 163,
     "referenced_widgets": [
      "dd40fdcf91d24cf59a3af36f94915a59",
      "c2790c6f2ccd4963b5cca6b1bfcdf891",
      "841f412a9edc4d51a183a624a4f729c6",
      "233bbbf8d267438e8ca34a1d847b5579",
      "5db0364c9d70466dbe03ed8aa5684437",
      "79c8d93ba3614442a8d61993046bb935",
      "69ad6ff36e364232a6dc02259bf9b1cf",
      "348fad07be744d189cbe9fab1dec0e7d",
      "d3b2713ff8d64fca918daea5febf8b01",
      "eab69f15e3d643ea9ea62b13369e0c5b",
      "1a352759c125431bbba4147bd24176f7",
      "b104d2965f2147ae9554d0a54de7eb64",
      "8248c79eace143a595d46631024cc932",
      "b998b0dc4e0d4e2c91aef0f31887c181",
      "3beb4727f6d4492697cd7481dd3677e7",
      "13c8ca08965746419732297beb030ce1",
      "ed2ab086f56e49b79c2369c3d497f227",
      "342e1670470f4026a88948e3faa847fa",
      "a413a4ff180b4bb6832d4e9a19145c61",
      "0743ce0b964e48f68caf73681177154d",
      "bcc723d67f6d4e3d8eb3b5090d7e6b3e",
      "ea14ac5977fd435dbc5fcd7a17604cbb",
      "b53ebf30ab194ba8bdb95af0fe913428",
      "da2b4cf8c2c84b32a2aa1ebf844a83e8"
     ]
    },
    "executionInfo": {
     "elapsed": 11215,
     "status": "ok",
     "timestamp": 1611206954640,
     "user": {
      "displayName": "Jaewon Fastcampus",
      "photoUrl": "",
      "userId": "05122666633107220130"
     },
     "user_tz": -540
    },
    "id": "wThV9_qk_IeD",
    "outputId": "43e3461a-0d73-4755-ea11-4b69a950b0ee"
   },
   "outputs": [
    {
     "name": "stderr",
     "output_type": "stream",
     "text": [
      "Some weights of the model checkpoint at bert-base-uncased were not used when initializing BertModel: ['cls.predictions.transform.LayerNorm.weight', 'cls.predictions.transform.LayerNorm.bias', 'cls.predictions.bias', 'cls.seq_relationship.weight', 'cls.predictions.transform.dense.weight', 'cls.predictions.transform.dense.bias', 'cls.seq_relationship.bias', 'cls.predictions.decoder.weight']\n",
      "- This IS expected if you are initializing BertModel from the checkpoint of a model trained on another task or with another architecture (e.g. initializing a BertForSequenceClassification model from a BertForPreTraining model).\n",
      "- This IS NOT expected if you are initializing BertModel from the checkpoint of a model that you expect to be exactly identical (initializing a BertForSequenceClassification model from a BertForSequenceClassification model).\n"
     ]
    }
   ],
   "source": [
    "import re\n",
    "import warnings\n",
    "\n",
    "import numpy as np\n",
    "import torch\n",
    "from nltk import tokenize\n",
    "from transformers import BertModel, BertTokenizer\n",
    "\n",
    "warnings.filterwarnings(\"ignore\")\n",
    "\n",
    "tokenizer = BertTokenizer.from_pretrained('bert-base-uncased')\n",
    "model = BertModel.from_pretrained('bert-base-uncased')\n",
    "\n",
    "def get_embedding(sentence):\n",
    "    sent_vectors = []\n",
    "    for sent in tokenize.sent_tokenize(sentence):\n",
    "        text = \"[CLS] \" + sent + \" [SEP]\"\n",
    "        tokenized_text = tokenizer.tokenize(text)\n",
    "        indexed_tokens = tokenizer.convert_tokens_to_ids(tokenized_text)\n",
    "        segments_ids = [1] * len(tokenized_text)\n",
    "\n",
    "        tokens_tensor = torch.tensor([indexed_tokens])\n",
    "        segments_tensor = torch.tensor([segments_ids])\n",
    "\n",
    "        with torch.no_grad():\n",
    "            outputs = model(tokens_tensor, segments_tensor)\n",
    "            encoded_layers = outputs[0] # last hidden state          \n",
    "            sentence_embedding = torch.mean(encoded_layers[0], dim=0)\n",
    "            sent_vectors.append(sentence_embedding.detach().numpy())\n",
    "\n",
    "    return np.array(sent_vectors).mean(axis=0)\n"
   ]
  },
  {
   "cell_type": "code",
   "execution_count": 58,
   "metadata": {
    "executionInfo": {
     "elapsed": 493,
     "status": "ok",
     "timestamp": 1611206973021,
     "user": {
      "displayName": "Jaewon Fastcampus",
      "photoUrl": "",
      "userId": "05122666633107220130"
     },
     "user_tz": -540
    },
    "id": "sWPRM4QiE7oN"
   },
   "outputs": [],
   "source": [
    "bert_embedding = get_embedding('hello, today is thursday')"
   ]
  },
  {
   "cell_type": "code",
   "execution_count": 59,
   "metadata": {
    "colab": {
     "base_uri": "https://localhost:8080/"
    },
    "executionInfo": {
     "elapsed": 633,
     "status": "ok",
     "timestamp": 1611206979215,
     "user": {
      "displayName": "Jaewon Fastcampus",
      "photoUrl": "",
      "userId": "05122666633107220130"
     },
     "user_tz": -540
    },
    "id": "NQoKAfz8FIp9",
    "outputId": "413ad273-c84b-445b-d699-7b0575eba9b9"
   },
   "outputs": [
    {
     "data": {
      "text/plain": [
       "768"
      ]
     },
     "execution_count": 59,
     "metadata": {},
     "output_type": "execute_result"
    }
   ],
   "source": [
    "len(bert_embedding)"
   ]
  },
  {
   "cell_type": "code",
   "execution_count": null,
   "metadata": {
    "id": "rBs-ToFTa2st"
   },
   "outputs": [],
   "source": []
  },
  {
   "cell_type": "code",
   "execution_count": null,
   "metadata": {},
   "outputs": [],
   "source": []
  }
 ],
 "metadata": {
  "accelerator": "GPU",
  "colab": {
   "authorship_tag": "ABX9TyNsByEONv6DJYsZ2ecrTPMy",
   "collapsed_sections": [],
   "mount_file_id": "1DbdawjGC1M-UgdfqpsCTac7KtSlP5nz0",
   "name": "02-나를 위한 추천 알고리즘-02-리뷰데이터로 추천성능 끌어올리기.ipynb",
   "provenance": []
  },
  "kernelspec": {
   "display_name": "Python 3",
   "language": "python",
   "name": "python3"
  },
  "language_info": {
   "codemirror_mode": {
    "name": "ipython",
    "version": 3
   },
   "file_extension": ".py",
   "mimetype": "text/x-python",
   "name": "python",
   "nbconvert_exporter": "python",
   "pygments_lexer": "ipython3",
   "version": "3.8.8"
  },
  "widgets": {
   "application/vnd.jupyter.widget-state+json": {
    "0743ce0b964e48f68caf73681177154d": {
     "model_module": "@jupyter-widgets/controls",
     "model_name": "HTMLModel",
     "state": {
      "_dom_classes": [],
      "_model_module": "@jupyter-widgets/controls",
      "_model_module_version": "1.5.0",
      "_model_name": "HTMLModel",
      "_view_count": null,
      "_view_module": "@jupyter-widgets/controls",
      "_view_module_version": "1.5.0",
      "_view_name": "HTMLView",
      "description": "",
      "description_tooltip": null,
      "layout": "IPY_MODEL_da2b4cf8c2c84b32a2aa1ebf844a83e8",
      "placeholder": "​",
      "style": "IPY_MODEL_b53ebf30ab194ba8bdb95af0fe913428",
      "value": " 440M/440M [00:07&lt;00:00, 59.4MB/s]"
     }
    },
    "13c8ca08965746419732297beb030ce1": {
     "model_module": "@jupyter-widgets/base",
     "model_name": "LayoutModel",
     "state": {
      "_model_module": "@jupyter-widgets/base",
      "_model_module_version": "1.2.0",
      "_model_name": "LayoutModel",
      "_view_count": null,
      "_view_module": "@jupyter-widgets/base",
      "_view_module_version": "1.2.0",
      "_view_name": "LayoutView",
      "align_content": null,
      "align_items": null,
      "align_self": null,
      "border": null,
      "bottom": null,
      "display": null,
      "flex": null,
      "flex_flow": null,
      "grid_area": null,
      "grid_auto_columns": null,
      "grid_auto_flow": null,
      "grid_auto_rows": null,
      "grid_column": null,
      "grid_gap": null,
      "grid_row": null,
      "grid_template_areas": null,
      "grid_template_columns": null,
      "grid_template_rows": null,
      "height": null,
      "justify_content": null,
      "justify_items": null,
      "left": null,
      "margin": null,
      "max_height": null,
      "max_width": null,
      "min_height": null,
      "min_width": null,
      "object_fit": null,
      "object_position": null,
      "order": null,
      "overflow": null,
      "overflow_x": null,
      "overflow_y": null,
      "padding": null,
      "right": null,
      "top": null,
      "visibility": null,
      "width": null
     }
    },
    "1a352759c125431bbba4147bd24176f7": {
     "model_module": "@jupyter-widgets/controls",
     "model_name": "FloatProgressModel",
     "state": {
      "_dom_classes": [],
      "_model_module": "@jupyter-widgets/controls",
      "_model_module_version": "1.5.0",
      "_model_name": "FloatProgressModel",
      "_view_count": null,
      "_view_module": "@jupyter-widgets/controls",
      "_view_module_version": "1.5.0",
      "_view_name": "ProgressView",
      "bar_style": "success",
      "description": "Downloading: 100%",
      "description_tooltip": null,
      "layout": "IPY_MODEL_b998b0dc4e0d4e2c91aef0f31887c181",
      "max": 433,
      "min": 0,
      "orientation": "horizontal",
      "style": "IPY_MODEL_8248c79eace143a595d46631024cc932",
      "value": 433
     }
    },
    "233bbbf8d267438e8ca34a1d847b5579": {
     "model_module": "@jupyter-widgets/controls",
     "model_name": "HTMLModel",
     "state": {
      "_dom_classes": [],
      "_model_module": "@jupyter-widgets/controls",
      "_model_module_version": "1.5.0",
      "_model_name": "HTMLModel",
      "_view_count": null,
      "_view_module": "@jupyter-widgets/controls",
      "_view_module_version": "1.5.0",
      "_view_name": "HTMLView",
      "description": "",
      "description_tooltip": null,
      "layout": "IPY_MODEL_348fad07be744d189cbe9fab1dec0e7d",
      "placeholder": "​",
      "style": "IPY_MODEL_69ad6ff36e364232a6dc02259bf9b1cf",
      "value": " 232k/232k [00:00&lt;00:00, 772kB/s]"
     }
    },
    "342e1670470f4026a88948e3faa847fa": {
     "model_module": "@jupyter-widgets/base",
     "model_name": "LayoutModel",
     "state": {
      "_model_module": "@jupyter-widgets/base",
      "_model_module_version": "1.2.0",
      "_model_name": "LayoutModel",
      "_view_count": null,
      "_view_module": "@jupyter-widgets/base",
      "_view_module_version": "1.2.0",
      "_view_name": "LayoutView",
      "align_content": null,
      "align_items": null,
      "align_self": null,
      "border": null,
      "bottom": null,
      "display": null,
      "flex": null,
      "flex_flow": null,
      "grid_area": null,
      "grid_auto_columns": null,
      "grid_auto_flow": null,
      "grid_auto_rows": null,
      "grid_column": null,
      "grid_gap": null,
      "grid_row": null,
      "grid_template_areas": null,
      "grid_template_columns": null,
      "grid_template_rows": null,
      "height": null,
      "justify_content": null,
      "justify_items": null,
      "left": null,
      "margin": null,
      "max_height": null,
      "max_width": null,
      "min_height": null,
      "min_width": null,
      "object_fit": null,
      "object_position": null,
      "order": null,
      "overflow": null,
      "overflow_x": null,
      "overflow_y": null,
      "padding": null,
      "right": null,
      "top": null,
      "visibility": null,
      "width": null
     }
    },
    "348fad07be744d189cbe9fab1dec0e7d": {
     "model_module": "@jupyter-widgets/base",
     "model_name": "LayoutModel",
     "state": {
      "_model_module": "@jupyter-widgets/base",
      "_model_module_version": "1.2.0",
      "_model_name": "LayoutModel",
      "_view_count": null,
      "_view_module": "@jupyter-widgets/base",
      "_view_module_version": "1.2.0",
      "_view_name": "LayoutView",
      "align_content": null,
      "align_items": null,
      "align_self": null,
      "border": null,
      "bottom": null,
      "display": null,
      "flex": null,
      "flex_flow": null,
      "grid_area": null,
      "grid_auto_columns": null,
      "grid_auto_flow": null,
      "grid_auto_rows": null,
      "grid_column": null,
      "grid_gap": null,
      "grid_row": null,
      "grid_template_areas": null,
      "grid_template_columns": null,
      "grid_template_rows": null,
      "height": null,
      "justify_content": null,
      "justify_items": null,
      "left": null,
      "margin": null,
      "max_height": null,
      "max_width": null,
      "min_height": null,
      "min_width": null,
      "object_fit": null,
      "object_position": null,
      "order": null,
      "overflow": null,
      "overflow_x": null,
      "overflow_y": null,
      "padding": null,
      "right": null,
      "top": null,
      "visibility": null,
      "width": null
     }
    },
    "3beb4727f6d4492697cd7481dd3677e7": {
     "model_module": "@jupyter-widgets/controls",
     "model_name": "DescriptionStyleModel",
     "state": {
      "_model_module": "@jupyter-widgets/controls",
      "_model_module_version": "1.5.0",
      "_model_name": "DescriptionStyleModel",
      "_view_count": null,
      "_view_module": "@jupyter-widgets/base",
      "_view_module_version": "1.2.0",
      "_view_name": "StyleView",
      "description_width": ""
     }
    },
    "5db0364c9d70466dbe03ed8aa5684437": {
     "model_module": "@jupyter-widgets/controls",
     "model_name": "ProgressStyleModel",
     "state": {
      "_model_module": "@jupyter-widgets/controls",
      "_model_module_version": "1.5.0",
      "_model_name": "ProgressStyleModel",
      "_view_count": null,
      "_view_module": "@jupyter-widgets/base",
      "_view_module_version": "1.2.0",
      "_view_name": "StyleView",
      "bar_color": null,
      "description_width": "initial"
     }
    },
    "69ad6ff36e364232a6dc02259bf9b1cf": {
     "model_module": "@jupyter-widgets/controls",
     "model_name": "DescriptionStyleModel",
     "state": {
      "_model_module": "@jupyter-widgets/controls",
      "_model_module_version": "1.5.0",
      "_model_name": "DescriptionStyleModel",
      "_view_count": null,
      "_view_module": "@jupyter-widgets/base",
      "_view_module_version": "1.2.0",
      "_view_name": "StyleView",
      "description_width": ""
     }
    },
    "79c8d93ba3614442a8d61993046bb935": {
     "model_module": "@jupyter-widgets/base",
     "model_name": "LayoutModel",
     "state": {
      "_model_module": "@jupyter-widgets/base",
      "_model_module_version": "1.2.0",
      "_model_name": "LayoutModel",
      "_view_count": null,
      "_view_module": "@jupyter-widgets/base",
      "_view_module_version": "1.2.0",
      "_view_name": "LayoutView",
      "align_content": null,
      "align_items": null,
      "align_self": null,
      "border": null,
      "bottom": null,
      "display": null,
      "flex": null,
      "flex_flow": null,
      "grid_area": null,
      "grid_auto_columns": null,
      "grid_auto_flow": null,
      "grid_auto_rows": null,
      "grid_column": null,
      "grid_gap": null,
      "grid_row": null,
      "grid_template_areas": null,
      "grid_template_columns": null,
      "grid_template_rows": null,
      "height": null,
      "justify_content": null,
      "justify_items": null,
      "left": null,
      "margin": null,
      "max_height": null,
      "max_width": null,
      "min_height": null,
      "min_width": null,
      "object_fit": null,
      "object_position": null,
      "order": null,
      "overflow": null,
      "overflow_x": null,
      "overflow_y": null,
      "padding": null,
      "right": null,
      "top": null,
      "visibility": null,
      "width": null
     }
    },
    "8248c79eace143a595d46631024cc932": {
     "model_module": "@jupyter-widgets/controls",
     "model_name": "ProgressStyleModel",
     "state": {
      "_model_module": "@jupyter-widgets/controls",
      "_model_module_version": "1.5.0",
      "_model_name": "ProgressStyleModel",
      "_view_count": null,
      "_view_module": "@jupyter-widgets/base",
      "_view_module_version": "1.2.0",
      "_view_name": "StyleView",
      "bar_color": null,
      "description_width": "initial"
     }
    },
    "841f412a9edc4d51a183a624a4f729c6": {
     "model_module": "@jupyter-widgets/controls",
     "model_name": "FloatProgressModel",
     "state": {
      "_dom_classes": [],
      "_model_module": "@jupyter-widgets/controls",
      "_model_module_version": "1.5.0",
      "_model_name": "FloatProgressModel",
      "_view_count": null,
      "_view_module": "@jupyter-widgets/controls",
      "_view_module_version": "1.5.0",
      "_view_name": "ProgressView",
      "bar_style": "success",
      "description": "Downloading: 100%",
      "description_tooltip": null,
      "layout": "IPY_MODEL_79c8d93ba3614442a8d61993046bb935",
      "max": 231508,
      "min": 0,
      "orientation": "horizontal",
      "style": "IPY_MODEL_5db0364c9d70466dbe03ed8aa5684437",
      "value": 231508
     }
    },
    "a413a4ff180b4bb6832d4e9a19145c61": {
     "model_module": "@jupyter-widgets/controls",
     "model_name": "FloatProgressModel",
     "state": {
      "_dom_classes": [],
      "_model_module": "@jupyter-widgets/controls",
      "_model_module_version": "1.5.0",
      "_model_name": "FloatProgressModel",
      "_view_count": null,
      "_view_module": "@jupyter-widgets/controls",
      "_view_module_version": "1.5.0",
      "_view_name": "ProgressView",
      "bar_style": "success",
      "description": "Downloading: 100%",
      "description_tooltip": null,
      "layout": "IPY_MODEL_ea14ac5977fd435dbc5fcd7a17604cbb",
      "max": 440473133,
      "min": 0,
      "orientation": "horizontal",
      "style": "IPY_MODEL_bcc723d67f6d4e3d8eb3b5090d7e6b3e",
      "value": 440473133
     }
    },
    "b104d2965f2147ae9554d0a54de7eb64": {
     "model_module": "@jupyter-widgets/controls",
     "model_name": "HTMLModel",
     "state": {
      "_dom_classes": [],
      "_model_module": "@jupyter-widgets/controls",
      "_model_module_version": "1.5.0",
      "_model_name": "HTMLModel",
      "_view_count": null,
      "_view_module": "@jupyter-widgets/controls",
      "_view_module_version": "1.5.0",
      "_view_name": "HTMLView",
      "description": "",
      "description_tooltip": null,
      "layout": "IPY_MODEL_13c8ca08965746419732297beb030ce1",
      "placeholder": "​",
      "style": "IPY_MODEL_3beb4727f6d4492697cd7481dd3677e7",
      "value": " 433/433 [00:00&lt;00:00, 979B/s]"
     }
    },
    "b53ebf30ab194ba8bdb95af0fe913428": {
     "model_module": "@jupyter-widgets/controls",
     "model_name": "DescriptionStyleModel",
     "state": {
      "_model_module": "@jupyter-widgets/controls",
      "_model_module_version": "1.5.0",
      "_model_name": "DescriptionStyleModel",
      "_view_count": null,
      "_view_module": "@jupyter-widgets/base",
      "_view_module_version": "1.2.0",
      "_view_name": "StyleView",
      "description_width": ""
     }
    },
    "b998b0dc4e0d4e2c91aef0f31887c181": {
     "model_module": "@jupyter-widgets/base",
     "model_name": "LayoutModel",
     "state": {
      "_model_module": "@jupyter-widgets/base",
      "_model_module_version": "1.2.0",
      "_model_name": "LayoutModel",
      "_view_count": null,
      "_view_module": "@jupyter-widgets/base",
      "_view_module_version": "1.2.0",
      "_view_name": "LayoutView",
      "align_content": null,
      "align_items": null,
      "align_self": null,
      "border": null,
      "bottom": null,
      "display": null,
      "flex": null,
      "flex_flow": null,
      "grid_area": null,
      "grid_auto_columns": null,
      "grid_auto_flow": null,
      "grid_auto_rows": null,
      "grid_column": null,
      "grid_gap": null,
      "grid_row": null,
      "grid_template_areas": null,
      "grid_template_columns": null,
      "grid_template_rows": null,
      "height": null,
      "justify_content": null,
      "justify_items": null,
      "left": null,
      "margin": null,
      "max_height": null,
      "max_width": null,
      "min_height": null,
      "min_width": null,
      "object_fit": null,
      "object_position": null,
      "order": null,
      "overflow": null,
      "overflow_x": null,
      "overflow_y": null,
      "padding": null,
      "right": null,
      "top": null,
      "visibility": null,
      "width": null
     }
    },
    "bcc723d67f6d4e3d8eb3b5090d7e6b3e": {
     "model_module": "@jupyter-widgets/controls",
     "model_name": "ProgressStyleModel",
     "state": {
      "_model_module": "@jupyter-widgets/controls",
      "_model_module_version": "1.5.0",
      "_model_name": "ProgressStyleModel",
      "_view_count": null,
      "_view_module": "@jupyter-widgets/base",
      "_view_module_version": "1.2.0",
      "_view_name": "StyleView",
      "bar_color": null,
      "description_width": "initial"
     }
    },
    "c2790c6f2ccd4963b5cca6b1bfcdf891": {
     "model_module": "@jupyter-widgets/base",
     "model_name": "LayoutModel",
     "state": {
      "_model_module": "@jupyter-widgets/base",
      "_model_module_version": "1.2.0",
      "_model_name": "LayoutModel",
      "_view_count": null,
      "_view_module": "@jupyter-widgets/base",
      "_view_module_version": "1.2.0",
      "_view_name": "LayoutView",
      "align_content": null,
      "align_items": null,
      "align_self": null,
      "border": null,
      "bottom": null,
      "display": null,
      "flex": null,
      "flex_flow": null,
      "grid_area": null,
      "grid_auto_columns": null,
      "grid_auto_flow": null,
      "grid_auto_rows": null,
      "grid_column": null,
      "grid_gap": null,
      "grid_row": null,
      "grid_template_areas": null,
      "grid_template_columns": null,
      "grid_template_rows": null,
      "height": null,
      "justify_content": null,
      "justify_items": null,
      "left": null,
      "margin": null,
      "max_height": null,
      "max_width": null,
      "min_height": null,
      "min_width": null,
      "object_fit": null,
      "object_position": null,
      "order": null,
      "overflow": null,
      "overflow_x": null,
      "overflow_y": null,
      "padding": null,
      "right": null,
      "top": null,
      "visibility": null,
      "width": null
     }
    },
    "d3b2713ff8d64fca918daea5febf8b01": {
     "model_module": "@jupyter-widgets/controls",
     "model_name": "HBoxModel",
     "state": {
      "_dom_classes": [],
      "_model_module": "@jupyter-widgets/controls",
      "_model_module_version": "1.5.0",
      "_model_name": "HBoxModel",
      "_view_count": null,
      "_view_module": "@jupyter-widgets/controls",
      "_view_module_version": "1.5.0",
      "_view_name": "HBoxView",
      "box_style": "",
      "children": [
       "IPY_MODEL_1a352759c125431bbba4147bd24176f7",
       "IPY_MODEL_b104d2965f2147ae9554d0a54de7eb64"
      ],
      "layout": "IPY_MODEL_eab69f15e3d643ea9ea62b13369e0c5b"
     }
    },
    "da2b4cf8c2c84b32a2aa1ebf844a83e8": {
     "model_module": "@jupyter-widgets/base",
     "model_name": "LayoutModel",
     "state": {
      "_model_module": "@jupyter-widgets/base",
      "_model_module_version": "1.2.0",
      "_model_name": "LayoutModel",
      "_view_count": null,
      "_view_module": "@jupyter-widgets/base",
      "_view_module_version": "1.2.0",
      "_view_name": "LayoutView",
      "align_content": null,
      "align_items": null,
      "align_self": null,
      "border": null,
      "bottom": null,
      "display": null,
      "flex": null,
      "flex_flow": null,
      "grid_area": null,
      "grid_auto_columns": null,
      "grid_auto_flow": null,
      "grid_auto_rows": null,
      "grid_column": null,
      "grid_gap": null,
      "grid_row": null,
      "grid_template_areas": null,
      "grid_template_columns": null,
      "grid_template_rows": null,
      "height": null,
      "justify_content": null,
      "justify_items": null,
      "left": null,
      "margin": null,
      "max_height": null,
      "max_width": null,
      "min_height": null,
      "min_width": null,
      "object_fit": null,
      "object_position": null,
      "order": null,
      "overflow": null,
      "overflow_x": null,
      "overflow_y": null,
      "padding": null,
      "right": null,
      "top": null,
      "visibility": null,
      "width": null
     }
    },
    "dd40fdcf91d24cf59a3af36f94915a59": {
     "model_module": "@jupyter-widgets/controls",
     "model_name": "HBoxModel",
     "state": {
      "_dom_classes": [],
      "_model_module": "@jupyter-widgets/controls",
      "_model_module_version": "1.5.0",
      "_model_name": "HBoxModel",
      "_view_count": null,
      "_view_module": "@jupyter-widgets/controls",
      "_view_module_version": "1.5.0",
      "_view_name": "HBoxView",
      "box_style": "",
      "children": [
       "IPY_MODEL_841f412a9edc4d51a183a624a4f729c6",
       "IPY_MODEL_233bbbf8d267438e8ca34a1d847b5579"
      ],
      "layout": "IPY_MODEL_c2790c6f2ccd4963b5cca6b1bfcdf891"
     }
    },
    "ea14ac5977fd435dbc5fcd7a17604cbb": {
     "model_module": "@jupyter-widgets/base",
     "model_name": "LayoutModel",
     "state": {
      "_model_module": "@jupyter-widgets/base",
      "_model_module_version": "1.2.0",
      "_model_name": "LayoutModel",
      "_view_count": null,
      "_view_module": "@jupyter-widgets/base",
      "_view_module_version": "1.2.0",
      "_view_name": "LayoutView",
      "align_content": null,
      "align_items": null,
      "align_self": null,
      "border": null,
      "bottom": null,
      "display": null,
      "flex": null,
      "flex_flow": null,
      "grid_area": null,
      "grid_auto_columns": null,
      "grid_auto_flow": null,
      "grid_auto_rows": null,
      "grid_column": null,
      "grid_gap": null,
      "grid_row": null,
      "grid_template_areas": null,
      "grid_template_columns": null,
      "grid_template_rows": null,
      "height": null,
      "justify_content": null,
      "justify_items": null,
      "left": null,
      "margin": null,
      "max_height": null,
      "max_width": null,
      "min_height": null,
      "min_width": null,
      "object_fit": null,
      "object_position": null,
      "order": null,
      "overflow": null,
      "overflow_x": null,
      "overflow_y": null,
      "padding": null,
      "right": null,
      "top": null,
      "visibility": null,
      "width": null
     }
    },
    "eab69f15e3d643ea9ea62b13369e0c5b": {
     "model_module": "@jupyter-widgets/base",
     "model_name": "LayoutModel",
     "state": {
      "_model_module": "@jupyter-widgets/base",
      "_model_module_version": "1.2.0",
      "_model_name": "LayoutModel",
      "_view_count": null,
      "_view_module": "@jupyter-widgets/base",
      "_view_module_version": "1.2.0",
      "_view_name": "LayoutView",
      "align_content": null,
      "align_items": null,
      "align_self": null,
      "border": null,
      "bottom": null,
      "display": null,
      "flex": null,
      "flex_flow": null,
      "grid_area": null,
      "grid_auto_columns": null,
      "grid_auto_flow": null,
      "grid_auto_rows": null,
      "grid_column": null,
      "grid_gap": null,
      "grid_row": null,
      "grid_template_areas": null,
      "grid_template_columns": null,
      "grid_template_rows": null,
      "height": null,
      "justify_content": null,
      "justify_items": null,
      "left": null,
      "margin": null,
      "max_height": null,
      "max_width": null,
      "min_height": null,
      "min_width": null,
      "object_fit": null,
      "object_position": null,
      "order": null,
      "overflow": null,
      "overflow_x": null,
      "overflow_y": null,
      "padding": null,
      "right": null,
      "top": null,
      "visibility": null,
      "width": null
     }
    },
    "ed2ab086f56e49b79c2369c3d497f227": {
     "model_module": "@jupyter-widgets/controls",
     "model_name": "HBoxModel",
     "state": {
      "_dom_classes": [],
      "_model_module": "@jupyter-widgets/controls",
      "_model_module_version": "1.5.0",
      "_model_name": "HBoxModel",
      "_view_count": null,
      "_view_module": "@jupyter-widgets/controls",
      "_view_module_version": "1.5.0",
      "_view_name": "HBoxView",
      "box_style": "",
      "children": [
       "IPY_MODEL_a413a4ff180b4bb6832d4e9a19145c61",
       "IPY_MODEL_0743ce0b964e48f68caf73681177154d"
      ],
      "layout": "IPY_MODEL_342e1670470f4026a88948e3faa847fa"
     }
    }
   }
  }
 },
 "nbformat": 4,
 "nbformat_minor": 1
}
