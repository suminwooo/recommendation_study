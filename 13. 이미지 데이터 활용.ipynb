{
 "cells": [
  {
   "cell_type": "markdown",
   "metadata": {
    "id": "zbe1gimPLp7R"
   },
   "source": [
    "- 이미지 Feature vector를 활용\n",
    "- 여러 논문에서 소개된것처럼 pre-trained CNN으로 image features를 추출\n",
    "- image features를 비교하여 실제로 비슷한지 판단하고, rating정보와 함께 분석"
   ]
  },
  {
   "cell_type": "code",
   "execution_count": 1,
   "metadata": {
    "id": "UQLebeZIByGb"
   },
   "outputs": [],
   "source": [
    "path = './amazon_data'"
   ]
  },
  {
   "cell_type": "markdown",
   "metadata": {
    "id": "hvEYJLxbMWbf"
   },
   "source": [
    "## Load dataset\n",
    "\n",
    "1. AMAZON_FASHION_5.json\n",
    "2. All_Beauty_5.json\n",
    "3. Luxury_Beauty_5.json"
   ]
  },
  {
   "cell_type": "code",
   "execution_count": 2,
   "metadata": {
    "id": "iBPmu412tPZJ"
   },
   "outputs": [],
   "source": [
    "import os, json\n",
    "import pandas as pd\n",
    "import warnings\n",
    "warnings.filterwarnings('ignore')"
   ]
  },
  {
   "cell_type": "code",
   "execution_count": 3,
   "metadata": {
    "id": "ibt1FeBAB1Ke"
   },
   "outputs": [],
   "source": [
    "def load_json(filename):\n",
    "    data = []\n",
    "    with open(os.path.join(path, filename), 'r', encoding='utf-8') as f:\n",
    "        for l in f:\n",
    "            data.append(json.loads(l.strip()))\n",
    "\n",
    "    df = pd.DataFrame.from_dict(data)\n",
    "\n",
    "    # get rows which contains image \n",
    "    df = df[~df['image'].isnull()]\n",
    "\n",
    "    return df"
   ]
  },
  {
   "cell_type": "code",
   "execution_count": 4,
   "metadata": {
    "colab": {
     "base_uri": "https://localhost:8080/"
    },
    "executionInfo": {
     "elapsed": 969,
     "status": "ok",
     "timestamp": 1611207728230,
     "user": {
      "displayName": "Jaewon Fastcampus",
      "photoUrl": "",
      "userId": "05122666633107220130"
     },
     "user_tz": -540
    },
    "id": "tjtaTOtNB2rG",
    "outputId": "ec58aaa0-0c85-4c8c-d83d-4677241ef05b"
   },
   "outputs": [],
   "source": [
    "fashion_df = load_json('AMAZON_FASHION_5.json')\n",
    "beauty_df = load_json('All_Beauty_5.json')\n",
    "luxury_df = load_json('Luxury_Beauty_5.json')"
   ]
  },
  {
   "cell_type": "code",
   "execution_count": 5,
   "metadata": {},
   "outputs": [
    {
     "name": "stdout",
     "output_type": "stream",
     "text": [
      "(106, 12)\n"
     ]
    },
    {
     "data": {
      "text/html": [
       "<div>\n",
       "<style scoped>\n",
       "    .dataframe tbody tr th:only-of-type {\n",
       "        vertical-align: middle;\n",
       "    }\n",
       "\n",
       "    .dataframe tbody tr th {\n",
       "        vertical-align: top;\n",
       "    }\n",
       "\n",
       "    .dataframe thead th {\n",
       "        text-align: right;\n",
       "    }\n",
       "</style>\n",
       "<table border=\"1\" class=\"dataframe\">\n",
       "  <thead>\n",
       "    <tr style=\"text-align: right;\">\n",
       "      <th></th>\n",
       "      <th>overall</th>\n",
       "      <th>verified</th>\n",
       "      <th>reviewTime</th>\n",
       "      <th>reviewerID</th>\n",
       "      <th>asin</th>\n",
       "      <th>style</th>\n",
       "      <th>reviewerName</th>\n",
       "      <th>reviewText</th>\n",
       "      <th>summary</th>\n",
       "      <th>unixReviewTime</th>\n",
       "      <th>vote</th>\n",
       "      <th>image</th>\n",
       "    </tr>\n",
       "  </thead>\n",
       "  <tbody>\n",
       "    <tr>\n",
       "      <th>164</th>\n",
       "      <td>5.0</td>\n",
       "      <td>True</td>\n",
       "      <td>04 18, 2018</td>\n",
       "      <td>A2YZERYQTLB8NG</td>\n",
       "      <td>B001IKJOLW</td>\n",
       "      <td>{'Size:': ' 9.5 B(M) US', 'Color:': ' Black/Wh...</td>\n",
       "      <td>Lenci</td>\n",
       "      <td>Best tennis shoes I've had all my life. Very c...</td>\n",
       "      <td>Very Comfortable</td>\n",
       "      <td>1524009600</td>\n",
       "      <td>NaN</td>\n",
       "      <td>[https://images-na.ssl-images-amazon.com/image...</td>\n",
       "    </tr>\n",
       "    <tr>\n",
       "      <th>172</th>\n",
       "      <td>5.0</td>\n",
       "      <td>True</td>\n",
       "      <td>04 7, 2018</td>\n",
       "      <td>A1CKPC88NHMYGR</td>\n",
       "      <td>B001IKJOLW</td>\n",
       "      <td>{'Size:': ' 11 B(M) US', 'Color:': ' Wolf Grey...</td>\n",
       "      <td>Cynthia Foyer</td>\n",
       "      <td>NaN</td>\n",
       "      <td>Five Stars</td>\n",
       "      <td>1523059200</td>\n",
       "      <td>NaN</td>\n",
       "      <td>[https://images-na.ssl-images-amazon.com/image...</td>\n",
       "    </tr>\n",
       "    <tr>\n",
       "      <th>179</th>\n",
       "      <td>5.0</td>\n",
       "      <td>True</td>\n",
       "      <td>03 22, 2018</td>\n",
       "      <td>A3KKVVAINMZF9D</td>\n",
       "      <td>B001IKJOLW</td>\n",
       "      <td>{'Size:': ' 9 B(M) US', 'Color:': ' Blue Tint/...</td>\n",
       "      <td>Nadege Marcellus</td>\n",
       "      <td>Straight out of the box, these shoes are great...</td>\n",
       "      <td>these shoes are great! Very lightweight and fi...</td>\n",
       "      <td>1521676800</td>\n",
       "      <td>NaN</td>\n",
       "      <td>[https://images-na.ssl-images-amazon.com/image...</td>\n",
       "    </tr>\n",
       "    <tr>\n",
       "      <th>192</th>\n",
       "      <td>5.0</td>\n",
       "      <td>True</td>\n",
       "      <td>02 27, 2018</td>\n",
       "      <td>A3TLWN2BRF1QH5</td>\n",
       "      <td>B001IKJOLW</td>\n",
       "      <td>{'Size:': ' 8.5 B(M) US', 'Color:': ' Blue Tin...</td>\n",
       "      <td>Brittany C.</td>\n",
       "      <td>These are so cute and comfortable and very lig...</td>\n",
       "      <td>Great fit!</td>\n",
       "      <td>1519689600</td>\n",
       "      <td>NaN</td>\n",
       "      <td>[https://images-na.ssl-images-amazon.com/image...</td>\n",
       "    </tr>\n",
       "    <tr>\n",
       "      <th>197</th>\n",
       "      <td>5.0</td>\n",
       "      <td>True</td>\n",
       "      <td>02 20, 2018</td>\n",
       "      <td>A3RNGBSBRJ3YAQ</td>\n",
       "      <td>B001IKJOLW</td>\n",
       "      <td>{'Size:': ' 7.5 B(M) US', 'Color:': ' Wolf Gre...</td>\n",
       "      <td>Andrea L Hogan</td>\n",
       "      <td>They were a gift  to my daughter she loved them</td>\n",
       "      <td>Their Cute and Pink</td>\n",
       "      <td>1519084800</td>\n",
       "      <td>NaN</td>\n",
       "      <td>[https://images-na.ssl-images-amazon.com/image...</td>\n",
       "    </tr>\n",
       "  </tbody>\n",
       "</table>\n",
       "</div>"
      ],
      "text/plain": [
       "     overall  verified   reviewTime      reviewerID        asin  \\\n",
       "164      5.0      True  04 18, 2018  A2YZERYQTLB8NG  B001IKJOLW   \n",
       "172      5.0      True   04 7, 2018  A1CKPC88NHMYGR  B001IKJOLW   \n",
       "179      5.0      True  03 22, 2018  A3KKVVAINMZF9D  B001IKJOLW   \n",
       "192      5.0      True  02 27, 2018  A3TLWN2BRF1QH5  B001IKJOLW   \n",
       "197      5.0      True  02 20, 2018  A3RNGBSBRJ3YAQ  B001IKJOLW   \n",
       "\n",
       "                                                 style      reviewerName  \\\n",
       "164  {'Size:': ' 9.5 B(M) US', 'Color:': ' Black/Wh...             Lenci   \n",
       "172  {'Size:': ' 11 B(M) US', 'Color:': ' Wolf Grey...     Cynthia Foyer   \n",
       "179  {'Size:': ' 9 B(M) US', 'Color:': ' Blue Tint/...  Nadege Marcellus   \n",
       "192  {'Size:': ' 8.5 B(M) US', 'Color:': ' Blue Tin...       Brittany C.   \n",
       "197  {'Size:': ' 7.5 B(M) US', 'Color:': ' Wolf Gre...    Andrea L Hogan   \n",
       "\n",
       "                                            reviewText  \\\n",
       "164  Best tennis shoes I've had all my life. Very c...   \n",
       "172                                                NaN   \n",
       "179  Straight out of the box, these shoes are great...   \n",
       "192  These are so cute and comfortable and very lig...   \n",
       "197    They were a gift  to my daughter she loved them   \n",
       "\n",
       "                                               summary  unixReviewTime vote  \\\n",
       "164                                   Very Comfortable      1524009600  NaN   \n",
       "172                                         Five Stars      1523059200  NaN   \n",
       "179  these shoes are great! Very lightweight and fi...      1521676800  NaN   \n",
       "192                                         Great fit!      1519689600  NaN   \n",
       "197                                Their Cute and Pink      1519084800  NaN   \n",
       "\n",
       "                                                 image  \n",
       "164  [https://images-na.ssl-images-amazon.com/image...  \n",
       "172  [https://images-na.ssl-images-amazon.com/image...  \n",
       "179  [https://images-na.ssl-images-amazon.com/image...  \n",
       "192  [https://images-na.ssl-images-amazon.com/image...  \n",
       "197  [https://images-na.ssl-images-amazon.com/image...  "
      ]
     },
     "execution_count": 5,
     "metadata": {},
     "output_type": "execute_result"
    }
   ],
   "source": [
    "print(fashion_df.shape)\n",
    "fashion_df.head()"
   ]
  },
  {
   "cell_type": "code",
   "execution_count": 6,
   "metadata": {
    "colab": {
     "base_uri": "https://localhost:8080/"
    },
    "executionInfo": {
     "elapsed": 1472,
     "status": "ok",
     "timestamp": 1611207755063,
     "user": {
      "displayName": "Jaewon Fastcampus",
      "photoUrl": "",
      "userId": "05122666633107220130"
     },
     "user_tz": -540
    },
    "id": "NO_0UybJNRrS",
    "outputId": "605a81c9-1202-4630-f4b4-c1db677c3acf"
   },
   "outputs": [
    {
     "name": "stdout",
     "output_type": "stream",
     "text": [
      "(98, 12)\n"
     ]
    },
    {
     "data": {
      "text/html": [
       "<div>\n",
       "<style scoped>\n",
       "    .dataframe tbody tr th:only-of-type {\n",
       "        vertical-align: middle;\n",
       "    }\n",
       "\n",
       "    .dataframe tbody tr th {\n",
       "        vertical-align: top;\n",
       "    }\n",
       "\n",
       "    .dataframe thead th {\n",
       "        text-align: right;\n",
       "    }\n",
       "</style>\n",
       "<table border=\"1\" class=\"dataframe\">\n",
       "  <thead>\n",
       "    <tr style=\"text-align: right;\">\n",
       "      <th></th>\n",
       "      <th>overall</th>\n",
       "      <th>verified</th>\n",
       "      <th>reviewTime</th>\n",
       "      <th>reviewerID</th>\n",
       "      <th>asin</th>\n",
       "      <th>style</th>\n",
       "      <th>reviewerName</th>\n",
       "      <th>reviewText</th>\n",
       "      <th>summary</th>\n",
       "      <th>unixReviewTime</th>\n",
       "      <th>vote</th>\n",
       "      <th>image</th>\n",
       "    </tr>\n",
       "  </thead>\n",
       "  <tbody>\n",
       "    <tr>\n",
       "      <th>19</th>\n",
       "      <td>5.0</td>\n",
       "      <td>True</td>\n",
       "      <td>04 23, 2018</td>\n",
       "      <td>AX0ZEGHH0H525</td>\n",
       "      <td>B00006L9LC</td>\n",
       "      <td>{'Size:': ' Small'}</td>\n",
       "      <td>Aida A</td>\n",
       "      <td>Suffered from itchiness under my hair for coup...</td>\n",
       "      <td>Scalp-healing</td>\n",
       "      <td>1524441600</td>\n",
       "      <td>5</td>\n",
       "      <td>[https://images-na.ssl-images-amazon.com/image...</td>\n",
       "    </tr>\n",
       "    <tr>\n",
       "      <th>20</th>\n",
       "      <td>5.0</td>\n",
       "      <td>True</td>\n",
       "      <td>04 22, 2018</td>\n",
       "      <td>A1L0QECT7J93ZP</td>\n",
       "      <td>B00006L9LC</td>\n",
       "      <td>{'Size:': ' Small'}</td>\n",
       "      <td>Elena</td>\n",
       "      <td>Got this product for me and  my daughter. I ca...</td>\n",
       "      <td>For any type of hair</td>\n",
       "      <td>1524355200</td>\n",
       "      <td>4</td>\n",
       "      <td>[https://images-na.ssl-images-amazon.com/image...</td>\n",
       "    </tr>\n",
       "    <tr>\n",
       "      <th>21</th>\n",
       "      <td>5.0</td>\n",
       "      <td>True</td>\n",
       "      <td>04 21, 2018</td>\n",
       "      <td>A1VN560NNZQIR0</td>\n",
       "      <td>B00006L9LC</td>\n",
       "      <td>{'Size:': ' Small'}</td>\n",
       "      <td>Shablinska</td>\n",
       "      <td>Cleansing properties are above any praise! Sup...</td>\n",
       "      <td>The best treat for my hair!</td>\n",
       "      <td>1524268800</td>\n",
       "      <td>4</td>\n",
       "      <td>[https://images-na.ssl-images-amazon.com/image...</td>\n",
       "    </tr>\n",
       "    <tr>\n",
       "      <th>34</th>\n",
       "      <td>1.0</td>\n",
       "      <td>True</td>\n",
       "      <td>03 27, 2018</td>\n",
       "      <td>A2V608ILSK1M5R</td>\n",
       "      <td>B00006L9LC</td>\n",
       "      <td>{'Size:': ' Small'}</td>\n",
       "      <td>CDART815</td>\n",
       "      <td>My product was not sealed and either used or s...</td>\n",
       "      <td>Beware</td>\n",
       "      <td>1522108800</td>\n",
       "      <td>2</td>\n",
       "      <td>[https://images-na.ssl-images-amazon.com/image...</td>\n",
       "    </tr>\n",
       "    <tr>\n",
       "      <th>47</th>\n",
       "      <td>5.0</td>\n",
       "      <td>True</td>\n",
       "      <td>02 23, 2018</td>\n",
       "      <td>A22V1MD93T2FW9</td>\n",
       "      <td>B00006L9LC</td>\n",
       "      <td>{'Size:': ' Small'}</td>\n",
       "      <td>Heather Sharp</td>\n",
       "      <td>I bought this for my husband. Hed been having ...</td>\n",
       "      <td>Really great shampoo for sensitive skin that h...</td>\n",
       "      <td>1519344000</td>\n",
       "      <td>20</td>\n",
       "      <td>[https://images-na.ssl-images-amazon.com/image...</td>\n",
       "    </tr>\n",
       "  </tbody>\n",
       "</table>\n",
       "</div>"
      ],
      "text/plain": [
       "    overall  verified   reviewTime      reviewerID        asin  \\\n",
       "19      5.0      True  04 23, 2018   AX0ZEGHH0H525  B00006L9LC   \n",
       "20      5.0      True  04 22, 2018  A1L0QECT7J93ZP  B00006L9LC   \n",
       "21      5.0      True  04 21, 2018  A1VN560NNZQIR0  B00006L9LC   \n",
       "34      1.0      True  03 27, 2018  A2V608ILSK1M5R  B00006L9LC   \n",
       "47      5.0      True  02 23, 2018  A22V1MD93T2FW9  B00006L9LC   \n",
       "\n",
       "                  style   reviewerName  \\\n",
       "19  {'Size:': ' Small'}         Aida A   \n",
       "20  {'Size:': ' Small'}          Elena   \n",
       "21  {'Size:': ' Small'}     Shablinska   \n",
       "34  {'Size:': ' Small'}       CDART815   \n",
       "47  {'Size:': ' Small'}  Heather Sharp   \n",
       "\n",
       "                                           reviewText  \\\n",
       "19  Suffered from itchiness under my hair for coup...   \n",
       "20  Got this product for me and  my daughter. I ca...   \n",
       "21  Cleansing properties are above any praise! Sup...   \n",
       "34  My product was not sealed and either used or s...   \n",
       "47  I bought this for my husband. Hed been having ...   \n",
       "\n",
       "                                              summary  unixReviewTime vote  \\\n",
       "19                                      Scalp-healing      1524441600    5   \n",
       "20                               For any type of hair      1524355200    4   \n",
       "21                        The best treat for my hair!      1524268800    4   \n",
       "34                                             Beware      1522108800    2   \n",
       "47  Really great shampoo for sensitive skin that h...      1519344000   20   \n",
       "\n",
       "                                                image  \n",
       "19  [https://images-na.ssl-images-amazon.com/image...  \n",
       "20  [https://images-na.ssl-images-amazon.com/image...  \n",
       "21  [https://images-na.ssl-images-amazon.com/image...  \n",
       "34  [https://images-na.ssl-images-amazon.com/image...  \n",
       "47  [https://images-na.ssl-images-amazon.com/image...  "
      ]
     },
     "execution_count": 6,
     "metadata": {},
     "output_type": "execute_result"
    }
   ],
   "source": [
    "print(beauty_df.shape)\n",
    "beauty_df.head()"
   ]
  },
  {
   "cell_type": "code",
   "execution_count": 7,
   "metadata": {
    "colab": {
     "base_uri": "https://localhost:8080/"
    },
    "executionInfo": {
     "elapsed": 1448,
     "status": "ok",
     "timestamp": 1611207760844,
     "user": {
      "displayName": "Jaewon Fastcampus",
      "photoUrl": "",
      "userId": "05122666633107220130"
     },
     "user_tz": -540
    },
    "id": "lOnxhEJ_NVn4",
    "outputId": "131ca151-dd40-49eb-db71-46537cc9ff3b"
   },
   "outputs": [
    {
     "name": "stdout",
     "output_type": "stream",
     "text": [
      "(617, 12)\n"
     ]
    },
    {
     "data": {
      "text/html": [
       "<div>\n",
       "<style scoped>\n",
       "    .dataframe tbody tr th:only-of-type {\n",
       "        vertical-align: middle;\n",
       "    }\n",
       "\n",
       "    .dataframe tbody tr th {\n",
       "        vertical-align: top;\n",
       "    }\n",
       "\n",
       "    .dataframe thead th {\n",
       "        text-align: right;\n",
       "    }\n",
       "</style>\n",
       "<table border=\"1\" class=\"dataframe\">\n",
       "  <thead>\n",
       "    <tr style=\"text-align: right;\">\n",
       "      <th></th>\n",
       "      <th>overall</th>\n",
       "      <th>verified</th>\n",
       "      <th>reviewTime</th>\n",
       "      <th>reviewerID</th>\n",
       "      <th>asin</th>\n",
       "      <th>style</th>\n",
       "      <th>reviewerName</th>\n",
       "      <th>reviewText</th>\n",
       "      <th>summary</th>\n",
       "      <th>unixReviewTime</th>\n",
       "      <th>vote</th>\n",
       "      <th>image</th>\n",
       "    </tr>\n",
       "  </thead>\n",
       "  <tbody>\n",
       "    <tr>\n",
       "      <th>68</th>\n",
       "      <td>5.0</td>\n",
       "      <td>True</td>\n",
       "      <td>03 5, 2018</td>\n",
       "      <td>A2BHOZILR7SY9</td>\n",
       "      <td>B000142FVW</td>\n",
       "      <td>{'Color:': ' Tickle My France-y'}</td>\n",
       "      <td>MustangMary</td>\n",
       "      <td>This is the neutral I was searching for this w...</td>\n",
       "      <td>Tickle My France-y is a great neutral shade</td>\n",
       "      <td>1520208000</td>\n",
       "      <td>NaN</td>\n",
       "      <td>[https://images-na.ssl-images-amazon.com/image...</td>\n",
       "    </tr>\n",
       "    <tr>\n",
       "      <th>75</th>\n",
       "      <td>5.0</td>\n",
       "      <td>True</td>\n",
       "      <td>01 13, 2018</td>\n",
       "      <td>ACMSQCH1H7JZD</td>\n",
       "      <td>B000142FVW</td>\n",
       "      <td>{'Color:': ' Samoan Sand'}</td>\n",
       "      <td>KED</td>\n",
       "      <td>Very light color. I'm pale and it matches my s...</td>\n",
       "      <td>Pretty!</td>\n",
       "      <td>1515801600</td>\n",
       "      <td>NaN</td>\n",
       "      <td>[https://images-na.ssl-images-amazon.com/image...</td>\n",
       "    </tr>\n",
       "    <tr>\n",
       "      <th>86</th>\n",
       "      <td>5.0</td>\n",
       "      <td>True</td>\n",
       "      <td>10 17, 2017</td>\n",
       "      <td>A2L77YQRAEA1YZ</td>\n",
       "      <td>B000142FVW</td>\n",
       "      <td>{'Color:': ' Samoan Sand'}</td>\n",
       "      <td>ELLE</td>\n",
       "      <td>Best nude for olive or light skin tones.  Easy...</td>\n",
       "      <td>Samoan sand</td>\n",
       "      <td>1508198400</td>\n",
       "      <td>NaN</td>\n",
       "      <td>[https://images-na.ssl-images-amazon.com/image...</td>\n",
       "    </tr>\n",
       "    <tr>\n",
       "      <th>88</th>\n",
       "      <td>5.0</td>\n",
       "      <td>True</td>\n",
       "      <td>03 5, 2017</td>\n",
       "      <td>A28W77RPDZK7AZ</td>\n",
       "      <td>B00014351Q</td>\n",
       "      <td>{'Color:': ' Crawfishin' for a Compliment'}</td>\n",
       "      <td>Angela</td>\n",
       "      <td>Fast shipping and packaged well! I ordered the...</td>\n",
       "      <td>love</td>\n",
       "      <td>1488672000</td>\n",
       "      <td>9</td>\n",
       "      <td>[https://images-na.ssl-images-amazon.com/image...</td>\n",
       "    </tr>\n",
       "    <tr>\n",
       "      <th>104</th>\n",
       "      <td>5.0</td>\n",
       "      <td>False</td>\n",
       "      <td>08 21, 2016</td>\n",
       "      <td>A2IV70BWQBUF32</td>\n",
       "      <td>B00014351Q</td>\n",
       "      <td>{'Color:': ' Rich Girls &amp; Po-Boys'}</td>\n",
       "      <td>Paige Sanders</td>\n",
       "      <td>Such a gorgeous blue ! My clients love it</td>\n",
       "      <td>Rich girls &amp; po boys</td>\n",
       "      <td>1471737600</td>\n",
       "      <td>2</td>\n",
       "      <td>[https://images-na.ssl-images-amazon.com/image...</td>\n",
       "    </tr>\n",
       "  </tbody>\n",
       "</table>\n",
       "</div>"
      ],
      "text/plain": [
       "     overall  verified   reviewTime      reviewerID        asin  \\\n",
       "68       5.0      True   03 5, 2018   A2BHOZILR7SY9  B000142FVW   \n",
       "75       5.0      True  01 13, 2018   ACMSQCH1H7JZD  B000142FVW   \n",
       "86       5.0      True  10 17, 2017  A2L77YQRAEA1YZ  B000142FVW   \n",
       "88       5.0      True   03 5, 2017  A28W77RPDZK7AZ  B00014351Q   \n",
       "104      5.0     False  08 21, 2016  A2IV70BWQBUF32  B00014351Q   \n",
       "\n",
       "                                           style   reviewerName  \\\n",
       "68             {'Color:': ' Tickle My France-y'}    MustangMary   \n",
       "75                    {'Color:': ' Samoan Sand'}            KED   \n",
       "86                    {'Color:': ' Samoan Sand'}           ELLE   \n",
       "88   {'Color:': ' Crawfishin' for a Compliment'}         Angela   \n",
       "104          {'Color:': ' Rich Girls & Po-Boys'}  Paige Sanders   \n",
       "\n",
       "                                            reviewText  \\\n",
       "68   This is the neutral I was searching for this w...   \n",
       "75   Very light color. I'm pale and it matches my s...   \n",
       "86   Best nude for olive or light skin tones.  Easy...   \n",
       "88   Fast shipping and packaged well! I ordered the...   \n",
       "104          Such a gorgeous blue ! My clients love it   \n",
       "\n",
       "                                         summary  unixReviewTime vote  \\\n",
       "68   Tickle My France-y is a great neutral shade      1520208000  NaN   \n",
       "75                                       Pretty!      1515801600  NaN   \n",
       "86                                   Samoan sand      1508198400  NaN   \n",
       "88                                          love      1488672000    9   \n",
       "104                         Rich girls & po boys      1471737600    2   \n",
       "\n",
       "                                                 image  \n",
       "68   [https://images-na.ssl-images-amazon.com/image...  \n",
       "75   [https://images-na.ssl-images-amazon.com/image...  \n",
       "86   [https://images-na.ssl-images-amazon.com/image...  \n",
       "88   [https://images-na.ssl-images-amazon.com/image...  \n",
       "104  [https://images-na.ssl-images-amazon.com/image...  "
      ]
     },
     "execution_count": 7,
     "metadata": {},
     "output_type": "execute_result"
    }
   ],
   "source": [
    "print(luxury_df.shape)\n",
    "luxury_df.head()"
   ]
  },
  {
   "cell_type": "markdown",
   "metadata": {
    "id": "Ggor56C1NMH3"
   },
   "source": [
    "## Download images"
   ]
  },
  {
   "cell_type": "code",
   "execution_count": 8,
   "metadata": {
    "id": "-sifmad_O7So"
   },
   "outputs": [],
   "source": [
    "from tqdm import tqdm\n",
    "import requests"
   ]
  },
  {
   "cell_type": "code",
   "execution_count": 9,
   "metadata": {
    "id": "kUUXVxxxOXO2"
   },
   "outputs": [],
   "source": [
    "def download_images(path, df, category):\n",
    "    folder_path = os.path.join(path, category)\n",
    "\n",
    "    if not os.path.exists(folder_path):\n",
    "        os.makedirs(folder_path)\n",
    "\n",
    "    for index in tqdm(df.index):\n",
    "        url_list = df['image'].loc[index]\n",
    "        for url_index, url in enumerate(url_list):\n",
    "            if not os.path.exists(os.path.join(folder_path, f'{str(index)}_{str(url_index)}.jpg')):\n",
    "                img_data = requests.get(url).content\n",
    "                with open(os.path.join(folder_path, f'{str(index)}_{str(url_index)}.jpg'), 'wb') as handler:\n",
    "                    handler.write(img_data)\n",
    "\n",
    "    print(f'{category}: {len(df.index)} images downloaded or already exist...')"
   ]
  },
  {
   "cell_type": "code",
   "execution_count": 10,
   "metadata": {
    "colab": {
     "base_uri": "https://localhost:8080/"
    },
    "executionInfo": {
     "elapsed": 566,
     "status": "ok",
     "timestamp": 1611207843395,
     "user": {
      "displayName": "Jaewon Fastcampus",
      "photoUrl": "",
      "userId": "05122666633107220130"
     },
     "user_tz": -540
    },
    "id": "XWR0b2GOHAzQ",
    "outputId": "68d3e411-1d38-48f5-f104-8ec234915dc0"
   },
   "outputs": [
    {
     "name": "stderr",
     "output_type": "stream",
     "text": [
      "100%|███████████████████████████████████████████████████████████████████████████████| 98/98 [00:00<00:00, 12283.10it/s]"
     ]
    },
    {
     "name": "stdout",
     "output_type": "stream",
     "text": [
      "beauty: 98 images downloaded or already exist...\n"
     ]
    },
    {
     "name": "stderr",
     "output_type": "stream",
     "text": [
      "\n"
     ]
    }
   ],
   "source": [
    "download_images(path, beauty_df, 'beauty')"
   ]
  },
  {
   "cell_type": "code",
   "execution_count": 11,
   "metadata": {
    "colab": {
     "base_uri": "https://localhost:8080/"
    },
    "executionInfo": {
     "elapsed": 599,
     "status": "ok",
     "timestamp": 1611207846355,
     "user": {
      "displayName": "Jaewon Fastcampus",
      "photoUrl": "",
      "userId": "05122666633107220130"
     },
     "user_tz": -540
    },
    "id": "BIh1J48jPy-N",
    "outputId": "b6988389-a54e-4815-ac19-63cff0fcd07a"
   },
   "outputs": [
    {
     "name": "stderr",
     "output_type": "stream",
     "text": [
      "100%|█████████████████████████████████████████████████████████████████████████████| 106/106 [00:00<00:00, 10629.92it/s]"
     ]
    },
    {
     "name": "stdout",
     "output_type": "stream",
     "text": [
      "fashion: 106 images downloaded or already exist...\n"
     ]
    },
    {
     "name": "stderr",
     "output_type": "stream",
     "text": [
      "\n"
     ]
    }
   ],
   "source": [
    "download_images(path, fashion_df, 'fashion')"
   ]
  },
  {
   "cell_type": "code",
   "execution_count": 12,
   "metadata": {
    "colab": {
     "base_uri": "https://localhost:8080/"
    },
    "executionInfo": {
     "elapsed": 679,
     "status": "ok",
     "timestamp": 1611207847750,
     "user": {
      "displayName": "Jaewon Fastcampus",
      "photoUrl": "",
      "userId": "05122666633107220130"
     },
     "user_tz": -540
    },
    "id": "FRgZpz4qP3XR",
    "outputId": "92e1bfa0-0806-4443-97a7-152c7cc2cab5"
   },
   "outputs": [
    {
     "name": "stderr",
     "output_type": "stream",
     "text": [
      "100%|█████████████████████████████████████████████████████████████████████████████| 617/617 [00:00<00:00, 10484.70it/s]"
     ]
    },
    {
     "name": "stdout",
     "output_type": "stream",
     "text": [
      "luxury: 617 images downloaded or already exist...\n"
     ]
    },
    {
     "name": "stderr",
     "output_type": "stream",
     "text": [
      "\n"
     ]
    }
   ],
   "source": [
    "download_images(path, luxury_df, 'luxury')"
   ]
  },
  {
   "cell_type": "markdown",
   "metadata": {
    "id": "o525pJeyP7SI"
   },
   "source": [
    "## Use pre-trained CNN"
   ]
  },
  {
   "cell_type": "code",
   "execution_count": 13,
   "metadata": {
    "id": "NDU8iVwoHvbt"
   },
   "outputs": [],
   "source": [
    "import torch\n",
    "import torch.nn as nn\n",
    "import torchvision.models as models\n",
    "import torchvision.transforms as transforms\n",
    "from torch.autograd import Variable\n",
    "from PIL import Image"
   ]
  },
  {
   "cell_type": "code",
   "execution_count": 14,
   "metadata": {
    "colab": {
     "base_uri": "https://localhost:8080/",
     "height": 82,
     "referenced_widgets": [
      "5f07252a6b944880b322344a2fd15728",
      "a68a0c8d086640f78dfb53200b404eaf",
      "432a4065da914ca9b8306a0f48bc4ab8",
      "199aa8cd10524ecd906b85a8edc13817",
      "b4bb5825b1d4465c8bfc4bb87b9027a5",
      "26c965f216a24574bef7422373ce14ed",
      "ada552b5ebcf4da086bebb41c6c376e6",
      "0af3e96253344877928e73bef83d81c7"
     ]
    },
    "executionInfo": {
     "elapsed": 1277,
     "status": "ok",
     "timestamp": 1611207997948,
     "user": {
      "displayName": "Jaewon Fastcampus",
      "photoUrl": "",
      "userId": "05122666633107220130"
     },
     "user_tz": -540
    },
    "id": "w-fMgXUeI63d",
    "outputId": "6b30c306-8a6d-48f9-f081-0048ef9713c3"
   },
   "outputs": [],
   "source": [
    "# Load the pretrained model\n",
    "model = models.resnet18(pretrained=True)\n",
    "# Use the model object to select the desired layer\n",
    "layer = model._modules.get('avgpool')"
   ]
  },
  {
   "cell_type": "code",
   "execution_count": 15,
   "metadata": {
    "id": "6TJJL_i1I9TJ",
    "scrolled": true
   },
   "outputs": [
    {
     "data": {
      "text/plain": [
       "ResNet(\n",
       "  (conv1): Conv2d(3, 64, kernel_size=(7, 7), stride=(2, 2), padding=(3, 3), bias=False)\n",
       "  (bn1): BatchNorm2d(64, eps=1e-05, momentum=0.1, affine=True, track_running_stats=True)\n",
       "  (relu): ReLU(inplace=True)\n",
       "  (maxpool): MaxPool2d(kernel_size=3, stride=2, padding=1, dilation=1, ceil_mode=False)\n",
       "  (layer1): Sequential(\n",
       "    (0): BasicBlock(\n",
       "      (conv1): Conv2d(64, 64, kernel_size=(3, 3), stride=(1, 1), padding=(1, 1), bias=False)\n",
       "      (bn1): BatchNorm2d(64, eps=1e-05, momentum=0.1, affine=True, track_running_stats=True)\n",
       "      (relu): ReLU(inplace=True)\n",
       "      (conv2): Conv2d(64, 64, kernel_size=(3, 3), stride=(1, 1), padding=(1, 1), bias=False)\n",
       "      (bn2): BatchNorm2d(64, eps=1e-05, momentum=0.1, affine=True, track_running_stats=True)\n",
       "    )\n",
       "    (1): BasicBlock(\n",
       "      (conv1): Conv2d(64, 64, kernel_size=(3, 3), stride=(1, 1), padding=(1, 1), bias=False)\n",
       "      (bn1): BatchNorm2d(64, eps=1e-05, momentum=0.1, affine=True, track_running_stats=True)\n",
       "      (relu): ReLU(inplace=True)\n",
       "      (conv2): Conv2d(64, 64, kernel_size=(3, 3), stride=(1, 1), padding=(1, 1), bias=False)\n",
       "      (bn2): BatchNorm2d(64, eps=1e-05, momentum=0.1, affine=True, track_running_stats=True)\n",
       "    )\n",
       "  )\n",
       "  (layer2): Sequential(\n",
       "    (0): BasicBlock(\n",
       "      (conv1): Conv2d(64, 128, kernel_size=(3, 3), stride=(2, 2), padding=(1, 1), bias=False)\n",
       "      (bn1): BatchNorm2d(128, eps=1e-05, momentum=0.1, affine=True, track_running_stats=True)\n",
       "      (relu): ReLU(inplace=True)\n",
       "      (conv2): Conv2d(128, 128, kernel_size=(3, 3), stride=(1, 1), padding=(1, 1), bias=False)\n",
       "      (bn2): BatchNorm2d(128, eps=1e-05, momentum=0.1, affine=True, track_running_stats=True)\n",
       "      (downsample): Sequential(\n",
       "        (0): Conv2d(64, 128, kernel_size=(1, 1), stride=(2, 2), bias=False)\n",
       "        (1): BatchNorm2d(128, eps=1e-05, momentum=0.1, affine=True, track_running_stats=True)\n",
       "      )\n",
       "    )\n",
       "    (1): BasicBlock(\n",
       "      (conv1): Conv2d(128, 128, kernel_size=(3, 3), stride=(1, 1), padding=(1, 1), bias=False)\n",
       "      (bn1): BatchNorm2d(128, eps=1e-05, momentum=0.1, affine=True, track_running_stats=True)\n",
       "      (relu): ReLU(inplace=True)\n",
       "      (conv2): Conv2d(128, 128, kernel_size=(3, 3), stride=(1, 1), padding=(1, 1), bias=False)\n",
       "      (bn2): BatchNorm2d(128, eps=1e-05, momentum=0.1, affine=True, track_running_stats=True)\n",
       "    )\n",
       "  )\n",
       "  (layer3): Sequential(\n",
       "    (0): BasicBlock(\n",
       "      (conv1): Conv2d(128, 256, kernel_size=(3, 3), stride=(2, 2), padding=(1, 1), bias=False)\n",
       "      (bn1): BatchNorm2d(256, eps=1e-05, momentum=0.1, affine=True, track_running_stats=True)\n",
       "      (relu): ReLU(inplace=True)\n",
       "      (conv2): Conv2d(256, 256, kernel_size=(3, 3), stride=(1, 1), padding=(1, 1), bias=False)\n",
       "      (bn2): BatchNorm2d(256, eps=1e-05, momentum=0.1, affine=True, track_running_stats=True)\n",
       "      (downsample): Sequential(\n",
       "        (0): Conv2d(128, 256, kernel_size=(1, 1), stride=(2, 2), bias=False)\n",
       "        (1): BatchNorm2d(256, eps=1e-05, momentum=0.1, affine=True, track_running_stats=True)\n",
       "      )\n",
       "    )\n",
       "    (1): BasicBlock(\n",
       "      (conv1): Conv2d(256, 256, kernel_size=(3, 3), stride=(1, 1), padding=(1, 1), bias=False)\n",
       "      (bn1): BatchNorm2d(256, eps=1e-05, momentum=0.1, affine=True, track_running_stats=True)\n",
       "      (relu): ReLU(inplace=True)\n",
       "      (conv2): Conv2d(256, 256, kernel_size=(3, 3), stride=(1, 1), padding=(1, 1), bias=False)\n",
       "      (bn2): BatchNorm2d(256, eps=1e-05, momentum=0.1, affine=True, track_running_stats=True)\n",
       "    )\n",
       "  )\n",
       "  (layer4): Sequential(\n",
       "    (0): BasicBlock(\n",
       "      (conv1): Conv2d(256, 512, kernel_size=(3, 3), stride=(2, 2), padding=(1, 1), bias=False)\n",
       "      (bn1): BatchNorm2d(512, eps=1e-05, momentum=0.1, affine=True, track_running_stats=True)\n",
       "      (relu): ReLU(inplace=True)\n",
       "      (conv2): Conv2d(512, 512, kernel_size=(3, 3), stride=(1, 1), padding=(1, 1), bias=False)\n",
       "      (bn2): BatchNorm2d(512, eps=1e-05, momentum=0.1, affine=True, track_running_stats=True)\n",
       "      (downsample): Sequential(\n",
       "        (0): Conv2d(256, 512, kernel_size=(1, 1), stride=(2, 2), bias=False)\n",
       "        (1): BatchNorm2d(512, eps=1e-05, momentum=0.1, affine=True, track_running_stats=True)\n",
       "      )\n",
       "    )\n",
       "    (1): BasicBlock(\n",
       "      (conv1): Conv2d(512, 512, kernel_size=(3, 3), stride=(1, 1), padding=(1, 1), bias=False)\n",
       "      (bn1): BatchNorm2d(512, eps=1e-05, momentum=0.1, affine=True, track_running_stats=True)\n",
       "      (relu): ReLU(inplace=True)\n",
       "      (conv2): Conv2d(512, 512, kernel_size=(3, 3), stride=(1, 1), padding=(1, 1), bias=False)\n",
       "      (bn2): BatchNorm2d(512, eps=1e-05, momentum=0.1, affine=True, track_running_stats=True)\n",
       "    )\n",
       "  )\n",
       "  (avgpool): AdaptiveAvgPool2d(output_size=(1, 1))\n",
       "  (fc): Linear(in_features=512, out_features=1000, bias=True)\n",
       ")"
      ]
     },
     "execution_count": 15,
     "metadata": {},
     "output_type": "execute_result"
    }
   ],
   "source": [
    "# Set model to evaluation mode\n",
    "model.eval()"
   ]
  },
  {
   "cell_type": "code",
   "execution_count": 16,
   "metadata": {
    "colab": {
     "base_uri": "https://localhost:8080/"
    },
    "executionInfo": {
     "elapsed": 826,
     "status": "ok",
     "timestamp": 1611208012984,
     "user": {
      "displayName": "Jaewon Fastcampus",
      "photoUrl": "",
      "userId": "05122666633107220130"
     },
     "user_tz": -540
    },
    "id": "_b45xaL0I_Yk",
    "outputId": "01e96f21-cea4-4fc2-cfd7-d39ea1ef60fe"
   },
   "outputs": [],
   "source": [
    "scaler = transforms.Scale((224, 224))\n",
    "normalize = transforms.Normalize(mean=[0.485, 0.456, 0.406],\n",
    "                                 std=[0.229, 0.224, 0.225])\n",
    "to_tensor = transforms.ToTensor()"
   ]
  },
  {
   "cell_type": "code",
   "execution_count": 17,
   "metadata": {
    "id": "tb14kVNqJA2d"
   },
   "outputs": [],
   "source": [
    "def get_vector(image_name):\n",
    "    # 1. Load the image with Pillow library\n",
    "    img = Image.open(image_name)\n",
    "    # 2. Create a PyTorch Variable with the transformed image\n",
    "    t_img = Variable(normalize(to_tensor(scaler(img))).unsqueeze(0))\n",
    "    # 3. Create a vector of zeros that will hold our feature vector\n",
    "    #    The 'avgpool' layer has an output size of 512\n",
    "    my_embedding = torch.zeros(512)\n",
    "    # 4. Define a function that will copy the output of a layer\n",
    "    def copy_data(m, i, o):\n",
    "        my_embedding.copy_(o.data.reshape(o.data.size(1)))\n",
    "    # 5. Attach that function to our selected layer\n",
    "    h = layer.register_forward_hook(copy_data)\n",
    "    # 6. Run the model on our transformed image\n",
    "    model(t_img)\n",
    "    # 7. Detach our copy function from the layer\n",
    "    h.remove()\n",
    "    # 8. Return the feature vector\n",
    "    return my_embedding.cpu().detach().numpy()"
   ]
  },
  {
   "cell_type": "code",
   "execution_count": 18,
   "metadata": {
    "id": "p0FmkzP_SJfT"
   },
   "outputs": [
    {
     "name": "stdout",
     "output_type": "stream",
     "text": [
      "1330_0.jpg feature vectors\n",
      "[4.59707260e-01 4.80601370e-01 1.39175427e+00 8.23365450e-01\n",
      " 9.03181911e-01 1.17401791e+00 2.28968835e+00 1.21745980e+00\n",
      " 1.00720227e+00 1.87512845e-01 2.47374162e-01 7.89716780e-01\n",
      " 1.51985228e+00 9.11718428e-01 1.47356331e-01 4.77697283e-01\n",
      " 5.50643764e-02 1.16396749e+00 6.26493156e-01 1.20511258e+00\n",
      " 4.01770651e-01 3.04142207e-01 2.15162373e+00 6.18596445e-04\n",
      " 8.73278856e-01 4.15101111e-01 1.45628715e+00 4.61923145e-02\n",
      " 4.48417544e-01 3.88405859e-01 2.23538709e+00 1.34194601e+00\n",
      " 9.40538347e-01 4.17112857e-01 1.10655046e+00 2.27401182e-01\n",
      " 1.27639794e+00 4.43568885e-01 1.79698598e+00 4.94024873e-01\n",
      " 3.46500188e-01 9.58517194e-02 7.20613062e-01 1.84116757e+00\n",
      " 1.55660486e+00 1.84616238e-01 1.32214189e+00 1.87435925e-01\n",
      " 2.75410652e-01 4.54258285e-02 3.16850811e-01 9.46917951e-01\n",
      " 1.24328983e+00 1.45313108e+00 8.99534583e-01 2.22507954e+00\n",
      " 8.35970268e-02 9.91522968e-01 7.52461016e-01 2.29401612e+00\n",
      " 4.85059261e-01 6.27349794e-01 2.89514780e-01 3.36589766e+00\n",
      " 1.91878811e-01 1.00348979e-01 7.48882830e-01 6.58458471e-01\n",
      " 2.54075658e-02 6.78963400e-03 9.74174798e-01 2.61177039e+00\n",
      " 6.79129139e-02 2.13228121e-01 5.91623068e-01 3.17923808e+00\n",
      " 9.09739256e-01 3.14268917e-01 1.27220190e+00 4.11845334e-02\n",
      " 1.44849432e+00 2.75750923e+00 5.41474342e-01 1.43965175e-02\n",
      " 6.91499889e-01 9.91558790e-01 1.66738465e-01 2.91910797e-01\n",
      " 1.03979504e+00 1.29971400e-01 1.53365409e+00 1.25284743e+00\n",
      " 2.57837266e-01 6.13016725e-01 2.92191356e-01 0.00000000e+00\n",
      " 9.57710803e-01 7.67366812e-02 1.80248335e-01 2.76799083e-01\n",
      " 5.87866679e-02 2.17335269e-01 8.65273833e-01 2.34024033e-01\n",
      " 1.55771017e+00 1.00303745e+00 8.19815159e-01 1.32808685e-01\n",
      " 8.71466160e-01 3.30884814e+00 3.88780951e-01 9.27676320e-01\n",
      " 8.53312492e-01 1.37886441e+00 2.19358969e+00 1.33818722e+00\n",
      " 9.21550512e-01 5.16152811e+00 2.18299106e-01 1.77000594e+00\n",
      " 8.57654989e-01 3.16643864e-02 3.30009818e-01 7.63628721e-01\n",
      " 3.94631326e-01 1.46834608e-02 6.56456232e-01 8.02866042e-01\n",
      " 1.23151791e+00 6.19379342e-01 2.14777660e+00 1.09528553e+00\n",
      " 4.53481972e-02 8.39187026e-01 8.64622772e-01 1.91485965e+00\n",
      " 1.97818369e-01 3.33943427e-01 1.90286446e+00 8.22793543e-01\n",
      " 5.22236884e-01 3.68352681e-01 1.77738428e+00 1.61528456e+00\n",
      " 2.78299642e+00 6.53175354e-01 2.76165605e-01 2.41063499e+00\n",
      " 7.50428662e-02 8.43019560e-02 6.97810277e-02 1.49306679e+00\n",
      " 1.11978805e+00 2.56671667e-01 4.64351445e-01 1.28055775e+00\n",
      " 4.36185040e-02 2.10397214e-01 3.17612499e-01 4.59754586e-01\n",
      " 1.26815727e-02 1.71846318e+00 1.47164864e-02 7.06201315e+00\n",
      " 1.26401439e-01 6.29193068e-01 1.77573055e-01 9.68246281e-01\n",
      " 3.49998355e-01 1.92353148e-02 8.25847313e-03 3.25098693e-01\n",
      " 1.19755650e+00 5.19039989e-01 1.65403354e+00 3.36901873e-01\n",
      " 5.39730370e-01 1.28608644e+00 3.97455096e-01 3.36424522e-02\n",
      " 1.84109592e+00 1.94789395e-01 1.47033477e+00 8.43853176e-01\n",
      " 8.27880859e-01 3.38691194e-03 1.58704385e-01 3.78257215e-01\n",
      " 1.10232949e+00 1.22031584e-01 7.41000593e-01 3.92667316e-02\n",
      " 4.83141094e-01 1.24094784e+00 7.81085119e-02 4.21570396e+00\n",
      " 3.57707351e-01 9.71925914e-01 1.27983034e+00 1.63146794e-01\n",
      " 1.95487604e-01 3.00202459e-01 1.69003892e+00 2.24265623e+00\n",
      " 4.60538387e-01 4.37023252e-01 2.12510610e+00 2.68634140e-01\n",
      " 8.29712987e-01 3.79655838e-01 9.78440106e-01 1.60009384e-01\n",
      " 9.40540731e-02 5.08525252e-01 6.10850990e-01 2.15814203e-01\n",
      " 1.98506728e-01 9.29365337e-01 2.38864943e-01 4.49385196e-01\n",
      " 1.03870571e-01 5.36698580e-01 1.69258565e-02 5.01182735e-01\n",
      " 1.03200030e+00 1.94078708e+00 2.85663188e-01 6.44420832e-02\n",
      " 2.31183544e-01 1.30254710e+00 2.17768359e+00 2.22622347e+00\n",
      " 4.98802096e-01 0.00000000e+00 3.77381146e-01 6.77005947e-01\n",
      " 1.51523113e+00 2.03678703e+00 4.92977619e-01 1.73657310e+00\n",
      " 1.31024075e+00 1.02360047e-01 8.29250962e-02 6.85821474e-01\n",
      " 8.10182989e-01 6.59029603e-01 2.44111156e+00 2.84213567e+00\n",
      " 7.45307148e-01 8.10672566e-02 7.30529547e-01 2.64453799e-01\n",
      " 5.09139240e-01 7.44372487e-01 1.04855001e+00 1.54072881e+00\n",
      " 1.62114096e+00 1.37789682e-01 2.83304524e+00 9.19713616e-01\n",
      " 5.85899055e-01 1.30359256e+00 5.23288786e-01 2.05619320e-01\n",
      " 5.16862869e-01 1.10234588e-01 5.99661469e-01 1.02754247e+00\n",
      " 4.57703561e-01 3.49008352e-01 6.39553964e-02 4.70683545e-01\n",
      " 3.59483123e-01 1.32894233e-01 2.83482671e+00 2.20150805e+00\n",
      " 2.92981952e-01 9.71650556e-02 9.91754651e-01 5.00299692e-01\n",
      " 1.04020119e+00 8.31221819e-01 1.33290613e+00 1.75091103e-01\n",
      " 1.67539263e+00 1.18775725e+00 3.58494729e-01 3.46059299e+00\n",
      " 2.68374729e+00 2.26938891e+00 5.96976578e-02 5.71549237e-01\n",
      " 4.75797504e-01 2.83397106e-03 1.46632820e-01 1.46618998e+00\n",
      " 3.46068054e-01 7.76508227e-02 6.53276861e-01 1.02379955e-01\n",
      " 4.00500631e+00 5.84675610e-01 1.76120305e+00 1.56373933e-01\n",
      " 2.33538508e+00 2.03383472e-02 1.28381896e+00 2.92450368e-01\n",
      " 2.83461362e-01 1.21337652e+00 8.66645873e-02 9.05029550e-02\n",
      " 3.23101699e-01 8.81228983e-01 1.68588817e+00 8.63385320e-01\n",
      " 4.31783974e-01 6.14030600e-01 6.94786608e-01 1.45376599e+00\n",
      " 6.07338190e-01 2.68883705e-01 3.62422657e+00 2.34353309e-03\n",
      " 2.41875005e+00 2.51713216e-01 6.59672022e-01 1.40937245e+00\n",
      " 1.13172889e+00 7.19685316e-01 1.56118822e+00 1.20868176e-01\n",
      " 1.04008651e+00 3.93737435e-01 4.48678160e+00 1.11073725e-01\n",
      " 3.99641812e-01 3.00303996e-01 2.78588742e-01 7.19765127e-01\n",
      " 2.59176207e+00 2.24924660e+00 3.19407135e-01 2.32756066e+00\n",
      " 4.32723351e-02 2.64122114e-02 9.63071704e-01 2.05078816e+00\n",
      " 9.92521569e-02 8.22437823e-01 1.33244216e+00 9.00965109e-02\n",
      " 1.89332202e-01 7.15167895e-02 9.71615553e-01 2.19167888e-01\n",
      " 2.61343479e-01 3.68089795e-01 2.50446469e-01 2.34687001e-01\n",
      " 9.11060274e-01 1.29484093e+00 1.75207898e-01 1.54495609e+00\n",
      " 1.61282504e+00 1.31028247e+00 1.10267556e+00 1.38799429e+00\n",
      " 8.41888726e-01 2.45702311e-01 7.49332830e-02 3.36580873e-01\n",
      " 1.88595474e+00 2.95887280e+00 1.56764793e+00 1.96967691e-01\n",
      " 1.49859548e-01 1.61210227e+00 1.68508267e+00 2.21131063e+00\n",
      " 1.42256641e+00 1.42763019e-01 1.38154522e-01 9.49853837e-01\n",
      " 0.00000000e+00 2.41268802e+00 2.28838515e+00 2.32486439e+00\n",
      " 2.21865460e-01 6.28751740e-02 1.18948913e+00 3.27131152e-01\n",
      " 3.72228503e-01 3.54138672e-01 1.81891263e-01 1.01276912e-01\n",
      " 3.35764408e-01 7.14936614e-01 8.97677302e-01 1.75788894e-01\n",
      " 7.73678273e-02 3.68572235e-01 9.06445146e-01 3.87277305e-01\n",
      " 2.94708681e+00 2.84701133e+00 1.62331700e-01 1.50502980e-01\n",
      " 1.00589347e+00 1.22493780e+00 6.40407801e-01 6.13901019e-01\n",
      " 1.10630631e+00 1.82695389e-01 9.82612908e-01 3.42673373e+00\n",
      " 1.33490705e+00 3.55475277e-01 6.82450533e-01 2.24622294e-01\n",
      " 1.11427629e+00 3.31205159e-01 7.74065375e-01 1.05122365e-01\n",
      " 2.42434621e+00 4.25431156e+00 3.49675924e-01 1.37711632e+00\n",
      " 2.22317189e-01 1.21173754e-01 3.07689458e-01 9.41437483e-01\n",
      " 6.36860132e-02 3.93927604e-01 6.73333779e-02 4.10895526e-01\n",
      " 1.00685072e+00 2.17714638e-01 7.24879578e-02 1.60171047e-01\n",
      " 5.89088857e-01 5.00190556e-01 9.70699310e-01 1.90653816e-01\n",
      " 0.00000000e+00 1.68431056e+00 7.56138802e-01 2.68979799e-02\n",
      " 5.69668412e-01 7.39825726e-01 9.50620294e-01 5.24423242e-01\n",
      " 1.77568160e-02 5.08979654e+00 1.09110042e-01 1.08981323e+00\n",
      " 9.24146354e-01 2.63700628e+00 8.69332135e-01 3.12070429e-01\n",
      " 7.34243751e-01 2.09649014e+00 3.28979492e-01 2.23098588e+00\n",
      " 1.21290505e+00 6.75555944e-01 2.48966366e-01 1.51496148e-03\n",
      " 1.29203543e-01 5.04165053e-01 1.29974568e+00 4.72951502e-01\n",
      " 4.70888257e-01 1.81847072e+00 3.20153189e+00 1.79549778e+00\n",
      " 3.98256332e-01 6.35959208e-01 9.22323704e-01 1.14452350e+00\n",
      " 1.16815186e+00 6.34378970e-01 7.20441878e-01 3.69874299e-01\n",
      " 1.36160195e+00 1.44917583e+00 2.96083093e+00 2.39899802e+00\n",
      " 7.81410560e-02 2.02421355e+00 9.70394164e-02 9.15562287e-02\n",
      " 2.43779942e-01 6.14797771e-01 1.28510857e+00 4.91822772e-02\n",
      " 3.69241595e-01 1.06217134e+00 4.08615857e-01 5.16345978e-01\n",
      " 9.52462435e-01 7.54835188e-01 1.21755946e+00 4.69891727e-01\n",
      " 2.88292676e-01 8.83778393e-01 2.23350692e+00 1.43147027e+00\n",
      " 1.68836308e+00 1.33456624e+00 1.54612988e-01 1.03864026e+00]\n"
     ]
    }
   ],
   "source": [
    "# Test\n",
    "category = 'beauty'\n",
    "for image_file in os.listdir(os.path.join(path, category))[:1]:\n",
    "    print(f\"{image_file} feature vectors\")\n",
    "    print(get_vector(os.path.join(path, category+'/'+image_file)))"
   ]
  },
  {
   "cell_type": "markdown",
   "metadata": {
    "id": "L-VBajkVSSli"
   },
   "source": [
    "## Preprocess dataset\n",
    "\n",
    "- Remove unnecessary columns\n",
    "- Remove all other columns except `overall`, `reviewerID`, `asin`, `image` \n",
    "- Create new column with image filename"
   ]
  },
  {
   "cell_type": "code",
   "execution_count": 19,
   "metadata": {
    "id": "VzDQfeNKWH2s"
   },
   "outputs": [],
   "source": [
    "def add_image_filenames(category, df):\n",
    "    # Remove unnecessary columns\n",
    "    df = df[['overall','reviewerID', 'asin', 'image']]\n",
    "\n",
    "    filenames = []\n",
    "    for row_index in df.index:\n",
    "        each_files = []\n",
    "        for idx in range(len(df.loc[row_index]['image'])):\n",
    "            each_files.append(os.path.join(path, category+'/'+f'{row_index}_{idx}.jpg'))\n",
    "        filenames.append(each_files)\n",
    "\n",
    "    # Add new column\n",
    "    df.drop('image', axis=1, inplace=True)\n",
    "    df['image_filename'] = list(filenames)\n",
    "    return df"
   ]
  },
  {
   "cell_type": "code",
   "execution_count": 20,
   "metadata": {
    "colab": {
     "base_uri": "https://localhost:8080/"
    },
    "executionInfo": {
     "elapsed": 612,
     "status": "ok",
     "timestamp": 1611208183980,
     "user": {
      "displayName": "Jaewon Fastcampus",
      "photoUrl": "",
      "userId": "05122666633107220130"
     },
     "user_tz": -540
    },
    "id": "GBizE_76WfVf",
    "outputId": "477cf8be-5eb6-4809-b483-a0e2612d7754"
   },
   "outputs": [],
   "source": [
    "luxury_df = add_image_filenames('luxury', luxury_df)\n",
    "beauty_df = add_image_filenames('beauty', beauty_df)\n",
    "fashion_df = add_image_filenames('fashion', fashion_df)"
   ]
  },
  {
   "cell_type": "markdown",
   "metadata": {
    "id": "RJKhaFj3Xjzk"
   },
   "source": [
    "### Combine into one dataframe\n",
    "\n",
    "- `luxury_df`, `fashion_df`, beauty_df"
   ]
  },
  {
   "cell_type": "code",
   "execution_count": 21,
   "metadata": {
    "colab": {
     "base_uri": "https://localhost:8080/",
     "height": 195
    },
    "executionInfo": {
     "elapsed": 621,
     "status": "ok",
     "timestamp": 1611208192653,
     "user": {
      "displayName": "Jaewon Fastcampus",
      "photoUrl": "",
      "userId": "05122666633107220130"
     },
     "user_tz": -540
    },
    "id": "-eQecsiVX7lW",
    "outputId": "146b352a-e34e-40a7-8f81-ca792b26e6bb"
   },
   "outputs": [
    {
     "data": {
      "text/html": [
       "<div>\n",
       "<style scoped>\n",
       "    .dataframe tbody tr th:only-of-type {\n",
       "        vertical-align: middle;\n",
       "    }\n",
       "\n",
       "    .dataframe tbody tr th {\n",
       "        vertical-align: top;\n",
       "    }\n",
       "\n",
       "    .dataframe thead th {\n",
       "        text-align: right;\n",
       "    }\n",
       "</style>\n",
       "<table border=\"1\" class=\"dataframe\">\n",
       "  <thead>\n",
       "    <tr style=\"text-align: right;\">\n",
       "      <th></th>\n",
       "      <th>overall</th>\n",
       "      <th>reviewerID</th>\n",
       "      <th>asin</th>\n",
       "      <th>image_filename</th>\n",
       "    </tr>\n",
       "  </thead>\n",
       "  <tbody>\n",
       "    <tr>\n",
       "      <th>68</th>\n",
       "      <td>5.0</td>\n",
       "      <td>A2BHOZILR7SY9</td>\n",
       "      <td>B000142FVW</td>\n",
       "      <td>[./amazon_data\\luxury/68_0.jpg]</td>\n",
       "    </tr>\n",
       "    <tr>\n",
       "      <th>75</th>\n",
       "      <td>5.0</td>\n",
       "      <td>ACMSQCH1H7JZD</td>\n",
       "      <td>B000142FVW</td>\n",
       "      <td>[./amazon_data\\luxury/75_0.jpg]</td>\n",
       "    </tr>\n",
       "    <tr>\n",
       "      <th>86</th>\n",
       "      <td>5.0</td>\n",
       "      <td>A2L77YQRAEA1YZ</td>\n",
       "      <td>B000142FVW</td>\n",
       "      <td>[./amazon_data\\luxury/86_0.jpg]</td>\n",
       "    </tr>\n",
       "    <tr>\n",
       "      <th>88</th>\n",
       "      <td>5.0</td>\n",
       "      <td>A28W77RPDZK7AZ</td>\n",
       "      <td>B00014351Q</td>\n",
       "      <td>[./amazon_data\\luxury/88_0.jpg, ./amazon_data\\...</td>\n",
       "    </tr>\n",
       "    <tr>\n",
       "      <th>104</th>\n",
       "      <td>5.0</td>\n",
       "      <td>A2IV70BWQBUF32</td>\n",
       "      <td>B00014351Q</td>\n",
       "      <td>[./amazon_data\\luxury/104_0.jpg]</td>\n",
       "    </tr>\n",
       "  </tbody>\n",
       "</table>\n",
       "</div>"
      ],
      "text/plain": [
       "     overall      reviewerID        asin  \\\n",
       "68       5.0   A2BHOZILR7SY9  B000142FVW   \n",
       "75       5.0   ACMSQCH1H7JZD  B000142FVW   \n",
       "86       5.0  A2L77YQRAEA1YZ  B000142FVW   \n",
       "88       5.0  A28W77RPDZK7AZ  B00014351Q   \n",
       "104      5.0  A2IV70BWQBUF32  B00014351Q   \n",
       "\n",
       "                                        image_filename  \n",
       "68                     [./amazon_data\\luxury/68_0.jpg]  \n",
       "75                     [./amazon_data\\luxury/75_0.jpg]  \n",
       "86                     [./amazon_data\\luxury/86_0.jpg]  \n",
       "88   [./amazon_data\\luxury/88_0.jpg, ./amazon_data\\...  \n",
       "104                   [./amazon_data\\luxury/104_0.jpg]  "
      ]
     },
     "execution_count": 21,
     "metadata": {},
     "output_type": "execute_result"
    }
   ],
   "source": [
    "luxury_df.head()"
   ]
  },
  {
   "cell_type": "code",
   "execution_count": 22,
   "metadata": {
    "id": "j_xvxzx7XhlZ"
   },
   "outputs": [],
   "source": [
    "data_list = []\n",
    "dataframe_list = [('luxury',luxury_df), ('beauty', beauty_df), ('fashion', fashion_df)]\n",
    "for dataframe in dataframe_list:\n",
    "    category = dataframe[0]\n",
    "    df = dataframe[1]\n",
    "    for index, row in df.iterrows():\n",
    "        for filename in row['image_filename']:\n",
    "            data_tuple = (category, row['overall'], row['reviewerID'], row['asin'], filename)\n",
    "            data_list.append(data_tuple)"
   ]
  },
  {
   "cell_type": "code",
   "execution_count": 23,
   "metadata": {
    "colab": {
     "base_uri": "https://localhost:8080/"
    },
    "executionInfo": {
     "elapsed": 613,
     "status": "ok",
     "timestamp": 1611208235074,
     "user": {
      "displayName": "Jaewon Fastcampus",
      "photoUrl": "",
      "userId": "05122666633107220130"
     },
     "user_tz": -540
    },
    "id": "z4x6AFPJZTYS",
    "outputId": "3a77f3c0-fa9a-43fd-dbe2-0b0b56afccfd"
   },
   "outputs": [],
   "source": [
    "combined_df = pd.DataFrame(data=data_list,columns=['category', 'overall', 'reviewerID', 'asin', 'filename'])"
   ]
  },
  {
   "cell_type": "code",
   "execution_count": 24,
   "metadata": {},
   "outputs": [
    {
     "name": "stdout",
     "output_type": "stream",
     "text": [
      "(1368, 5)\n"
     ]
    },
    {
     "data": {
      "text/html": [
       "<div>\n",
       "<style scoped>\n",
       "    .dataframe tbody tr th:only-of-type {\n",
       "        vertical-align: middle;\n",
       "    }\n",
       "\n",
       "    .dataframe tbody tr th {\n",
       "        vertical-align: top;\n",
       "    }\n",
       "\n",
       "    .dataframe thead th {\n",
       "        text-align: right;\n",
       "    }\n",
       "</style>\n",
       "<table border=\"1\" class=\"dataframe\">\n",
       "  <thead>\n",
       "    <tr style=\"text-align: right;\">\n",
       "      <th></th>\n",
       "      <th>category</th>\n",
       "      <th>overall</th>\n",
       "      <th>reviewerID</th>\n",
       "      <th>asin</th>\n",
       "      <th>filename</th>\n",
       "    </tr>\n",
       "  </thead>\n",
       "  <tbody>\n",
       "    <tr>\n",
       "      <th>0</th>\n",
       "      <td>luxury</td>\n",
       "      <td>5.0</td>\n",
       "      <td>A2BHOZILR7SY9</td>\n",
       "      <td>B000142FVW</td>\n",
       "      <td>./amazon_data\\luxury/68_0.jpg</td>\n",
       "    </tr>\n",
       "    <tr>\n",
       "      <th>1</th>\n",
       "      <td>luxury</td>\n",
       "      <td>5.0</td>\n",
       "      <td>ACMSQCH1H7JZD</td>\n",
       "      <td>B000142FVW</td>\n",
       "      <td>./amazon_data\\luxury/75_0.jpg</td>\n",
       "    </tr>\n",
       "    <tr>\n",
       "      <th>2</th>\n",
       "      <td>luxury</td>\n",
       "      <td>5.0</td>\n",
       "      <td>A2L77YQRAEA1YZ</td>\n",
       "      <td>B000142FVW</td>\n",
       "      <td>./amazon_data\\luxury/86_0.jpg</td>\n",
       "    </tr>\n",
       "    <tr>\n",
       "      <th>3</th>\n",
       "      <td>luxury</td>\n",
       "      <td>5.0</td>\n",
       "      <td>A28W77RPDZK7AZ</td>\n",
       "      <td>B00014351Q</td>\n",
       "      <td>./amazon_data\\luxury/88_0.jpg</td>\n",
       "    </tr>\n",
       "    <tr>\n",
       "      <th>4</th>\n",
       "      <td>luxury</td>\n",
       "      <td>5.0</td>\n",
       "      <td>A28W77RPDZK7AZ</td>\n",
       "      <td>B00014351Q</td>\n",
       "      <td>./amazon_data\\luxury/88_1.jpg</td>\n",
       "    </tr>\n",
       "  </tbody>\n",
       "</table>\n",
       "</div>"
      ],
      "text/plain": [
       "  category  overall      reviewerID        asin                       filename\n",
       "0   luxury      5.0   A2BHOZILR7SY9  B000142FVW  ./amazon_data\\luxury/68_0.jpg\n",
       "1   luxury      5.0   ACMSQCH1H7JZD  B000142FVW  ./amazon_data\\luxury/75_0.jpg\n",
       "2   luxury      5.0  A2L77YQRAEA1YZ  B000142FVW  ./amazon_data\\luxury/86_0.jpg\n",
       "3   luxury      5.0  A28W77RPDZK7AZ  B00014351Q  ./amazon_data\\luxury/88_0.jpg\n",
       "4   luxury      5.0  A28W77RPDZK7AZ  B00014351Q  ./amazon_data\\luxury/88_1.jpg"
      ]
     },
     "execution_count": 24,
     "metadata": {},
     "output_type": "execute_result"
    }
   ],
   "source": [
    "print(combined_df.shape)\n",
    "combined_df.head()"
   ]
  },
  {
   "cell_type": "markdown",
   "metadata": {
    "id": "d1Pou70haf-f"
   },
   "source": [
    "### Get image feature vectors"
   ]
  },
  {
   "cell_type": "code",
   "execution_count": 25,
   "metadata": {
    "id": "RxVLoYYiZbCu"
   },
   "outputs": [],
   "source": [
    "combined_df['image_vec'] = combined_df['filename'].apply(lambda x: get_vector(x))\n",
    "combined_df.to_csv(os.path.join(path, 'image_dataset.csv'), sep='\\t')"
   ]
  },
  {
   "cell_type": "code",
   "execution_count": 26,
   "metadata": {
    "id": "OzLi2_Xzh24q"
   },
   "outputs": [
    {
     "data": {
      "text/html": [
       "<div>\n",
       "<style scoped>\n",
       "    .dataframe tbody tr th:only-of-type {\n",
       "        vertical-align: middle;\n",
       "    }\n",
       "\n",
       "    .dataframe tbody tr th {\n",
       "        vertical-align: top;\n",
       "    }\n",
       "\n",
       "    .dataframe thead th {\n",
       "        text-align: right;\n",
       "    }\n",
       "</style>\n",
       "<table border=\"1\" class=\"dataframe\">\n",
       "  <thead>\n",
       "    <tr style=\"text-align: right;\">\n",
       "      <th></th>\n",
       "      <th>category</th>\n",
       "      <th>overall</th>\n",
       "      <th>reviewerID</th>\n",
       "      <th>asin</th>\n",
       "      <th>filename</th>\n",
       "      <th>image_vec</th>\n",
       "    </tr>\n",
       "  </thead>\n",
       "  <tbody>\n",
       "    <tr>\n",
       "      <th>0</th>\n",
       "      <td>luxury</td>\n",
       "      <td>5.0</td>\n",
       "      <td>A2BHOZILR7SY9</td>\n",
       "      <td>B000142FVW</td>\n",
       "      <td>./amazon_data\\luxury/68_0.jpg</td>\n",
       "      <td>[0.5511113, 0.86447924, 0.101986535, 0.2385793...</td>\n",
       "    </tr>\n",
       "    <tr>\n",
       "      <th>1</th>\n",
       "      <td>luxury</td>\n",
       "      <td>5.0</td>\n",
       "      <td>ACMSQCH1H7JZD</td>\n",
       "      <td>B000142FVW</td>\n",
       "      <td>./amazon_data\\luxury/75_0.jpg</td>\n",
       "      <td>[1.5448722, 1.135253, 0.14166667, 0.29448533, ...</td>\n",
       "    </tr>\n",
       "    <tr>\n",
       "      <th>2</th>\n",
       "      <td>luxury</td>\n",
       "      <td>5.0</td>\n",
       "      <td>A2L77YQRAEA1YZ</td>\n",
       "      <td>B000142FVW</td>\n",
       "      <td>./amazon_data\\luxury/86_0.jpg</td>\n",
       "      <td>[0.9510973, 1.2491927, 0.17508696, 0.63649607,...</td>\n",
       "    </tr>\n",
       "    <tr>\n",
       "      <th>3</th>\n",
       "      <td>luxury</td>\n",
       "      <td>5.0</td>\n",
       "      <td>A28W77RPDZK7AZ</td>\n",
       "      <td>B00014351Q</td>\n",
       "      <td>./amazon_data\\luxury/88_0.jpg</td>\n",
       "      <td>[0.86477274, 0.4211394, 0.17356645, 1.435113, ...</td>\n",
       "    </tr>\n",
       "    <tr>\n",
       "      <th>4</th>\n",
       "      <td>luxury</td>\n",
       "      <td>5.0</td>\n",
       "      <td>A28W77RPDZK7AZ</td>\n",
       "      <td>B00014351Q</td>\n",
       "      <td>./amazon_data\\luxury/88_1.jpg</td>\n",
       "      <td>[1.2491896, 0.44804484, 1.3037115, 1.6371999, ...</td>\n",
       "    </tr>\n",
       "  </tbody>\n",
       "</table>\n",
       "</div>"
      ],
      "text/plain": [
       "  category  overall      reviewerID        asin  \\\n",
       "0   luxury      5.0   A2BHOZILR7SY9  B000142FVW   \n",
       "1   luxury      5.0   ACMSQCH1H7JZD  B000142FVW   \n",
       "2   luxury      5.0  A2L77YQRAEA1YZ  B000142FVW   \n",
       "3   luxury      5.0  A28W77RPDZK7AZ  B00014351Q   \n",
       "4   luxury      5.0  A28W77RPDZK7AZ  B00014351Q   \n",
       "\n",
       "                        filename  \\\n",
       "0  ./amazon_data\\luxury/68_0.jpg   \n",
       "1  ./amazon_data\\luxury/75_0.jpg   \n",
       "2  ./amazon_data\\luxury/86_0.jpg   \n",
       "3  ./amazon_data\\luxury/88_0.jpg   \n",
       "4  ./amazon_data\\luxury/88_1.jpg   \n",
       "\n",
       "                                           image_vec  \n",
       "0  [0.5511113, 0.86447924, 0.101986535, 0.2385793...  \n",
       "1  [1.5448722, 1.135253, 0.14166667, 0.29448533, ...  \n",
       "2  [0.9510973, 1.2491927, 0.17508696, 0.63649607,...  \n",
       "3  [0.86477274, 0.4211394, 0.17356645, 1.435113, ...  \n",
       "4  [1.2491896, 0.44804484, 1.3037115, 1.6371999, ...  "
      ]
     },
     "execution_count": 26,
     "metadata": {},
     "output_type": "execute_result"
    }
   ],
   "source": [
    "combined_df.head()"
   ]
  },
  {
   "cell_type": "markdown",
   "metadata": {
    "id": "DUxEmkb1Qpxl"
   },
   "source": [
    "## K-means clustering"
   ]
  },
  {
   "cell_type": "code",
   "execution_count": 27,
   "metadata": {
    "id": "0WUG151udWd2"
   },
   "outputs": [],
   "source": [
    "from sklearn.model_selection import train_test_split\n",
    "from sklearn.cluster import KMeans\n",
    "import numpy as np"
   ]
  },
  {
   "cell_type": "code",
   "execution_count": 28,
   "metadata": {
    "id": "TAaAb6XFguY3"
   },
   "outputs": [],
   "source": [
    "def check_vector(vector):\n",
    "    return np.array([0.0 if str(x) == '' else float(x) for x in vector])[:512]"
   ]
  },
  {
   "cell_type": "code",
   "execution_count": 29,
   "metadata": {
    "id": "sSAym5hdfi6X"
   },
   "outputs": [],
   "source": [
    "df = pd.read_csv(os.path.join(path, 'image_dataset.csv'), sep='\\t', index_col=0,\n",
    "                 converters={\"image_vec\": lambda x: x.strip(\"[]\").replace('\\n','').split(\" \")})"
   ]
  },
  {
   "cell_type": "code",
   "execution_count": 30,
   "metadata": {
    "colab": {
     "base_uri": "https://localhost:8080/",
     "height": 195
    },
    "executionInfo": {
     "elapsed": 703,
     "status": "ok",
     "timestamp": 1611208877538,
     "user": {
      "displayName": "Jaewon Fastcampus",
      "photoUrl": "",
      "userId": "05122666633107220130"
     },
     "user_tz": -540
    },
    "id": "zb4XffGYgFsh",
    "outputId": "526a8469-f878-4a6d-fbeb-c0f6cdbda8ea"
   },
   "outputs": [
    {
     "data": {
      "text/html": [
       "<div>\n",
       "<style scoped>\n",
       "    .dataframe tbody tr th:only-of-type {\n",
       "        vertical-align: middle;\n",
       "    }\n",
       "\n",
       "    .dataframe tbody tr th {\n",
       "        vertical-align: top;\n",
       "    }\n",
       "\n",
       "    .dataframe thead th {\n",
       "        text-align: right;\n",
       "    }\n",
       "</style>\n",
       "<table border=\"1\" class=\"dataframe\">\n",
       "  <thead>\n",
       "    <tr style=\"text-align: right;\">\n",
       "      <th></th>\n",
       "      <th>category</th>\n",
       "      <th>overall</th>\n",
       "      <th>reviewerID</th>\n",
       "      <th>asin</th>\n",
       "      <th>filename</th>\n",
       "      <th>image_vec</th>\n",
       "    </tr>\n",
       "  </thead>\n",
       "  <tbody>\n",
       "    <tr>\n",
       "      <th>0</th>\n",
       "      <td>luxury</td>\n",
       "      <td>5.0</td>\n",
       "      <td>A2BHOZILR7SY9</td>\n",
       "      <td>B000142FVW</td>\n",
       "      <td>./amazon_data\\luxury/68_0.jpg</td>\n",
       "      <td>[5.51111281e-01, 8.64479244e-01, 1.01986535e-0...</td>\n",
       "    </tr>\n",
       "    <tr>\n",
       "      <th>1</th>\n",
       "      <td>luxury</td>\n",
       "      <td>5.0</td>\n",
       "      <td>ACMSQCH1H7JZD</td>\n",
       "      <td>B000142FVW</td>\n",
       "      <td>./amazon_data\\luxury/75_0.jpg</td>\n",
       "      <td>[1.54487216e+00, 1.13525295e+00, 1.41666666e-0...</td>\n",
       "    </tr>\n",
       "    <tr>\n",
       "      <th>2</th>\n",
       "      <td>luxury</td>\n",
       "      <td>5.0</td>\n",
       "      <td>A2L77YQRAEA1YZ</td>\n",
       "      <td>B000142FVW</td>\n",
       "      <td>./amazon_data\\luxury/86_0.jpg</td>\n",
       "      <td>[9.51097310e-01, 1.24919271e+00, 1.75086960e-0...</td>\n",
       "    </tr>\n",
       "    <tr>\n",
       "      <th>3</th>\n",
       "      <td>luxury</td>\n",
       "      <td>5.0</td>\n",
       "      <td>A28W77RPDZK7AZ</td>\n",
       "      <td>B00014351Q</td>\n",
       "      <td>./amazon_data\\luxury/88_0.jpg</td>\n",
       "      <td>[8.64772737e-01, 4.21139389e-01, 1.73566446e-0...</td>\n",
       "    </tr>\n",
       "    <tr>\n",
       "      <th>4</th>\n",
       "      <td>luxury</td>\n",
       "      <td>5.0</td>\n",
       "      <td>A28W77RPDZK7AZ</td>\n",
       "      <td>B00014351Q</td>\n",
       "      <td>./amazon_data\\luxury/88_1.jpg</td>\n",
       "      <td>[1.24918962e+00, 4.48044837e-01, 1.30371153e+0...</td>\n",
       "    </tr>\n",
       "  </tbody>\n",
       "</table>\n",
       "</div>"
      ],
      "text/plain": [
       "  category  overall      reviewerID        asin  \\\n",
       "0   luxury      5.0   A2BHOZILR7SY9  B000142FVW   \n",
       "1   luxury      5.0   ACMSQCH1H7JZD  B000142FVW   \n",
       "2   luxury      5.0  A2L77YQRAEA1YZ  B000142FVW   \n",
       "3   luxury      5.0  A28W77RPDZK7AZ  B00014351Q   \n",
       "4   luxury      5.0  A28W77RPDZK7AZ  B00014351Q   \n",
       "\n",
       "                        filename  \\\n",
       "0  ./amazon_data\\luxury/68_0.jpg   \n",
       "1  ./amazon_data\\luxury/75_0.jpg   \n",
       "2  ./amazon_data\\luxury/86_0.jpg   \n",
       "3  ./amazon_data\\luxury/88_0.jpg   \n",
       "4  ./amazon_data\\luxury/88_1.jpg   \n",
       "\n",
       "                                           image_vec  \n",
       "0  [5.51111281e-01, 8.64479244e-01, 1.01986535e-0...  \n",
       "1  [1.54487216e+00, 1.13525295e+00, 1.41666666e-0...  \n",
       "2  [9.51097310e-01, 1.24919271e+00, 1.75086960e-0...  \n",
       "3  [8.64772737e-01, 4.21139389e-01, 1.73566446e-0...  \n",
       "4  [1.24918962e+00, 4.48044837e-01, 1.30371153e+0...  "
      ]
     },
     "execution_count": 30,
     "metadata": {},
     "output_type": "execute_result"
    }
   ],
   "source": [
    "df.head()"
   ]
  },
  {
   "cell_type": "code",
   "execution_count": 31,
   "metadata": {
    "id": "Y--oAq4mgevm"
   },
   "outputs": [],
   "source": [
    "df['image_vec'] = df['image_vec'].apply(lambda x: check_vector(x))"
   ]
  },
  {
   "cell_type": "code",
   "execution_count": 32,
   "metadata": {
    "colab": {
     "base_uri": "https://localhost:8080/",
     "height": 195
    },
    "executionInfo": {
     "elapsed": 579,
     "status": "ok",
     "timestamp": 1611208886957,
     "user": {
      "displayName": "Jaewon Fastcampus",
      "photoUrl": "",
      "userId": "05122666633107220130"
     },
     "user_tz": -540
    },
    "id": "zBKtn4NXfqQ5",
    "outputId": "89a1ffa1-12f9-455e-c794-f467be00d8d4"
   },
   "outputs": [
    {
     "data": {
      "text/html": [
       "<div>\n",
       "<style scoped>\n",
       "    .dataframe tbody tr th:only-of-type {\n",
       "        vertical-align: middle;\n",
       "    }\n",
       "\n",
       "    .dataframe tbody tr th {\n",
       "        vertical-align: top;\n",
       "    }\n",
       "\n",
       "    .dataframe thead th {\n",
       "        text-align: right;\n",
       "    }\n",
       "</style>\n",
       "<table border=\"1\" class=\"dataframe\">\n",
       "  <thead>\n",
       "    <tr style=\"text-align: right;\">\n",
       "      <th></th>\n",
       "      <th>category</th>\n",
       "      <th>overall</th>\n",
       "      <th>reviewerID</th>\n",
       "      <th>asin</th>\n",
       "      <th>filename</th>\n",
       "      <th>image_vec</th>\n",
       "    </tr>\n",
       "  </thead>\n",
       "  <tbody>\n",
       "    <tr>\n",
       "      <th>0</th>\n",
       "      <td>luxury</td>\n",
       "      <td>5.0</td>\n",
       "      <td>A2BHOZILR7SY9</td>\n",
       "      <td>B000142FVW</td>\n",
       "      <td>./amazon_data\\luxury/68_0.jpg</td>\n",
       "      <td>[0.551111281, 0.864479244, 0.101986535, 0.2385...</td>\n",
       "    </tr>\n",
       "    <tr>\n",
       "      <th>1</th>\n",
       "      <td>luxury</td>\n",
       "      <td>5.0</td>\n",
       "      <td>ACMSQCH1H7JZD</td>\n",
       "      <td>B000142FVW</td>\n",
       "      <td>./amazon_data\\luxury/75_0.jpg</td>\n",
       "      <td>[1.54487216, 1.13525295, 0.141666666, 0.294485...</td>\n",
       "    </tr>\n",
       "    <tr>\n",
       "      <th>2</th>\n",
       "      <td>luxury</td>\n",
       "      <td>5.0</td>\n",
       "      <td>A2L77YQRAEA1YZ</td>\n",
       "      <td>B000142FVW</td>\n",
       "      <td>./amazon_data\\luxury/86_0.jpg</td>\n",
       "      <td>[0.95109731, 1.24919271, 0.17508696, 0.6364960...</td>\n",
       "    </tr>\n",
       "    <tr>\n",
       "      <th>3</th>\n",
       "      <td>luxury</td>\n",
       "      <td>5.0</td>\n",
       "      <td>A28W77RPDZK7AZ</td>\n",
       "      <td>B00014351Q</td>\n",
       "      <td>./amazon_data\\luxury/88_0.jpg</td>\n",
       "      <td>[0.864772737, 0.421139389, 0.173566446, 1.4351...</td>\n",
       "    </tr>\n",
       "    <tr>\n",
       "      <th>4</th>\n",
       "      <td>luxury</td>\n",
       "      <td>5.0</td>\n",
       "      <td>A28W77RPDZK7AZ</td>\n",
       "      <td>B00014351Q</td>\n",
       "      <td>./amazon_data\\luxury/88_1.jpg</td>\n",
       "      <td>[1.24918962, 0.448044837, 1.30371153, 1.637199...</td>\n",
       "    </tr>\n",
       "  </tbody>\n",
       "</table>\n",
       "</div>"
      ],
      "text/plain": [
       "  category  overall      reviewerID        asin  \\\n",
       "0   luxury      5.0   A2BHOZILR7SY9  B000142FVW   \n",
       "1   luxury      5.0   ACMSQCH1H7JZD  B000142FVW   \n",
       "2   luxury      5.0  A2L77YQRAEA1YZ  B000142FVW   \n",
       "3   luxury      5.0  A28W77RPDZK7AZ  B00014351Q   \n",
       "4   luxury      5.0  A28W77RPDZK7AZ  B00014351Q   \n",
       "\n",
       "                        filename  \\\n",
       "0  ./amazon_data\\luxury/68_0.jpg   \n",
       "1  ./amazon_data\\luxury/75_0.jpg   \n",
       "2  ./amazon_data\\luxury/86_0.jpg   \n",
       "3  ./amazon_data\\luxury/88_0.jpg   \n",
       "4  ./amazon_data\\luxury/88_1.jpg   \n",
       "\n",
       "                                           image_vec  \n",
       "0  [0.551111281, 0.864479244, 0.101986535, 0.2385...  \n",
       "1  [1.54487216, 1.13525295, 0.141666666, 0.294485...  \n",
       "2  [0.95109731, 1.24919271, 0.17508696, 0.6364960...  \n",
       "3  [0.864772737, 0.421139389, 0.173566446, 1.4351...  \n",
       "4  [1.24918962, 0.448044837, 1.30371153, 1.637199...  "
      ]
     },
     "execution_count": 32,
     "metadata": {},
     "output_type": "execute_result"
    }
   ],
   "source": [
    "df.head()"
   ]
  },
  {
   "cell_type": "code",
   "execution_count": 33,
   "metadata": {
    "colab": {
     "base_uri": "https://localhost:8080/"
    },
    "executionInfo": {
     "elapsed": 582,
     "status": "ok",
     "timestamp": 1611208897030,
     "user": {
      "displayName": "Jaewon Fastcampus",
      "photoUrl": "",
      "userId": "05122666633107220130"
     },
     "user_tz": -540
    },
    "id": "xyC8DkjZRQM_",
    "outputId": "061aa505-4db0-4830-8bc6-3a3648824131"
   },
   "outputs": [
    {
     "name": "stdout",
     "output_type": "stream",
     "text": [
      "(1094, 6)\n",
      "(274, 6)\n"
     ]
    }
   ],
   "source": [
    "train_df, test_df = train_test_split(df, test_size=0.2, random_state=1234)\n",
    "print(train_df.shape)\n",
    "print(test_df.shape)"
   ]
  },
  {
   "cell_type": "code",
   "execution_count": 34,
   "metadata": {
    "id": "DhVBXd01dqqB"
   },
   "outputs": [],
   "source": [
    "X_train = np.array([list(x) for x in train_df['image_vec'].values])"
   ]
  },
  {
   "cell_type": "code",
   "execution_count": 35,
   "metadata": {
    "colab": {
     "base_uri": "https://localhost:8080/"
    },
    "executionInfo": {
     "elapsed": 591,
     "status": "ok",
     "timestamp": 1611208906444,
     "user": {
      "displayName": "Jaewon Fastcampus",
      "photoUrl": "",
      "userId": "05122666633107220130"
     },
     "user_tz": -540
    },
    "id": "J2DPJzL7mjRW",
    "outputId": "7b371e1d-56e5-4dcb-9454-83900e7e2ede"
   },
   "outputs": [
    {
     "data": {
      "text/plain": [
       "array([[0.77896273, 0.42345819, 0.40614778, ..., 0.3404167 , 0.75824237,\n",
       "        0.12758844],\n",
       "       [0.18728934, 0.81857044, 0.43446231, ..., 0.1557987 , 0.25018808,\n",
       "        1.37156463],\n",
       "       [0.03194912, 1.10710597, 0.90613908, ..., 0.03438348, 0.09282351,\n",
       "        2.05421495]])"
      ]
     },
     "execution_count": 35,
     "metadata": {},
     "output_type": "execute_result"
    }
   ],
   "source": [
    "X_train[:3]"
   ]
  },
  {
   "cell_type": "code",
   "execution_count": 36,
   "metadata": {
    "id": "_XqKeJ6Ldu93"
   },
   "outputs": [],
   "source": [
    "kmeans = KMeans(n_clusters=3, random_state=0).fit(X_train)"
   ]
  },
  {
   "cell_type": "code",
   "execution_count": 37,
   "metadata": {
    "colab": {
     "base_uri": "https://localhost:8080/"
    },
    "executionInfo": {
     "elapsed": 844,
     "status": "ok",
     "timestamp": 1611208944858,
     "user": {
      "displayName": "Jaewon Fastcampus",
      "photoUrl": "",
      "userId": "05122666633107220130"
     },
     "user_tz": -540
    },
    "id": "eLLfiqTOm6to",
    "outputId": "e2932793-4652-4179-9467-ce53e3dd11f8"
   },
   "outputs": [
    {
     "data": {
      "text/plain": [
       "array([2, 1, 0, ..., 2, 1, 2])"
      ]
     },
     "execution_count": 37,
     "metadata": {},
     "output_type": "execute_result"
    }
   ],
   "source": [
    "kmeans.labels_"
   ]
  },
  {
   "cell_type": "code",
   "execution_count": 38,
   "metadata": {
    "id": "Hf_39iJ7nUFD"
   },
   "outputs": [
    {
     "data": {
      "text/html": [
       "<div>\n",
       "<style scoped>\n",
       "    .dataframe tbody tr th:only-of-type {\n",
       "        vertical-align: middle;\n",
       "    }\n",
       "\n",
       "    .dataframe tbody tr th {\n",
       "        vertical-align: top;\n",
       "    }\n",
       "\n",
       "    .dataframe thead th {\n",
       "        text-align: right;\n",
       "    }\n",
       "</style>\n",
       "<table border=\"1\" class=\"dataframe\">\n",
       "  <thead>\n",
       "    <tr style=\"text-align: right;\">\n",
       "      <th></th>\n",
       "      <th>category</th>\n",
       "      <th>overall</th>\n",
       "      <th>reviewerID</th>\n",
       "      <th>asin</th>\n",
       "      <th>filename</th>\n",
       "      <th>image_vec</th>\n",
       "    </tr>\n",
       "  </thead>\n",
       "  <tbody>\n",
       "    <tr>\n",
       "      <th>266</th>\n",
       "      <td>luxury</td>\n",
       "      <td>5.0</td>\n",
       "      <td>A24YNYNC6QJNBN</td>\n",
       "      <td>B002B4540O</td>\n",
       "      <td>./amazon_data\\luxury/13577_2.jpg</td>\n",
       "      <td>[0.854530513, 1.85690045, 1.03045952, 0.185951...</td>\n",
       "    </tr>\n",
       "    <tr>\n",
       "      <th>1088</th>\n",
       "      <td>beauty</td>\n",
       "      <td>5.0</td>\n",
       "      <td>A245UNW3PI53NG</td>\n",
       "      <td>B0009RF9DW</td>\n",
       "      <td>./amazon_data\\beauty/496_0.jpg</td>\n",
       "      <td>[1.13625371, 0.0897669867, 0.442607284, 1.3276...</td>\n",
       "    </tr>\n",
       "    <tr>\n",
       "      <th>488</th>\n",
       "      <td>luxury</td>\n",
       "      <td>4.0</td>\n",
       "      <td>A25QBCHO0KFT0P</td>\n",
       "      <td>B00B95PWYE</td>\n",
       "      <td>./amazon_data\\luxury/21446_4.jpg</td>\n",
       "      <td>[0.0355344117, 1.64337778, 0.0617780983, 0.030...</td>\n",
       "    </tr>\n",
       "    <tr>\n",
       "      <th>1087</th>\n",
       "      <td>beauty</td>\n",
       "      <td>5.0</td>\n",
       "      <td>A85ENSL5HBBZF</td>\n",
       "      <td>B0009RF9DW</td>\n",
       "      <td>./amazon_data\\beauty/495_0.jpg</td>\n",
       "      <td>[0.909579039, 0.423226923, 1.81325483, 0.23797...</td>\n",
       "    </tr>\n",
       "    <tr>\n",
       "      <th>1152</th>\n",
       "      <td>beauty</td>\n",
       "      <td>4.0</td>\n",
       "      <td>A25QBCHO0KFT0P</td>\n",
       "      <td>B0010ZBORW</td>\n",
       "      <td>./amazon_data\\beauty/3194_0.jpg</td>\n",
       "      <td>[1.35672057, 0.251046032, 1.97370028, 0.212662...</td>\n",
       "    </tr>\n",
       "  </tbody>\n",
       "</table>\n",
       "</div>"
      ],
      "text/plain": [
       "     category  overall      reviewerID        asin  \\\n",
       "266    luxury      5.0  A24YNYNC6QJNBN  B002B4540O   \n",
       "1088   beauty      5.0  A245UNW3PI53NG  B0009RF9DW   \n",
       "488    luxury      4.0  A25QBCHO0KFT0P  B00B95PWYE   \n",
       "1087   beauty      5.0   A85ENSL5HBBZF  B0009RF9DW   \n",
       "1152   beauty      4.0  A25QBCHO0KFT0P  B0010ZBORW   \n",
       "\n",
       "                              filename  \\\n",
       "266   ./amazon_data\\luxury/13577_2.jpg   \n",
       "1088    ./amazon_data\\beauty/496_0.jpg   \n",
       "488   ./amazon_data\\luxury/21446_4.jpg   \n",
       "1087    ./amazon_data\\beauty/495_0.jpg   \n",
       "1152   ./amazon_data\\beauty/3194_0.jpg   \n",
       "\n",
       "                                              image_vec  \n",
       "266   [0.854530513, 1.85690045, 1.03045952, 0.185951...  \n",
       "1088  [1.13625371, 0.0897669867, 0.442607284, 1.3276...  \n",
       "488   [0.0355344117, 1.64337778, 0.0617780983, 0.030...  \n",
       "1087  [0.909579039, 0.423226923, 1.81325483, 0.23797...  \n",
       "1152  [1.35672057, 0.251046032, 1.97370028, 0.212662...  "
      ]
     },
     "execution_count": 38,
     "metadata": {},
     "output_type": "execute_result"
    }
   ],
   "source": [
    "test_df.head()"
   ]
  },
  {
   "cell_type": "markdown",
   "metadata": {
    "id": "TNJjMDWrr0uf"
   },
   "source": [
    "### Evaluation"
   ]
  },
  {
   "cell_type": "code",
   "execution_count": 39,
   "metadata": {
    "colab": {
     "base_uri": "https://localhost:8080/",
     "height": 400
    },
    "executionInfo": {
     "elapsed": 578,
     "status": "ok",
     "timestamp": 1611208971256,
     "user": {
      "displayName": "Jaewon Fastcampus",
      "photoUrl": "",
      "userId": "05122666633107220130"
     },
     "user_tz": -540
    },
    "id": "kNI_4S0RnEdL",
    "outputId": "7eb270f8-0638-493b-e5be-c0b8e94eaf89"
   },
   "outputs": [
    {
     "data": {
      "text/html": [
       "<div>\n",
       "<style scoped>\n",
       "    .dataframe tbody tr th:only-of-type {\n",
       "        vertical-align: middle;\n",
       "    }\n",
       "\n",
       "    .dataframe tbody tr th {\n",
       "        vertical-align: top;\n",
       "    }\n",
       "\n",
       "    .dataframe thead th {\n",
       "        text-align: right;\n",
       "    }\n",
       "</style>\n",
       "<table border=\"1\" class=\"dataframe\">\n",
       "  <thead>\n",
       "    <tr style=\"text-align: right;\">\n",
       "      <th></th>\n",
       "      <th>category</th>\n",
       "      <th>overall</th>\n",
       "      <th>reviewerID</th>\n",
       "      <th>asin</th>\n",
       "      <th>filename</th>\n",
       "      <th>image_vec</th>\n",
       "      <th>prediction</th>\n",
       "    </tr>\n",
       "  </thead>\n",
       "  <tbody>\n",
       "    <tr>\n",
       "      <th>266</th>\n",
       "      <td>luxury</td>\n",
       "      <td>5.0</td>\n",
       "      <td>A24YNYNC6QJNBN</td>\n",
       "      <td>B002B4540O</td>\n",
       "      <td>./amazon_data\\luxury/13577_2.jpg</td>\n",
       "      <td>[0.854530513, 1.85690045, 1.03045952, 0.185951...</td>\n",
       "      <td>1</td>\n",
       "    </tr>\n",
       "    <tr>\n",
       "      <th>1088</th>\n",
       "      <td>beauty</td>\n",
       "      <td>5.0</td>\n",
       "      <td>A245UNW3PI53NG</td>\n",
       "      <td>B0009RF9DW</td>\n",
       "      <td>./amazon_data\\beauty/496_0.jpg</td>\n",
       "      <td>[1.13625371, 0.0897669867, 0.442607284, 1.3276...</td>\n",
       "      <td>1</td>\n",
       "    </tr>\n",
       "    <tr>\n",
       "      <th>488</th>\n",
       "      <td>luxury</td>\n",
       "      <td>4.0</td>\n",
       "      <td>A25QBCHO0KFT0P</td>\n",
       "      <td>B00B95PWYE</td>\n",
       "      <td>./amazon_data\\luxury/21446_4.jpg</td>\n",
       "      <td>[0.0355344117, 1.64337778, 0.0617780983, 0.030...</td>\n",
       "      <td>0</td>\n",
       "    </tr>\n",
       "    <tr>\n",
       "      <th>1087</th>\n",
       "      <td>beauty</td>\n",
       "      <td>5.0</td>\n",
       "      <td>A85ENSL5HBBZF</td>\n",
       "      <td>B0009RF9DW</td>\n",
       "      <td>./amazon_data\\beauty/495_0.jpg</td>\n",
       "      <td>[0.909579039, 0.423226923, 1.81325483, 0.23797...</td>\n",
       "      <td>1</td>\n",
       "    </tr>\n",
       "    <tr>\n",
       "      <th>1152</th>\n",
       "      <td>beauty</td>\n",
       "      <td>4.0</td>\n",
       "      <td>A25QBCHO0KFT0P</td>\n",
       "      <td>B0010ZBORW</td>\n",
       "      <td>./amazon_data\\beauty/3194_0.jpg</td>\n",
       "      <td>[1.35672057, 0.251046032, 1.97370028, 0.212662...</td>\n",
       "      <td>2</td>\n",
       "    </tr>\n",
       "  </tbody>\n",
       "</table>\n",
       "</div>"
      ],
      "text/plain": [
       "     category  overall      reviewerID        asin  \\\n",
       "266    luxury      5.0  A24YNYNC6QJNBN  B002B4540O   \n",
       "1088   beauty      5.0  A245UNW3PI53NG  B0009RF9DW   \n",
       "488    luxury      4.0  A25QBCHO0KFT0P  B00B95PWYE   \n",
       "1087   beauty      5.0   A85ENSL5HBBZF  B0009RF9DW   \n",
       "1152   beauty      4.0  A25QBCHO0KFT0P  B0010ZBORW   \n",
       "\n",
       "                              filename  \\\n",
       "266   ./amazon_data\\luxury/13577_2.jpg   \n",
       "1088    ./amazon_data\\beauty/496_0.jpg   \n",
       "488   ./amazon_data\\luxury/21446_4.jpg   \n",
       "1087    ./amazon_data\\beauty/495_0.jpg   \n",
       "1152   ./amazon_data\\beauty/3194_0.jpg   \n",
       "\n",
       "                                              image_vec  prediction  \n",
       "266   [0.854530513, 1.85690045, 1.03045952, 0.185951...           1  \n",
       "1088  [1.13625371, 0.0897669867, 0.442607284, 1.3276...           1  \n",
       "488   [0.0355344117, 1.64337778, 0.0617780983, 0.030...           0  \n",
       "1087  [0.909579039, 0.423226923, 1.81325483, 0.23797...           1  \n",
       "1152  [1.35672057, 0.251046032, 1.97370028, 0.212662...           2  "
      ]
     },
     "execution_count": 39,
     "metadata": {},
     "output_type": "execute_result"
    }
   ],
   "source": [
    "# kmeans.predict([test_df['image_vec'].iloc[0]])\n",
    "test_df['prediction'] = test_df['image_vec'].apply(lambda x: kmeans.predict([x])[0])\n",
    "test_df.head()"
   ]
  },
  {
   "cell_type": "code",
   "execution_count": 40,
   "metadata": {
    "colab": {
     "base_uri": "https://localhost:8080/"
    },
    "executionInfo": {
     "elapsed": 554,
     "status": "ok",
     "timestamp": 1611209003886,
     "user": {
      "displayName": "Jaewon Fastcampus",
      "photoUrl": "",
      "userId": "05122666633107220130"
     },
     "user_tz": -540
    },
    "id": "AWQZqQj6nrCL",
    "outputId": "b51e808d-0dc2-4f5c-f0d2-9ca4f23b3823"
   },
   "outputs": [
    {
     "data": {
      "text/plain": [
       "category\n",
       "beauty      35\n",
       "fashion     28\n",
       "luxury     211\n",
       "Name: prediction, dtype: int64"
      ]
     },
     "execution_count": 40,
     "metadata": {},
     "output_type": "execute_result"
    }
   ],
   "source": [
    "test_df.groupby('category')['prediction'].count()"
   ]
  },
  {
   "cell_type": "code",
   "execution_count": 41,
   "metadata": {
    "colab": {
     "base_uri": "https://localhost:8080/",
     "height": 166
    },
    "executionInfo": {
     "elapsed": 614,
     "status": "ok",
     "timestamp": 1611209037185,
     "user": {
      "displayName": "Jaewon Fastcampus",
      "photoUrl": "",
      "userId": "05122666633107220130"
     },
     "user_tz": -540
    },
    "id": "t6AtolXnipvM",
    "outputId": "e9bc39dd-8c65-43d2-e005-5d465ebe966a"
   },
   "outputs": [
    {
     "data": {
      "text/html": [
       "<div>\n",
       "<style scoped>\n",
       "    .dataframe tbody tr th:only-of-type {\n",
       "        vertical-align: middle;\n",
       "    }\n",
       "\n",
       "    .dataframe tbody tr th {\n",
       "        vertical-align: top;\n",
       "    }\n",
       "\n",
       "    .dataframe thead th {\n",
       "        text-align: right;\n",
       "    }\n",
       "</style>\n",
       "<table border=\"1\" class=\"dataframe\">\n",
       "  <thead>\n",
       "    <tr style=\"text-align: right;\">\n",
       "      <th></th>\n",
       "      <th>overall</th>\n",
       "      <th>reviewerID</th>\n",
       "      <th>asin</th>\n",
       "      <th>filename</th>\n",
       "      <th>image_vec</th>\n",
       "      <th>prediction</th>\n",
       "    </tr>\n",
       "    <tr>\n",
       "      <th>category</th>\n",
       "      <th></th>\n",
       "      <th></th>\n",
       "      <th></th>\n",
       "      <th></th>\n",
       "      <th></th>\n",
       "      <th></th>\n",
       "    </tr>\n",
       "  </thead>\n",
       "  <tbody>\n",
       "    <tr>\n",
       "      <th>beauty</th>\n",
       "      <td>35</td>\n",
       "      <td>35</td>\n",
       "      <td>35</td>\n",
       "      <td>35</td>\n",
       "      <td>35</td>\n",
       "      <td>35</td>\n",
       "    </tr>\n",
       "    <tr>\n",
       "      <th>fashion</th>\n",
       "      <td>28</td>\n",
       "      <td>28</td>\n",
       "      <td>28</td>\n",
       "      <td>28</td>\n",
       "      <td>28</td>\n",
       "      <td>28</td>\n",
       "    </tr>\n",
       "    <tr>\n",
       "      <th>luxury</th>\n",
       "      <td>211</td>\n",
       "      <td>211</td>\n",
       "      <td>211</td>\n",
       "      <td>211</td>\n",
       "      <td>211</td>\n",
       "      <td>211</td>\n",
       "    </tr>\n",
       "  </tbody>\n",
       "</table>\n",
       "</div>"
      ],
      "text/plain": [
       "          overall  reviewerID  asin  filename  image_vec  prediction\n",
       "category                                                            \n",
       "beauty         35          35    35        35         35          35\n",
       "fashion        28          28    28        28         28          28\n",
       "luxury        211         211   211       211        211         211"
      ]
     },
     "execution_count": 41,
     "metadata": {},
     "output_type": "execute_result"
    }
   ],
   "source": [
    "test_df.groupby('category').count()"
   ]
  },
  {
   "cell_type": "code",
   "execution_count": 42,
   "metadata": {
    "colab": {
     "base_uri": "https://localhost:8080/",
     "height": 166
    },
    "executionInfo": {
     "elapsed": 609,
     "status": "ok",
     "timestamp": 1611209065048,
     "user": {
      "displayName": "Jaewon Fastcampus",
      "photoUrl": "",
      "userId": "05122666633107220130"
     },
     "user_tz": -540
    },
    "id": "uxwn3mOpixWz",
    "outputId": "313e3216-d5e8-40aa-a71e-acede4c5e806"
   },
   "outputs": [
    {
     "data": {
      "text/html": [
       "<div>\n",
       "<style scoped>\n",
       "    .dataframe tbody tr th:only-of-type {\n",
       "        vertical-align: middle;\n",
       "    }\n",
       "\n",
       "    .dataframe tbody tr th {\n",
       "        vertical-align: top;\n",
       "    }\n",
       "\n",
       "    .dataframe thead th {\n",
       "        text-align: right;\n",
       "    }\n",
       "</style>\n",
       "<table border=\"1\" class=\"dataframe\">\n",
       "  <thead>\n",
       "    <tr style=\"text-align: right;\">\n",
       "      <th></th>\n",
       "      <th>category</th>\n",
       "      <th>overall</th>\n",
       "      <th>reviewerID</th>\n",
       "      <th>asin</th>\n",
       "      <th>filename</th>\n",
       "      <th>image_vec</th>\n",
       "    </tr>\n",
       "    <tr>\n",
       "      <th>prediction</th>\n",
       "      <th></th>\n",
       "      <th></th>\n",
       "      <th></th>\n",
       "      <th></th>\n",
       "      <th></th>\n",
       "      <th></th>\n",
       "    </tr>\n",
       "  </thead>\n",
       "  <tbody>\n",
       "    <tr>\n",
       "      <th>0</th>\n",
       "      <td>91</td>\n",
       "      <td>91</td>\n",
       "      <td>91</td>\n",
       "      <td>91</td>\n",
       "      <td>91</td>\n",
       "      <td>91</td>\n",
       "    </tr>\n",
       "    <tr>\n",
       "      <th>1</th>\n",
       "      <td>101</td>\n",
       "      <td>101</td>\n",
       "      <td>101</td>\n",
       "      <td>101</td>\n",
       "      <td>101</td>\n",
       "      <td>101</td>\n",
       "    </tr>\n",
       "    <tr>\n",
       "      <th>2</th>\n",
       "      <td>82</td>\n",
       "      <td>82</td>\n",
       "      <td>82</td>\n",
       "      <td>82</td>\n",
       "      <td>82</td>\n",
       "      <td>82</td>\n",
       "    </tr>\n",
       "  </tbody>\n",
       "</table>\n",
       "</div>"
      ],
      "text/plain": [
       "            category  overall  reviewerID  asin  filename  image_vec\n",
       "prediction                                                          \n",
       "0                 91       91          91    91        91         91\n",
       "1                101      101         101   101       101        101\n",
       "2                 82       82          82    82        82         82"
      ]
     },
     "execution_count": 42,
     "metadata": {},
     "output_type": "execute_result"
    }
   ],
   "source": [
    "test_df.groupby('prediction').count()"
   ]
  },
  {
   "cell_type": "code",
   "execution_count": 43,
   "metadata": {
    "colab": {
     "base_uri": "https://localhost:8080/"
    },
    "executionInfo": {
     "elapsed": 789,
     "status": "ok",
     "timestamp": 1611209162920,
     "user": {
      "displayName": "Jaewon Fastcampus",
      "photoUrl": "",
      "userId": "05122666633107220130"
     },
     "user_tz": -540
    },
    "id": "CiV1AzyTrKMg",
    "outputId": "93104b1a-444c-4290-b628-8753103c7011"
   },
   "outputs": [
    {
     "name": "stdout",
     "output_type": "stream",
     "text": [
      "(71, 7)\n",
      "(73, 7)\n",
      "(67, 7)\n"
     ]
    }
   ],
   "source": [
    "print(test_df[(test_df.prediction == 0) & (test_df.category == 'luxury')].shape)\n",
    "print(test_df[(test_df.prediction == 1) & (test_df.category == 'luxury')].shape)\n",
    "print(test_df[(test_df.prediction == 2) & (test_df.category == 'luxury')].shape)"
   ]
  },
  {
   "cell_type": "markdown",
   "metadata": {
    "id": "BlzXSkfOss5r"
   },
   "source": [
    "## K-Nearest Neighbors"
   ]
  },
  {
   "cell_type": "code",
   "execution_count": 44,
   "metadata": {
    "id": "2RI96jlBsxlZ"
   },
   "outputs": [],
   "source": [
    "from sklearn.neighbors import KNeighborsClassifier"
   ]
  },
  {
   "cell_type": "code",
   "execution_count": 45,
   "metadata": {
    "id": "hk9Xd3o8sytw"
   },
   "outputs": [],
   "source": [
    "neigh = KNeighborsClassifier(n_neighbors=3)"
   ]
  },
  {
   "cell_type": "markdown",
   "metadata": {
    "id": "rHMPCLoVtWBg"
   },
   "source": [
    "- `category`가 아닌 `overall`로 간단하게 평점 예측하기"
   ]
  },
  {
   "cell_type": "code",
   "execution_count": 46,
   "metadata": {
    "colab": {
     "base_uri": "https://localhost:8080/"
    },
    "executionInfo": {
     "elapsed": 650,
     "status": "ok",
     "timestamp": 1611209229722,
     "user": {
      "displayName": "Jaewon Fastcampus",
      "photoUrl": "",
      "userId": "05122666633107220130"
     },
     "user_tz": -540
    },
    "id": "Y2Wb7AFAs0Ae",
    "outputId": "70959e8e-540b-42c2-9e0a-25a74c762aee"
   },
   "outputs": [
    {
     "data": {
      "text/plain": [
       "array([4., 4., 5., ..., 5., 4., 5.])"
      ]
     },
     "execution_count": 46,
     "metadata": {},
     "output_type": "execute_result"
    }
   ],
   "source": [
    "y_train = train_df['overall'].values\n",
    "y_train"
   ]
  },
  {
   "cell_type": "code",
   "execution_count": 47,
   "metadata": {
    "colab": {
     "base_uri": "https://localhost:8080/"
    },
    "executionInfo": {
     "elapsed": 614,
     "status": "ok",
     "timestamp": 1611209246563,
     "user": {
      "displayName": "Jaewon Fastcampus",
      "photoUrl": "",
      "userId": "05122666633107220130"
     },
     "user_tz": -540
    },
    "id": "lKRgLs7Bs4-o",
    "outputId": "712c85db-9346-45dd-c544-f025c90fd999"
   },
   "outputs": [
    {
     "data": {
      "text/plain": [
       "KNeighborsClassifier(n_neighbors=3)"
      ]
     },
     "execution_count": 47,
     "metadata": {},
     "output_type": "execute_result"
    }
   ],
   "source": [
    "neigh.fit(X_train, y_train)"
   ]
  },
  {
   "cell_type": "code",
   "execution_count": 48,
   "metadata": {
    "colab": {
     "base_uri": "https://localhost:8080/"
    },
    "executionInfo": {
     "elapsed": 844,
     "status": "ok",
     "timestamp": 1611209251187,
     "user": {
      "displayName": "Jaewon Fastcampus",
      "photoUrl": "",
      "userId": "05122666633107220130"
     },
     "user_tz": -540
    },
    "id": "DXVMzE_7s8lW",
    "outputId": "0db1f5bc-e444-422a-e248-3e4907ff4bc5"
   },
   "outputs": [],
   "source": [
    "test_df['prediction'] = test_df['image_vec'].apply(lambda x: neigh.predict([x])[0])"
   ]
  },
  {
   "cell_type": "code",
   "execution_count": 49,
   "metadata": {
    "colab": {
     "base_uri": "https://localhost:8080/",
     "height": 279
    },
    "executionInfo": {
     "elapsed": 566,
     "status": "ok",
     "timestamp": 1611209259591,
     "user": {
      "displayName": "Jaewon Fastcampus",
      "photoUrl": "",
      "userId": "05122666633107220130"
     },
     "user_tz": -540
    },
    "id": "oj6XQgm9tJTm",
    "outputId": "75eb973f-2472-4915-a2b8-24ddb19e7ae0"
   },
   "outputs": [
    {
     "data": {
      "text/html": [
       "<div>\n",
       "<style scoped>\n",
       "    .dataframe tbody tr th:only-of-type {\n",
       "        vertical-align: middle;\n",
       "    }\n",
       "\n",
       "    .dataframe tbody tr th {\n",
       "        vertical-align: top;\n",
       "    }\n",
       "\n",
       "    .dataframe thead th {\n",
       "        text-align: right;\n",
       "    }\n",
       "</style>\n",
       "<table border=\"1\" class=\"dataframe\">\n",
       "  <thead>\n",
       "    <tr style=\"text-align: right;\">\n",
       "      <th></th>\n",
       "      <th>category</th>\n",
       "      <th>overall</th>\n",
       "      <th>reviewerID</th>\n",
       "      <th>asin</th>\n",
       "      <th>filename</th>\n",
       "      <th>image_vec</th>\n",
       "      <th>prediction</th>\n",
       "    </tr>\n",
       "  </thead>\n",
       "  <tbody>\n",
       "    <tr>\n",
       "      <th>266</th>\n",
       "      <td>luxury</td>\n",
       "      <td>5.0</td>\n",
       "      <td>A24YNYNC6QJNBN</td>\n",
       "      <td>B002B4540O</td>\n",
       "      <td>./amazon_data\\luxury/13577_2.jpg</td>\n",
       "      <td>[0.854530513, 1.85690045, 1.03045952, 0.185951...</td>\n",
       "      <td>5.0</td>\n",
       "    </tr>\n",
       "    <tr>\n",
       "      <th>1088</th>\n",
       "      <td>beauty</td>\n",
       "      <td>5.0</td>\n",
       "      <td>A245UNW3PI53NG</td>\n",
       "      <td>B0009RF9DW</td>\n",
       "      <td>./amazon_data\\beauty/496_0.jpg</td>\n",
       "      <td>[1.13625371, 0.0897669867, 0.442607284, 1.3276...</td>\n",
       "      <td>5.0</td>\n",
       "    </tr>\n",
       "    <tr>\n",
       "      <th>488</th>\n",
       "      <td>luxury</td>\n",
       "      <td>4.0</td>\n",
       "      <td>A25QBCHO0KFT0P</td>\n",
       "      <td>B00B95PWYE</td>\n",
       "      <td>./amazon_data\\luxury/21446_4.jpg</td>\n",
       "      <td>[0.0355344117, 1.64337778, 0.0617780983, 0.030...</td>\n",
       "      <td>4.0</td>\n",
       "    </tr>\n",
       "    <tr>\n",
       "      <th>1087</th>\n",
       "      <td>beauty</td>\n",
       "      <td>5.0</td>\n",
       "      <td>A85ENSL5HBBZF</td>\n",
       "      <td>B0009RF9DW</td>\n",
       "      <td>./amazon_data\\beauty/495_0.jpg</td>\n",
       "      <td>[0.909579039, 0.423226923, 1.81325483, 0.23797...</td>\n",
       "      <td>5.0</td>\n",
       "    </tr>\n",
       "    <tr>\n",
       "      <th>1152</th>\n",
       "      <td>beauty</td>\n",
       "      <td>4.0</td>\n",
       "      <td>A25QBCHO0KFT0P</td>\n",
       "      <td>B0010ZBORW</td>\n",
       "      <td>./amazon_data\\beauty/3194_0.jpg</td>\n",
       "      <td>[1.35672057, 0.251046032, 1.97370028, 0.212662...</td>\n",
       "      <td>4.0</td>\n",
       "    </tr>\n",
       "  </tbody>\n",
       "</table>\n",
       "</div>"
      ],
      "text/plain": [
       "     category  overall      reviewerID        asin  \\\n",
       "266    luxury      5.0  A24YNYNC6QJNBN  B002B4540O   \n",
       "1088   beauty      5.0  A245UNW3PI53NG  B0009RF9DW   \n",
       "488    luxury      4.0  A25QBCHO0KFT0P  B00B95PWYE   \n",
       "1087   beauty      5.0   A85ENSL5HBBZF  B0009RF9DW   \n",
       "1152   beauty      4.0  A25QBCHO0KFT0P  B0010ZBORW   \n",
       "\n",
       "                              filename  \\\n",
       "266   ./amazon_data\\luxury/13577_2.jpg   \n",
       "1088    ./amazon_data\\beauty/496_0.jpg   \n",
       "488   ./amazon_data\\luxury/21446_4.jpg   \n",
       "1087    ./amazon_data\\beauty/495_0.jpg   \n",
       "1152   ./amazon_data\\beauty/3194_0.jpg   \n",
       "\n",
       "                                              image_vec  prediction  \n",
       "266   [0.854530513, 1.85690045, 1.03045952, 0.185951...         5.0  \n",
       "1088  [1.13625371, 0.0897669867, 0.442607284, 1.3276...         5.0  \n",
       "488   [0.0355344117, 1.64337778, 0.0617780983, 0.030...         4.0  \n",
       "1087  [0.909579039, 0.423226923, 1.81325483, 0.23797...         5.0  \n",
       "1152  [1.35672057, 0.251046032, 1.97370028, 0.212662...         4.0  "
      ]
     },
     "execution_count": 49,
     "metadata": {},
     "output_type": "execute_result"
    }
   ],
   "source": [
    "test_df.head()"
   ]
  },
  {
   "cell_type": "code",
   "execution_count": 50,
   "metadata": {
    "colab": {
     "base_uri": "https://localhost:8080/"
    },
    "executionInfo": {
     "elapsed": 779,
     "status": "ok",
     "timestamp": 1611209295391,
     "user": {
      "displayName": "Jaewon Fastcampus",
      "photoUrl": "",
      "userId": "05122666633107220130"
     },
     "user_tz": -540
    },
    "id": "m35mkVE4jje2",
    "outputId": "9e8dc25b-18c7-4538-bc0e-5ee74a113dc6"
   },
   "outputs": [
    {
     "data": {
      "text/plain": [
       "category      163\n",
       "overall       163\n",
       "reviewerID    163\n",
       "asin          163\n",
       "filename      163\n",
       "image_vec     163\n",
       "prediction    163\n",
       "dtype: int64"
      ]
     },
     "execution_count": 50,
     "metadata": {},
     "output_type": "execute_result"
    }
   ],
   "source": [
    "test_df[test_df.overall == test_df.prediction].count()"
   ]
  },
  {
   "cell_type": "code",
   "execution_count": null,
   "metadata": {},
   "outputs": [],
   "source": []
  }
 ],
 "metadata": {
  "accelerator": "GPU",
  "colab": {
   "authorship_tag": "ABX9TyNGqpM+Owx9Lwb10LPogRnB",
   "collapsed_sections": [],
   "name": "02-나를 위한 추천 알고리즘-04-상품 이미지를 적용하여 추천알고리즘 실습하기.ipynb",
   "provenance": []
  },
  "kernelspec": {
   "display_name": "Python 3",
   "language": "python",
   "name": "python3"
  },
  "language_info": {
   "codemirror_mode": {
    "name": "ipython",
    "version": 3
   },
   "file_extension": ".py",
   "mimetype": "text/x-python",
   "name": "python",
   "nbconvert_exporter": "python",
   "pygments_lexer": "ipython3",
   "version": "3.8.8"
  },
  "widgets": {
   "application/vnd.jupyter.widget-state+json": {
    "0af3e96253344877928e73bef83d81c7": {
     "model_module": "@jupyter-widgets/base",
     "model_name": "LayoutModel",
     "state": {
      "_model_module": "@jupyter-widgets/base",
      "_model_module_version": "1.2.0",
      "_model_name": "LayoutModel",
      "_view_count": null,
      "_view_module": "@jupyter-widgets/base",
      "_view_module_version": "1.2.0",
      "_view_name": "LayoutView",
      "align_content": null,
      "align_items": null,
      "align_self": null,
      "border": null,
      "bottom": null,
      "display": null,
      "flex": null,
      "flex_flow": null,
      "grid_area": null,
      "grid_auto_columns": null,
      "grid_auto_flow": null,
      "grid_auto_rows": null,
      "grid_column": null,
      "grid_gap": null,
      "grid_row": null,
      "grid_template_areas": null,
      "grid_template_columns": null,
      "grid_template_rows": null,
      "height": null,
      "justify_content": null,
      "justify_items": null,
      "left": null,
      "margin": null,
      "max_height": null,
      "max_width": null,
      "min_height": null,
      "min_width": null,
      "object_fit": null,
      "object_position": null,
      "order": null,
      "overflow": null,
      "overflow_x": null,
      "overflow_y": null,
      "padding": null,
      "right": null,
      "top": null,
      "visibility": null,
      "width": null
     }
    },
    "199aa8cd10524ecd906b85a8edc13817": {
     "model_module": "@jupyter-widgets/controls",
     "model_name": "HTMLModel",
     "state": {
      "_dom_classes": [],
      "_model_module": "@jupyter-widgets/controls",
      "_model_module_version": "1.5.0",
      "_model_name": "HTMLModel",
      "_view_count": null,
      "_view_module": "@jupyter-widgets/controls",
      "_view_module_version": "1.5.0",
      "_view_name": "HTMLView",
      "description": "",
      "description_tooltip": null,
      "layout": "IPY_MODEL_0af3e96253344877928e73bef83d81c7",
      "placeholder": "​",
      "style": "IPY_MODEL_ada552b5ebcf4da086bebb41c6c376e6",
      "value": " 44.7M/44.7M [01:36&lt;00:00, 486kB/s]"
     }
    },
    "26c965f216a24574bef7422373ce14ed": {
     "model_module": "@jupyter-widgets/base",
     "model_name": "LayoutModel",
     "state": {
      "_model_module": "@jupyter-widgets/base",
      "_model_module_version": "1.2.0",
      "_model_name": "LayoutModel",
      "_view_count": null,
      "_view_module": "@jupyter-widgets/base",
      "_view_module_version": "1.2.0",
      "_view_name": "LayoutView",
      "align_content": null,
      "align_items": null,
      "align_self": null,
      "border": null,
      "bottom": null,
      "display": null,
      "flex": null,
      "flex_flow": null,
      "grid_area": null,
      "grid_auto_columns": null,
      "grid_auto_flow": null,
      "grid_auto_rows": null,
      "grid_column": null,
      "grid_gap": null,
      "grid_row": null,
      "grid_template_areas": null,
      "grid_template_columns": null,
      "grid_template_rows": null,
      "height": null,
      "justify_content": null,
      "justify_items": null,
      "left": null,
      "margin": null,
      "max_height": null,
      "max_width": null,
      "min_height": null,
      "min_width": null,
      "object_fit": null,
      "object_position": null,
      "order": null,
      "overflow": null,
      "overflow_x": null,
      "overflow_y": null,
      "padding": null,
      "right": null,
      "top": null,
      "visibility": null,
      "width": null
     }
    },
    "432a4065da914ca9b8306a0f48bc4ab8": {
     "model_module": "@jupyter-widgets/controls",
     "model_name": "FloatProgressModel",
     "state": {
      "_dom_classes": [],
      "_model_module": "@jupyter-widgets/controls",
      "_model_module_version": "1.5.0",
      "_model_name": "FloatProgressModel",
      "_view_count": null,
      "_view_module": "@jupyter-widgets/controls",
      "_view_module_version": "1.5.0",
      "_view_name": "ProgressView",
      "bar_style": "success",
      "description": "100%",
      "description_tooltip": null,
      "layout": "IPY_MODEL_26c965f216a24574bef7422373ce14ed",
      "max": 46827520,
      "min": 0,
      "orientation": "horizontal",
      "style": "IPY_MODEL_b4bb5825b1d4465c8bfc4bb87b9027a5",
      "value": 46827520
     }
    },
    "5f07252a6b944880b322344a2fd15728": {
     "model_module": "@jupyter-widgets/controls",
     "model_name": "HBoxModel",
     "state": {
      "_dom_classes": [],
      "_model_module": "@jupyter-widgets/controls",
      "_model_module_version": "1.5.0",
      "_model_name": "HBoxModel",
      "_view_count": null,
      "_view_module": "@jupyter-widgets/controls",
      "_view_module_version": "1.5.0",
      "_view_name": "HBoxView",
      "box_style": "",
      "children": [
       "IPY_MODEL_432a4065da914ca9b8306a0f48bc4ab8",
       "IPY_MODEL_199aa8cd10524ecd906b85a8edc13817"
      ],
      "layout": "IPY_MODEL_a68a0c8d086640f78dfb53200b404eaf"
     }
    },
    "a68a0c8d086640f78dfb53200b404eaf": {
     "model_module": "@jupyter-widgets/base",
     "model_name": "LayoutModel",
     "state": {
      "_model_module": "@jupyter-widgets/base",
      "_model_module_version": "1.2.0",
      "_model_name": "LayoutModel",
      "_view_count": null,
      "_view_module": "@jupyter-widgets/base",
      "_view_module_version": "1.2.0",
      "_view_name": "LayoutView",
      "align_content": null,
      "align_items": null,
      "align_self": null,
      "border": null,
      "bottom": null,
      "display": null,
      "flex": null,
      "flex_flow": null,
      "grid_area": null,
      "grid_auto_columns": null,
      "grid_auto_flow": null,
      "grid_auto_rows": null,
      "grid_column": null,
      "grid_gap": null,
      "grid_row": null,
      "grid_template_areas": null,
      "grid_template_columns": null,
      "grid_template_rows": null,
      "height": null,
      "justify_content": null,
      "justify_items": null,
      "left": null,
      "margin": null,
      "max_height": null,
      "max_width": null,
      "min_height": null,
      "min_width": null,
      "object_fit": null,
      "object_position": null,
      "order": null,
      "overflow": null,
      "overflow_x": null,
      "overflow_y": null,
      "padding": null,
      "right": null,
      "top": null,
      "visibility": null,
      "width": null
     }
    },
    "ada552b5ebcf4da086bebb41c6c376e6": {
     "model_module": "@jupyter-widgets/controls",
     "model_name": "DescriptionStyleModel",
     "state": {
      "_model_module": "@jupyter-widgets/controls",
      "_model_module_version": "1.5.0",
      "_model_name": "DescriptionStyleModel",
      "_view_count": null,
      "_view_module": "@jupyter-widgets/base",
      "_view_module_version": "1.2.0",
      "_view_name": "StyleView",
      "description_width": ""
     }
    },
    "b4bb5825b1d4465c8bfc4bb87b9027a5": {
     "model_module": "@jupyter-widgets/controls",
     "model_name": "ProgressStyleModel",
     "state": {
      "_model_module": "@jupyter-widgets/controls",
      "_model_module_version": "1.5.0",
      "_model_name": "ProgressStyleModel",
      "_view_count": null,
      "_view_module": "@jupyter-widgets/base",
      "_view_module_version": "1.2.0",
      "_view_name": "StyleView",
      "bar_color": null,
      "description_width": "initial"
     }
    }
   }
  }
 },
 "nbformat": 4,
 "nbformat_minor": 1
}
