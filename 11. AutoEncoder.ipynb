{
 "cells": [
  {
   "cell_type": "markdown",
   "metadata": {
    "id": "1hRxU0XceJ7T"
   },
   "source": [
    "# AutoEncoder Meet Collaborative Filtering\n",
    "\n",
    "- Collaborative Filtering을 위해 user-item matrix 만들기\n",
    "- AutoEncoder 모델 구조 정의하기\n",
    "\n",
    "* Training Deep AutoEncoder 논문은 [저자 코드](https://github.com/NVIDIA/DeepRecommender) 참고"
   ]
  },
  {
   "cell_type": "markdown",
   "metadata": {
    "id": "pDXlMV8Y60jX"
   },
   "source": [
    "## 논문 종류\n",
    "- AutoRec\n",
    "- Training Deep AutoEncoder\n",
    "- Variational AutoEncoder"
   ]
  },
  {
   "cell_type": "code",
   "execution_count": 1,
   "metadata": {
    "executionInfo": {
     "elapsed": 5865,
     "status": "ok",
     "timestamp": 1610360075331,
     "user": {
      "displayName": "Jaewon Fastcampus",
      "photoUrl": "",
      "userId": "05122666633107220130"
     },
     "user_tz": -540
    },
    "id": "Sjh9_2K42mr_"
   },
   "outputs": [],
   "source": [
    "import torch\n",
    "from torch.utils.data import Dataset, DataLoader\n",
    "import pandas as pd\n",
    "import os\n",
    "from sklearn.model_selection import train_test_split\n",
    "import numpy as np"
   ]
  },
  {
   "cell_type": "code",
   "execution_count": 2,
   "metadata": {
    "executionInfo": {
     "elapsed": 1079,
     "status": "ok",
     "timestamp": 1610360168695,
     "user": {
      "displayName": "Jaewon Fastcampus",
      "photoUrl": "",
      "userId": "05122666633107220130"
     },
     "user_tz": -540
    },
    "id": "VapCgQaG392F"
   },
   "outputs": [],
   "source": [
    "def read_data(data_path):\n",
    "    df = pd.read_csv(os.path.join(data_path,'ratings.csv'))[:10000]\n",
    "    train_df, val_df = train_test_split(df, test_size=0.2, random_state=1234, shuffle=True)\n",
    "\n",
    "    user_to_index = {original: idx for idx, original in enumerate(df.userId.unique())}\n",
    "    movie_to_index = {original: idx for idx, original in enumerate(df.movieId.unique())}\n",
    "\n",
    "    return train_df, val_df, user_to_index, movie_to_index"
   ]
  },
  {
   "cell_type": "code",
   "execution_count": 3,
   "metadata": {
    "executionInfo": {
     "elapsed": 977,
     "status": "ok",
     "timestamp": 1610360365019,
     "user": {
      "displayName": "Jaewon Fastcampus",
      "photoUrl": "",
      "userId": "05122666633107220130"
     },
     "user_tz": -540
    },
    "id": "HQsVo6HT2zKl"
   },
   "outputs": [],
   "source": [
    "class KMRDdataset(Dataset):\n",
    "    def __init__(self, df, user_to_index, movie_to_index, item_based=True):\n",
    "        self.min_rating = min(df.rating)\n",
    "        self.max_rating = max(df.rating)\n",
    "\n",
    "        self.user = [user_to_index[u] for u in df.userId.values]\n",
    "        self.movie = [movie_to_index[m] for m in df.movieId.values]\n",
    "        self.rating = df.rating.values\n",
    "\n",
    "        if item_based:\n",
    "            input_tensor = torch.LongTensor([self.movie, self.user])\n",
    "            self.data = torch.sparse.FloatTensor(input_tensor, torch.FloatTensor(self.rating),\n",
    "                                             torch.Size([len(movie_to_index), len(user_to_index)])).to_dense()\n",
    "        else:\n",
    "            input_tensor = torch.LongTensor([self.user, self.movie])\n",
    "            self.data = torch.sparse.FloatTensor(input_tensor, torch.FloatTensor(self.rating),\n",
    "                                             torch.Size([len(user_to_index), len(movie_to_index)])).to_dense()\n",
    "\n",
    "\n",
    "    def __len__(self):\n",
    "        return len(self.data)\n",
    "    \n",
    "    def __getitem__(self, idx):\n",
    "        return self.data[idx]"
   ]
  },
  {
   "cell_type": "code",
   "execution_count": 4,
   "metadata": {
    "executionInfo": {
     "elapsed": 1864,
     "status": "ok",
     "timestamp": 1610360373011,
     "user": {
      "displayName": "Jaewon Fastcampus",
      "photoUrl": "",
      "userId": "05122666633107220130"
     },
     "user_tz": -540
    },
    "id": "l6PFQI_T4BWC"
   },
   "outputs": [],
   "source": [
    "data_path = \"./movielens_data\"\n",
    "train_df, val_df, user_to_index, movie_to_index = read_data(data_path=data_path)"
   ]
  },
  {
   "cell_type": "code",
   "execution_count": 5,
   "metadata": {
    "executionInfo": {
     "elapsed": 691,
     "status": "ok",
     "timestamp": 1610360404278,
     "user": {
      "displayName": "Jaewon Fastcampus",
      "photoUrl": "",
      "userId": "05122666633107220130"
     },
     "user_tz": -540
    },
    "id": "tg4kGTuA7EYx",
    "scrolled": false
   },
   "outputs": [],
   "source": [
    "train_dataset = KMRDdataset(train_df, user_to_index, movie_to_index)\n",
    "val_dataset = KMRDdataset(val_df, user_to_index, movie_to_index)"
   ]
  },
  {
   "cell_type": "code",
   "execution_count": 6,
   "metadata": {
    "colab": {
     "base_uri": "https://localhost:8080/"
    },
    "executionInfo": {
     "elapsed": 1426,
     "status": "ok",
     "timestamp": 1610360420941,
     "user": {
      "displayName": "Jaewon Fastcampus",
      "photoUrl": "",
      "userId": "05122666633107220130"
     },
     "user_tz": -540
    },
    "id": "af7ltEfi8fvU",
    "outputId": "1c397368-2d08-4fe5-e1db-3f7a04596fb1"
   },
   "outputs": [
    {
     "name": "stdout",
     "output_type": "stream",
     "text": [
      "(8000, 4)\n"
     ]
    }
   ],
   "source": [
    "print(train_df.shape)"
   ]
  },
  {
   "cell_type": "code",
   "execution_count": 7,
   "metadata": {},
   "outputs": [
    {
     "name": "stdout",
     "output_type": "stream",
     "text": [
      "torch.Size([66])\n"
     ]
    }
   ],
   "source": [
    "print(train_dataset.data[0].size())"
   ]
  },
  {
   "cell_type": "code",
   "execution_count": 8,
   "metadata": {},
   "outputs": [
    {
     "name": "stdout",
     "output_type": "stream",
     "text": [
      "(2000, 4)\n"
     ]
    }
   ],
   "source": [
    "print(val_df.shape)"
   ]
  },
  {
   "cell_type": "code",
   "execution_count": 9,
   "metadata": {},
   "outputs": [
    {
     "name": "stdout",
     "output_type": "stream",
     "text": [
      "torch.Size([66])\n"
     ]
    }
   ],
   "source": [
    "print(val_dataset.data[0].size())"
   ]
  },
  {
   "cell_type": "code",
   "execution_count": 10,
   "metadata": {
    "colab": {
     "base_uri": "https://localhost:8080/"
    },
    "executionInfo": {
     "elapsed": 643,
     "status": "ok",
     "timestamp": 1610360512384,
     "user": {
      "displayName": "Jaewon Fastcampus",
      "photoUrl": "",
      "userId": "05122666633107220130"
     },
     "user_tz": -540
    },
    "id": "BUbaBsqX9o-F",
    "outputId": "2248d9c4-a2e5-446d-898f-25608130bdf0"
   },
   "outputs": [
    {
     "name": "stdout",
     "output_type": "stream",
     "text": [
      "66\n"
     ]
    }
   ],
   "source": [
    "print(len(list(user_to_index.keys())))"
   ]
  },
  {
   "cell_type": "code",
   "execution_count": 11,
   "metadata": {
    "id": "N9cK9qRk9-cw",
    "scrolled": true
   },
   "outputs": [
    {
     "data": {
      "text/plain": [
       "tensor([0.0000, 0.0000, 0.0000, 0.0000, 0.0000, 0.0000, 4.5000, 0.0000, 0.0000,\n",
       "        0.0000, 0.0000, 0.0000, 0.0000, 0.0000, 2.5000, 0.0000, 4.5000, 0.0000,\n",
       "        0.0000, 0.0000, 3.5000, 0.0000, 0.0000, 0.0000, 0.0000, 0.0000, 3.0000,\n",
       "        0.0000, 0.0000, 0.0000, 5.0000, 3.0000, 0.0000, 0.0000, 0.0000, 0.0000,\n",
       "        0.0000, 0.0000, 0.0000, 5.0000, 0.0000, 0.0000, 0.0000, 3.0000, 0.0000,\n",
       "        0.0000, 0.0000, 0.0000, 0.0000, 3.0000, 0.0000, 0.0000, 0.0000, 3.0000,\n",
       "        0.0000, 0.0000, 5.0000, 0.0000, 0.0000, 0.0000, 0.0000, 0.0000, 5.0000,\n",
       "        4.0000, 0.0000, 4.0000])"
      ]
     },
     "execution_count": 11,
     "metadata": {},
     "output_type": "execute_result"
    }
   ],
   "source": [
    "train_dataset.data[0]"
   ]
  },
  {
   "cell_type": "code",
   "execution_count": 12,
   "metadata": {
    "executionInfo": {
     "elapsed": 657,
     "status": "ok",
     "timestamp": 1610360594702,
     "user": {
      "displayName": "Jaewon Fastcampus",
      "photoUrl": "",
      "userId": "05122666633107220130"
     },
     "user_tz": -540
    },
    "id": "UdVN39PZ9KTW"
   },
   "outputs": [],
   "source": [
    "train_dataloader = DataLoader(train_dataset, batch_size=64, shuffle=True)\n",
    "val_dataloader = DataLoader(val_dataset, batch_size=16, shuffle=True)"
   ]
  },
  {
   "cell_type": "code",
   "execution_count": 13,
   "metadata": {
    "executionInfo": {
     "elapsed": 668,
     "status": "ok",
     "timestamp": 1610360629681,
     "user": {
      "displayName": "Jaewon Fastcampus",
      "photoUrl": "",
      "userId": "05122666633107220130"
     },
     "user_tz": -540
    },
    "id": "ZNIslGCBesxV"
   },
   "outputs": [],
   "source": [
    "# Define AutoEncoder \n",
    "\n",
    "import numpy as np\n",
    "import pandas as pd\n",
    "import torch\n",
    "import torch.nn as nn\n",
    "import torch.nn.parallel\n",
    "import torch.optim as optim\n",
    "import torch.utils.data\n",
    "from torch.autograd import Variable\n",
    "import torch.nn.init as weight_init"
   ]
  },
  {
   "cell_type": "code",
   "execution_count": 14,
   "metadata": {
    "executionInfo": {
     "elapsed": 785,
     "status": "ok",
     "timestamp": 1610361427612,
     "user": {
      "displayName": "Jaewon Fastcampus",
      "photoUrl": "",
      "userId": "05122666633107220130"
     },
     "user_tz": -540
    },
    "id": "PLB11LGtCqpc"
   },
   "outputs": [],
   "source": [
    "class SimpleAutoEncoder(nn.Module):\n",
    "    def __init__(self, num_inputs, num_hiddens, kind='sigmoid', dropout=None):\n",
    "        super(SimpleAutoEncoder, self).__init__()\n",
    "        # encoder -> hidden -> decoder\n",
    "        # input -> hidden -> output\n",
    "        # input -> hidden : encoder\n",
    "        # hidden -> output = input : decoder\n",
    "        self.encoder = nn.Sequential(nn.Linear(num_inputs, num_hiddens), self.activation(kind))\n",
    "        self.decoder = nn.Sequential(nn.Linear(num_hiddens, num_inputs), self.activation(kind))  \n",
    "\n",
    "    def activation(self, kind):\n",
    "        if kind == 'selu':\n",
    "            return nn.SELU()\n",
    "        elif kind == 'relu':\n",
    "            return nn.ReLU()\n",
    "        elif kind == 'relu6':\n",
    "            return nn.ReLU6()\n",
    "        elif kind == 'sigmoid':\n",
    "            return nn.Sigmoid()\n",
    "        elif kind == 'tanh':\n",
    "            return nn.Tanh()\n",
    "        elif kind == 'elu':\n",
    "            return nn.ELU()\n",
    "        elif kind == 'lrelu':\n",
    "            return nn.LeakyReLU()\n",
    "        elif kind == 'none':\n",
    "            return input\n",
    "        else:\n",
    "            raise ValueError('Unknown non-linearity type')\n",
    "\n",
    "    def forward(self, x):\n",
    "        return self.decoder(self.encoder(x))"
   ]
  },
  {
   "cell_type": "code",
   "execution_count": 15,
   "metadata": {
    "id": "cB24ZmTNkX4Y"
   },
   "outputs": [],
   "source": [
    "class DeepAutoEncoder(nn.Module):\n",
    "    def __init__(self, num_hiddens, num_layers, dropout=None, nn_type='diamond'):\n",
    "        super(AutoEncoder, self).__init__()\n",
    "        # input -> hidden -> output\n",
    "        # input -> hidden(10) -> ... -> hidden(10) -> output = input\n",
    "        self.encoder, self.decoder = self.generate_layers(num_hiddens, num_layers, dropout, nn_type)\n",
    "  \n",
    "    def forward(self, x):\n",
    "        return self.decoder(self.encoder(x))\n",
    "  \n",
    "    def generate_layers(self, num_hiddens, num_layers, dropout=None, nn_type='diamond'):\n",
    "        # hidden layers -> [50, 25, 12, 6, 12, 25, 50], [100 50 100] -> 100, 50, 60, 50 100 \n",
    "        if nn_type == 'diamond':\n",
    "            encoder_modules = []\n",
    "            decoder_modules = []\n",
    "\n",
    "            hidden_layers = []\n",
    "            temp = num_hiddens\n",
    "            for idx, x in enumerate(range(num_layers)):\n",
    "                if idx == 0:\n",
    "                    hidden_layers.append(temp)\n",
    "                else:\n",
    "                    hidden_layers.append(int(temp/2))\n",
    "                temp = temp/2\n",
    "            hidden_layers = [x for x in hidden_layers if x > 10]\n",
    "      \n",
    "        # encoder\n",
    "        for idx, num_hidden in enumerate(hidden_layers):\n",
    "            if idx < len(hidden_layers)-1:\n",
    "                encoder_modules.append(nn.Linear(hidden_layers[idx], hidden_layers[idx+1], bias=True))\n",
    "                encoder_modules.append(nn.Sigmoid())\n",
    "\n",
    "        # decoder\n",
    "        hidden_layers = list(reversed(hidden_layers))\n",
    "        for idx, num_hidden in enumerate(hidden_layers):\n",
    "            if idx < len(hidden_layers)-1:\n",
    "                decoder_modules.append(nn.Linear(hidden_layers[idx], hidden_layers[idx+1], bias=True))\n",
    "                decoder_modules.append(nn.Identity())\n",
    "\n",
    "            # num_hidden = 50, num_layers = 3 ->  input_dim -> [50, 50, 50] -> output_dim = input_dim \n",
    "            elif nn_type == 'constant':\n",
    "                hidden_layers = [num_hiddens] * num_layers\n",
    "                for idx, enc in enumerate(hidden_layers):\n",
    "                    if idx < num_layers-1:\n",
    "                        encoder_modules.append(nn.Linear(hidden_layers[idx], hidden_layers[idx+1], bias=True))\n",
    "                        encoder_modules.append(nn.Sigmoid())\n",
    "                        decoder_modules.append(nn.Linear(hidden_layers[idx], hidden_layers[idx+1], bias=True))\n",
    "                        decoder_modules.append(nn.Identity())\n",
    "\n",
    "        if dropout is not None:    \n",
    "            encoder_modules = [x for y in (encoder_modules[i:i+2] + [nn.Dropout(dropout)] * (i < len(encoder_modules) - 1) \n",
    "                              for i in range(0, len(encoder_modules), 2)) for x in y]\n",
    "            decoder_modules = [x for y in (decoder_modules[i:i+2] + [nn.Dropout(dropout)] * (i < len(decoder_modules) - 1)\n",
    "                              for i in range(0, len(decoder_modules), 2)) for x in y]\n",
    "\n",
    "        encoder = nn.Sequential(*encoder_modules)\n",
    "        decoder = nn.Sequential(*decoder_modules)\n",
    "\n",
    "        return encoder, decoder"
   ]
  },
  {
   "cell_type": "markdown",
   "metadata": {
    "id": "qs3Vhx329WWf"
   },
   "source": [
    "## Train"
   ]
  },
  {
   "cell_type": "code",
   "execution_count": 16,
   "metadata": {
    "colab": {
     "base_uri": "https://localhost:8080/"
    },
    "executionInfo": {
     "elapsed": 725,
     "status": "ok",
     "timestamp": 1610361403891,
     "user": {
      "displayName": "Jaewon Fastcampus",
      "photoUrl": "",
      "userId": "05122666633107220130"
     },
     "user_tz": -540
    },
    "id": "0yT4duFy9tKl",
    "outputId": "858e843f-6094-452a-b464-0d60014499ed"
   },
   "outputs": [
    {
     "name": "stdout",
     "output_type": "stream",
     "text": [
      "66 3218\n"
     ]
    }
   ],
   "source": [
    "num_users = len(user_to_index.keys())\n",
    "num_movies = len(movie_to_index.keys())\n",
    "print(num_users, num_movies)"
   ]
  },
  {
   "cell_type": "code",
   "execution_count": 17,
   "metadata": {
    "colab": {
     "base_uri": "https://localhost:8080/"
    },
    "executionInfo": {
     "elapsed": 914,
     "status": "ok",
     "timestamp": 1610361431364,
     "user": {
      "displayName": "Jaewon Fastcampus",
      "photoUrl": "",
      "userId": "05122666633107220130"
     },
     "user_tz": -540
    },
    "id": "iHRCKWme9orW",
    "outputId": "4053c33b-d61a-4d31-f051-881aa6da9918"
   },
   "outputs": [],
   "source": [
    "model = SimpleAutoEncoder(num_inputs=num_users, num_hiddens=100, kind='selu')"
   ]
  },
  {
   "cell_type": "code",
   "execution_count": 18,
   "metadata": {},
   "outputs": [
    {
     "data": {
      "text/plain": [
       "SimpleAutoEncoder(\n",
       "  (encoder): Sequential(\n",
       "    (0): Linear(in_features=66, out_features=100, bias=True)\n",
       "    (1): SELU()\n",
       "  )\n",
       "  (decoder): Sequential(\n",
       "    (0): Linear(in_features=100, out_features=66, bias=True)\n",
       "    (1): SELU()\n",
       "  )\n",
       ")"
      ]
     },
     "execution_count": 18,
     "metadata": {},
     "output_type": "execute_result"
    }
   ],
   "source": [
    "model"
   ]
  },
  {
   "cell_type": "code",
   "execution_count": 19,
   "metadata": {
    "executionInfo": {
     "elapsed": 1116,
     "status": "ok",
     "timestamp": 1610361447450,
     "user": {
      "displayName": "Jaewon Fastcampus",
      "photoUrl": "",
      "userId": "05122666633107220130"
     },
     "user_tz": -540
    },
    "id": "Kaoj5YWz9jQ7"
   },
   "outputs": [],
   "source": [
    "optimizer = optim.Adam(model.parameters(), lr=1e-3)"
   ]
  },
  {
   "cell_type": "code",
   "execution_count": 20,
   "metadata": {
    "colab": {
     "base_uri": "https://localhost:8080/"
    },
    "executionInfo": {
     "elapsed": 830,
     "status": "ok",
     "timestamp": 1610361465952,
     "user": {
      "displayName": "Jaewon Fastcampus",
      "photoUrl": "",
      "userId": "05122666633107220130"
     },
     "user_tz": -540
    },
    "id": "iNw873Wyxh3H",
    "outputId": "1a777543-0bc6-4b6d-ece6-58fa0f2f1020"
   },
   "outputs": [
    {
     "data": {
      "text/plain": [
       "SimpleAutoEncoder(\n",
       "  (encoder): Sequential(\n",
       "    (0): Linear(in_features=66, out_features=100, bias=True)\n",
       "    (1): SELU()\n",
       "  )\n",
       "  (decoder): Sequential(\n",
       "    (0): Linear(in_features=100, out_features=66, bias=True)\n",
       "    (1): SELU()\n",
       "  )\n",
       ")"
      ]
     },
     "execution_count": 20,
     "metadata": {},
     "output_type": "execute_result"
    }
   ],
   "source": [
    "def weights_init(m):\n",
    "    if isinstance(m, nn.Linear):\n",
    "        torch.nn.init.xavier_uniform_(m.weight)\n",
    "        torch.nn.init.zeros_(m.bias)\n",
    "\n",
    "model.apply(weights_init)"
   ]
  },
  {
   "cell_type": "code",
   "execution_count": 21,
   "metadata": {
    "colab": {
     "base_uri": "https://localhost:8080/"
    },
    "executionInfo": {
     "elapsed": 864,
     "status": "ok",
     "timestamp": 1610361470450,
     "user": {
      "displayName": "Jaewon Fastcampus",
      "photoUrl": "",
      "userId": "05122666633107220130"
     },
     "user_tz": -540
    },
    "id": "q9z-ujtJG9jB",
    "outputId": "a53016bb-29f1-4bc3-b950-1d1f6e6fca3c"
   },
   "outputs": [
    {
     "data": {
      "text/plain": [
       "torch.Size([66])"
      ]
     },
     "execution_count": 21,
     "metadata": {},
     "output_type": "execute_result"
    }
   ],
   "source": [
    "train_dataset.data[0].size()"
   ]
  },
  {
   "cell_type": "code",
   "execution_count": 22,
   "metadata": {
    "executionInfo": {
     "elapsed": 718,
     "status": "ok",
     "timestamp": 1610361496749,
     "user": {
      "displayName": "Jaewon Fastcampus",
      "photoUrl": "",
      "userId": "05122666633107220130"
     },
     "user_tz": -540
    },
    "id": "ofyyZ2wfH7df"
   },
   "outputs": [],
   "source": [
    "# NVIDIA Recommender System 참고\n",
    "def MSEloss(inputs, targets, size_average=False):\n",
    "    mask = targets != 0\n",
    "    num_ratings = torch.sum(mask.float())\n",
    "    criterion = nn.MSELoss(reduction='sum' if not size_average else 'mean')\n",
    "    return criterion(inputs * mask.float(), targets), Variable(torch.Tensor([1.0])) if size_average else num_ratings"
   ]
  },
  {
   "cell_type": "code",
   "execution_count": 23,
   "metadata": {
    "colab": {
     "base_uri": "https://localhost:8080/"
    },
    "executionInfo": {
     "elapsed": 683,
     "status": "ok",
     "timestamp": 1610361499374,
     "user": {
      "displayName": "Jaewon Fastcampus",
      "photoUrl": "",
      "userId": "05122666633107220130"
     },
     "user_tz": -540
    },
    "id": "YSgwkLYZ-kkt",
    "outputId": "12f99b54-c29d-4487-d7a1-9de88f823efe"
   },
   "outputs": [
    {
     "name": "stdout",
     "output_type": "stream",
     "text": [
      "4.024050712585449\n",
      "4.010781645774841\n",
      "3.956714391708374\n",
      "3.8927645683288574\n",
      "3.880780792236328\n",
      "3.845703919728597\n",
      "3.7725095067705428\n",
      "3.752323567867279\n",
      "3.7041617499457464\n",
      "3.64604172706604\n",
      "3.6220582831989634\n",
      "3.5898364384969077\n",
      "3.5707243405855618\n",
      "3.5313898665564403\n",
      "3.508512608210246\n",
      "3.4756292700767517\n",
      "3.4389257150537826\n",
      "3.4042499197853937\n",
      "3.3710322631032845\n",
      "3.3382113456726072\n",
      "3.3031790483565557\n",
      "3.267450896176425\n",
      "3.238255604453709\n",
      "3.2088656524817147\n",
      "3.1777984619140627\n",
      "3.142748548434331\n",
      "3.1107908884684243\n",
      "3.0821524943624223\n",
      "3.0558417583334037\n",
      "3.023597478866577\n",
      "2.9953775790429886\n",
      "2.966559872031212\n",
      "2.941505034764608\n",
      "2.9103665001252117\n",
      "2.8823345388684953\n",
      "2.8551771177185907\n",
      "2.8272660068563513\n",
      "2.798488560475801\n",
      "2.7735295540247207\n",
      "2.7432249635457993\n",
      "2.7248581211741376\n",
      "2.6977702492759343\n",
      "2.674365531566531\n",
      "2.6482171687212857\n",
      "2.6214652909172904\n",
      "2.5964838214542554\n",
      "2.573346011182095\n",
      "2.5493355616927147\n",
      "2.5237045020473245\n",
      "2.5004734349250795\n",
      "2.4720824395909027\n"
     ]
    }
   ],
   "source": [
    "model.train()\n",
    "train_loss = 0\n",
    "for idx, batch in enumerate(train_dataloader):\n",
    "    optimizer.zero_grad()\n",
    "    \n",
    "    pred = model(batch)\n",
    "    loss, num_ratings = MSEloss(pred, batch)    \n",
    "    loss = torch.sqrt(loss / num_ratings)\n",
    "    loss.backward()\n",
    "    train_loss += loss.item() \n",
    "    optimizer.step()\n",
    "    \n",
    "    print(train_loss / (idx+1))"
   ]
  },
  {
   "cell_type": "code",
   "execution_count": 24,
   "metadata": {
    "colab": {
     "base_uri": "https://localhost:8080/"
    },
    "executionInfo": {
     "elapsed": 651,
     "status": "ok",
     "timestamp": 1610361606220,
     "user": {
      "displayName": "Jaewon Fastcampus",
      "photoUrl": "",
      "userId": "05122666633107220130"
     },
     "user_tz": -540
    },
    "id": "451VvDfaF_V5",
    "outputId": "a6740018-b1d0-431f-ec49-991fbf42efc5"
   },
   "outputs": [
    {
     "name": "stdout",
     "output_type": "stream",
     "text": [
      "1.1498407125473022\n",
      "1.8348398804664612\n",
      "1.5521109700202942\n",
      "1.5600093454122543\n",
      "1.545199453830719\n",
      "1.4390999674797058\n",
      "1.4158827747617448\n",
      "1.3357869535684586\n",
      "1.3081312312020197\n",
      "1.4065138220787048\n",
      "1.3272842981598594\n",
      "1.2593594590822856\n",
      "1.2459863424301147\n",
      "1.2468439851488387\n",
      "1.2769152561823527\n",
      "1.2514952756464481\n",
      "1.2594050835160648\n",
      "1.2560493979189131\n",
      "1.264278270696339\n",
      "1.2664989322423934\n",
      "1.278817287513188\n",
      "1.2852870469743556\n",
      "1.2635453809862551\n",
      "1.281140349805355\n",
      "1.2583775877952577\n",
      "1.2950109495566442\n",
      "1.2987424113132335\n",
      "1.31492951299463\n",
      "1.3304651544011872\n",
      "1.4231683909893036\n",
      "1.424634946930793\n",
      "1.427579464390874\n",
      "1.3983940879503887\n",
      "1.3964334393248838\n",
      "1.379056474140712\n",
      "1.3729548354943593\n",
      "1.3812375229758185\n",
      "1.3845880721744739\n",
      "1.3926495680442224\n",
      "1.3938040524721145\n",
      "1.3990221168936752\n",
      "1.3872689306735992\n",
      "1.392296243545621\n",
      "1.3924040320244702\n",
      "1.3895098355081346\n",
      "1.3861660089181818\n",
      "1.3829819686869358\n",
      "1.3829962275922298\n",
      "1.374077400382684\n",
      "1.3728268909454346\n",
      "1.3665214823741538\n",
      "1.3556962517591624\n",
      "1.3548865093375153\n",
      "1.3616988592677646\n",
      "1.3547708153724671\n",
      "1.3547921191368784\n",
      "1.3552737330135547\n",
      "1.3439923843433117\n",
      "1.3460081219673157\n",
      "1.3382686396439871\n",
      "1.3350744130181484\n",
      "1.3299823057266973\n",
      "1.3283991908270216\n",
      "1.3346811905503273\n",
      "1.3415689890201274\n",
      "1.3417328722549207\n",
      "1.346049456454035\n",
      "1.3400364448042477\n",
      "1.3485183042028677\n",
      "1.3500720194407871\n",
      "1.3486662616192455\n",
      "1.3480281631151836\n",
      "1.351134662758814\n",
      "1.3491232975109204\n",
      "1.3461635128657023\n",
      "1.349353878121627\n",
      "1.3446479625516123\n",
      "1.3491399601483955\n",
      "1.3449396958834008\n",
      "1.3460185892879963\n",
      "1.3472941238203167\n",
      "1.3484351438720052\n",
      "1.3459236399236931\n",
      "1.3455970180886132\n",
      "1.3510614500326268\n",
      "1.3597085829391036\n",
      "1.354973554611206\n",
      "1.3545663939280943\n",
      "1.3538812773950983\n",
      "1.3542353087001378\n",
      "1.3576307191953554\n",
      "1.3521288315887037\n",
      "1.3520610505534756\n",
      "1.3443859042005335\n",
      "1.3421748776184885\n",
      "1.3439006234208744\n",
      "1.343142407456624\n",
      "1.3476481425518891\n",
      "1.3485888700292568\n",
      "1.3508629155158998\n",
      "1.354084554285106\n",
      "1.3524051787806493\n",
      "1.3542401617013136\n",
      "1.3462365160767849\n",
      "1.3552946119081406\n",
      "1.351060538359408\n",
      "1.3507339748266702\n",
      "1.3575430595212512\n",
      "1.358869039137429\n",
      "1.3551054911179976\n",
      "1.3485649185137705\n",
      "1.3495596769664968\n",
      "1.3481631242068468\n",
      "1.351499253720568\n",
      "1.351134773440983\n",
      "1.3454125944910378\n",
      "1.346997290594965\n",
      "1.342259616164838\n",
      "1.342708050703802\n",
      "1.3470757961273194\n",
      "1.3491637026968082\n",
      "1.3501188442355296\n",
      "1.3489971451643037\n",
      "1.3490252225629744\n",
      "1.350345440864563\n",
      "1.3514123294088576\n",
      "1.3517583937156858\n",
      "1.3554521007463336\n",
      "1.3573591200880302\n",
      "1.3543440892146184\n",
      "1.3489365582247728\n",
      "1.345628615581628\n",
      "1.3449660781630897\n",
      "1.3418061470807487\n",
      "1.3388222266126562\n",
      "1.3391688347739332\n",
      "1.3397612436844484\n",
      "1.3416761760262474\n",
      "1.3419598928458398\n",
      "1.334889031946659\n",
      "1.3346956560374996\n",
      "1.3358025792199122\n",
      "1.3358548977575102\n",
      "1.3344327391435702\n",
      "1.3385568962014955\n",
      "1.3396696519770035\n",
      "1.342811606165503\n",
      "1.3392372874392044\n",
      "1.3332562030561819\n",
      "1.333193694750468\n",
      "1.330691746528575\n",
      "1.3308098763227463\n",
      "1.3318655475292331\n",
      "1.3325919098668284\n",
      "1.3355256088318364\n",
      "1.3313935570991957\n",
      "1.3285207938236796\n",
      "1.32496510804454\n",
      "1.3324287410052318\n",
      "1.330614384263754\n",
      "1.333293118091844\n",
      "1.333613282368507\n",
      "1.330321413607685\n",
      "1.3319022815401962\n",
      "1.335644956068559\n",
      "1.33295232021665\n",
      "1.3376227984885256\n",
      "1.3386519668357713\n",
      "1.3395560299151041\n",
      "1.3446240933502422\n",
      "1.3436754980282477\n",
      "1.342519729982975\n",
      "1.3410616930509578\n",
      "1.3415108991080318\n",
      "1.3389367723464967\n",
      "1.3416427292607047\n",
      "1.3417519357918346\n",
      "1.3392566703678517\n",
      "1.338826155529342\n",
      "1.339268559217453\n",
      "1.3382999949692362\n",
      "1.3379120394423767\n",
      "1.33860052153061\n",
      "1.3397982930359633\n",
      "1.340781657115833\n",
      "1.3426197824939605\n",
      "1.3418851670096903\n",
      "1.3437234873467303\n",
      "1.3448740925107683\n",
      "1.344544015432659\n",
      "1.3447659458789525\n",
      "1.3434253620604675\n",
      "1.345606657507506\n",
      "1.3447956731638957\n",
      "1.3431412513439471\n",
      "1.343794612860193\n",
      "1.3437682698825895\n",
      "1.3464297393355706\n",
      "1.3450506074943733\n",
      "1.3421269077062608\n",
      "1.3428417829731805\n",
      "1.348654857956537\n"
     ]
    }
   ],
   "source": [
    "model.eval()\n",
    "val_loss = 0\n",
    "with torch.no_grad():\n",
    "    for idx, batch in enumerate(val_dataloader):\n",
    "        pred = model(batch)\n",
    "        loss, num_ratings = MSEloss(pred, batch)\n",
    "        loss = torch.sqrt(loss / num_ratings)\n",
    "        val_loss += loss.item()\n",
    "\n",
    "        print(val_loss/(idx+1))"
   ]
  }
 ],
 "metadata": {
  "accelerator": "GPU",
  "colab": {
   "authorship_tag": "ABX9TyOPxeRhF7TdmBALfcM4BE/8",
   "collapsed_sections": [],
   "name": "01-딥러닝과 추천알고리즘-11-AutoEncoder Meet Collaborative Filtering 실습.ipynb",
   "provenance": [],
   "toc_visible": true
  },
  "kernelspec": {
   "display_name": "Python 3",
   "language": "python",
   "name": "python3"
  },
  "language_info": {
   "codemirror_mode": {
    "name": "ipython",
    "version": 3
   },
   "file_extension": ".py",
   "mimetype": "text/x-python",
   "name": "python",
   "nbconvert_exporter": "python",
   "pygments_lexer": "ipython3",
   "version": "3.8.8"
  }
 },
 "nbformat": 4,
 "nbformat_minor": 1
}
